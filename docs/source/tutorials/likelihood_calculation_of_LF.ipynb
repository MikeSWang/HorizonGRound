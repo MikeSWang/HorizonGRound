{
 "cells": [
  {
   "cell_type": "markdown",
   "metadata": {},
   "source": [
    "# Likelihood Fitting of Tracer Luminosity Function"
   ]
  },
  {
   "cell_type": "markdown",
   "metadata": {},
   "source": [
    "In this tutorial, we show how you can perform simple likelihood fitting to the tracer luminosity function (LF) using the ``lumfunc_likelihood`` module."
   ]
  },
  {
   "cell_type": "markdown",
   "metadata": {},
   "source": [
    "## Load luminosity function measurements"
   ]
  },
  {
   "cell_type": "markdown",
   "metadata": {},
   "source": [
    "To get hold of the demo data (a parameter file for the LF model), we use the ``get_test_data_loc`` function from the ``utils`` module."
   ]
  },
  {
   "cell_type": "code",
   "execution_count": 1,
   "metadata": {},
   "outputs": [],
   "source": [
    "from horizonground.utils import get_test_data_loc\n",
    "\n",
    "demo_measurements_file = get_test_data_loc(\"eBOSS_QSO_LF_measurements.txt\")\n",
    "demo_uncertainties_file = get_test_data_loc(\"eBOSS_QSO_LF_uncertainties.txt\")"
   ]
  },
  {
   "cell_type": "markdown",
   "metadata": {},
   "source": [
    "Let's have a preview of the files' first few rows. Note the table headers format the column names as ``<lg_:optional>Phi_z_<zbin_min>_<zbin_max>``."
   ]
  },
  {
   "cell_type": "code",
   "execution_count": 2,
   "metadata": {},
   "outputs": [
    {
     "data": {
      "text/html": [
       "<div>\n",
       "<style scoped>\n",
       "    .dataframe tbody tr th:only-of-type {\n",
       "        vertical-align: middle;\n",
       "    }\n",
       "\n",
       "    .dataframe tbody tr th {\n",
       "        vertical-align: top;\n",
       "    }\n",
       "\n",
       "    .dataframe thead th {\n",
       "        text-align: right;\n",
       "    }\n",
       "</style>\n",
       "<table border=\"1\" class=\"dataframe\">\n",
       "  <thead>\n",
       "    <tr style=\"text-align: right;\">\n",
       "      <th></th>\n",
       "      <th>lg_Phi_z_0.68_1.06,</th>\n",
       "      <th>lg_Phi_z_1.06_1.44,</th>\n",
       "      <th>lg_Phi_z_1.44_1.82,</th>\n",
       "      <th>lg_Phi_z_1.82_2.20,</th>\n",
       "      <th>lg_Phi_z_2.20_2.60,</th>\n",
       "      <th>lg_Phi_z_2.60_3.00,</th>\n",
       "      <th>lg_Phi_z_3.00_3.50,</th>\n",
       "      <th>lg_Phi_z_3.50_4.00</th>\n",
       "    </tr>\n",
       "    <tr>\n",
       "      <th>magnitude,</th>\n",
       "      <th></th>\n",
       "      <th></th>\n",
       "      <th></th>\n",
       "      <th></th>\n",
       "      <th></th>\n",
       "      <th></th>\n",
       "      <th></th>\n",
       "      <th></th>\n",
       "    </tr>\n",
       "  </thead>\n",
       "  <tbody>\n",
       "    <tr>\n",
       "      <th>-28.8</th>\n",
       "      <td>NaN</td>\n",
       "      <td>NaN</td>\n",
       "      <td>NaN</td>\n",
       "      <td>NaN</td>\n",
       "      <td>NaN</td>\n",
       "      <td>NaN</td>\n",
       "      <td>NaN</td>\n",
       "      <td>-8.34</td>\n",
       "    </tr>\n",
       "    <tr>\n",
       "      <th>-28.4</th>\n",
       "      <td>NaN</td>\n",
       "      <td>NaN</td>\n",
       "      <td>NaN</td>\n",
       "      <td>NaN</td>\n",
       "      <td>-7.98</td>\n",
       "      <td>-7.42</td>\n",
       "      <td>-7.89</td>\n",
       "      <td>-8.35</td>\n",
       "    </tr>\n",
       "    <tr>\n",
       "      <th>-28.0</th>\n",
       "      <td>NaN</td>\n",
       "      <td>NaN</td>\n",
       "      <td>NaN</td>\n",
       "      <td>-7.63</td>\n",
       "      <td>-7.49</td>\n",
       "      <td>-7.10</td>\n",
       "      <td>-7.33</td>\n",
       "      <td>-8.36</td>\n",
       "    </tr>\n",
       "    <tr>\n",
       "      <th>-27.6</th>\n",
       "      <td>NaN</td>\n",
       "      <td>NaN</td>\n",
       "      <td>-7.32</td>\n",
       "      <td>-6.91</td>\n",
       "      <td>-6.88</td>\n",
       "      <td>-6.99</td>\n",
       "      <td>-7.33</td>\n",
       "      <td>NaN</td>\n",
       "    </tr>\n",
       "  </tbody>\n",
       "</table>\n",
       "</div>"
      ],
      "text/plain": [
       "             lg_Phi_z_0.68_1.06,  lg_Phi_z_1.06_1.44,  lg_Phi_z_1.44_1.82,  \\\n",
       " magnitude,                                                                  \n",
       "-28.8                        NaN                  NaN                  NaN   \n",
       "-28.4                        NaN                  NaN                  NaN   \n",
       "-28.0                        NaN                  NaN                  NaN   \n",
       "-27.6                        NaN                  NaN                -7.32   \n",
       "\n",
       "             lg_Phi_z_1.82_2.20,  lg_Phi_z_2.20_2.60,  lg_Phi_z_2.60_3.00,  \\\n",
       " magnitude,                                                                  \n",
       "-28.8                        NaN                  NaN                  NaN   \n",
       "-28.4                        NaN                -7.98                -7.42   \n",
       "-28.0                      -7.63                -7.49                -7.10   \n",
       "-27.6                      -6.91                -6.88                -6.99   \n",
       "\n",
       "             lg_Phi_z_3.00_3.50,  lg_Phi_z_3.50_4.00  \n",
       " magnitude,                                           \n",
       "-28.8                        NaN               -8.34  \n",
       "-28.4                      -7.89               -8.35  \n",
       "-28.0                      -7.33               -8.36  \n",
       "-27.6                      -7.33                 NaN  "
      ]
     },
     "metadata": {},
     "output_type": "display_data"
    },
    {
     "data": {
      "text/html": [
       "<div>\n",
       "<style scoped>\n",
       "    .dataframe tbody tr th:only-of-type {\n",
       "        vertical-align: middle;\n",
       "    }\n",
       "\n",
       "    .dataframe tbody tr th {\n",
       "        vertical-align: top;\n",
       "    }\n",
       "\n",
       "    .dataframe thead th {\n",
       "        text-align: right;\n",
       "    }\n",
       "</style>\n",
       "<table border=\"1\" class=\"dataframe\">\n",
       "  <thead>\n",
       "    <tr style=\"text-align: right;\">\n",
       "      <th></th>\n",
       "      <th>d_lg_Phi_z_0.68_1.06,</th>\n",
       "      <th>d_lg_Phi_z_1.06_1.44,</th>\n",
       "      <th>d_lg_Phi_z_1.44_1.82,</th>\n",
       "      <th>d_lg_Phi_z_1.82_2.20,</th>\n",
       "      <th>d_lg_Phi_z_2.20_2.60,</th>\n",
       "      <th>d_lg_Phi_z_2.60_3.00,</th>\n",
       "      <th>d_lg_Phi_z_3.00_3.50,</th>\n",
       "      <th>d_lg_Phi_z_3.50_4.00</th>\n",
       "    </tr>\n",
       "    <tr>\n",
       "      <th>magnitude,</th>\n",
       "      <th></th>\n",
       "      <th></th>\n",
       "      <th></th>\n",
       "      <th></th>\n",
       "      <th></th>\n",
       "      <th></th>\n",
       "      <th></th>\n",
       "      <th></th>\n",
       "    </tr>\n",
       "  </thead>\n",
       "  <tbody>\n",
       "    <tr>\n",
       "      <th>-28.8</th>\n",
       "      <td>NaN</td>\n",
       "      <td>NaN</td>\n",
       "      <td>NaN</td>\n",
       "      <td>NaN</td>\n",
       "      <td>NaN</td>\n",
       "      <td>NaN</td>\n",
       "      <td>NaN</td>\n",
       "      <td>0.44</td>\n",
       "    </tr>\n",
       "    <tr>\n",
       "      <th>-28.4</th>\n",
       "      <td>NaN</td>\n",
       "      <td>NaN</td>\n",
       "      <td>NaN</td>\n",
       "      <td>NaN</td>\n",
       "      <td>0.31</td>\n",
       "      <td>0.17</td>\n",
       "      <td>0.26</td>\n",
       "      <td>0.44</td>\n",
       "    </tr>\n",
       "    <tr>\n",
       "      <th>-28.0</th>\n",
       "      <td>NaN</td>\n",
       "      <td>NaN</td>\n",
       "      <td>NaN</td>\n",
       "      <td>0.22</td>\n",
       "      <td>0.18</td>\n",
       "      <td>0.12</td>\n",
       "      <td>0.14</td>\n",
       "      <td>0.44</td>\n",
       "    </tr>\n",
       "    <tr>\n",
       "      <th>-27.6</th>\n",
       "      <td>NaN</td>\n",
       "      <td>NaN</td>\n",
       "      <td>0.16</td>\n",
       "      <td>0.11</td>\n",
       "      <td>0.10</td>\n",
       "      <td>0.11</td>\n",
       "      <td>0.14</td>\n",
       "      <td>NaN</td>\n",
       "    </tr>\n",
       "  </tbody>\n",
       "</table>\n",
       "</div>"
      ],
      "text/plain": [
       "             d_lg_Phi_z_0.68_1.06,  d_lg_Phi_z_1.06_1.44,  \\\n",
       " magnitude,                                                 \n",
       "-28.8                          NaN                    NaN   \n",
       "-28.4                          NaN                    NaN   \n",
       "-28.0                          NaN                    NaN   \n",
       "-27.6                          NaN                    NaN   \n",
       "\n",
       "             d_lg_Phi_z_1.44_1.82,  d_lg_Phi_z_1.82_2.20,  \\\n",
       " magnitude,                                                 \n",
       "-28.8                          NaN                    NaN   \n",
       "-28.4                          NaN                    NaN   \n",
       "-28.0                          NaN                   0.22   \n",
       "-27.6                         0.16                   0.11   \n",
       "\n",
       "             d_lg_Phi_z_2.20_2.60,  d_lg_Phi_z_2.60_3.00,  \\\n",
       " magnitude,                                                 \n",
       "-28.8                          NaN                    NaN   \n",
       "-28.4                         0.31                   0.17   \n",
       "-28.0                         0.18                   0.12   \n",
       "-27.6                         0.10                   0.11   \n",
       "\n",
       "             d_lg_Phi_z_3.00_3.50,  d_lg_Phi_z_3.50_4.00  \n",
       " magnitude,                                               \n",
       "-28.8                          NaN                  0.44  \n",
       "-28.4                         0.26                  0.44  \n",
       "-28.0                         0.14                  0.44  \n",
       "-27.6                         0.14                   NaN  "
      ]
     },
     "metadata": {},
     "output_type": "display_data"
    }
   ],
   "source": [
    "import pandas as pd\n",
    "from IPython.display import display\n",
    "\n",
    "display(pd.read_csv(demo_measurements_file, sep='\\s+', index_col=0, nrows=4, escapechar='#'))\n",
    "display(pd.read_csv(demo_uncertainties_file, sep='\\s+', index_col=0, nrows=4, escapechar='#'))"
   ]
  },
  {
   "cell_type": "markdown",
   "metadata": {},
   "source": [
    "The ``LumFuncMeasurements`` class helps organise the data tables into luminosity and redshift bins. The ``base10_log`` boolean keyword parameter, if ``True``, means the LF values will be converted to base 10 logarithms unless ``'lg_'`` is detected in the table column names (i.e. the raw data are already logarithmic). Please note that *naming your table columns as shown above* helps ``LumFuncMeasurements`` process the data labels *and* values."
   ]
  },
  {
   "cell_type": "code",
   "execution_count": 3,
   "metadata": {},
   "outputs": [
    {
     "name": "stdout",
     "output_type": "stream",
     "text": [
      "{'Luminosity bins': array([-28.8, -28.4, -28. , -27.6, -27.2, -26.8, -26.4, -26. , -25.6,\n",
      "       -25.2, -24.8, -24.4, -24. , -23.6, -23.2, -22.8, -22.4, -22. ,\n",
      "       -21.6, -21.2, -20.8]),\n",
      " 'Redshift bin centres': array([0.87, 1.25, 1.63, 2.01, 2.4 , 2.8 , 3.25, 3.75]),\n",
      " 'Redshift bin labels': ['$0.68<z<1.06$',\n",
      "                         '$1.06<z<1.44$',\n",
      "                         '$1.44<z<1.82$',\n",
      "                         '$1.82<z<2.20$',\n",
      "                         '$2.20<z<2.60$',\n",
      "                         '$2.60<z<3.00$',\n",
      "                         '$3.00<z<3.50$',\n",
      "                         '$3.50<z<4.00$']}\n"
     ]
    }
   ],
   "source": [
    "from pprint import pprint\n",
    "from collections import OrderedDict\n",
    "\n",
    "from horizonground.lumfunc_likelihood import LumFuncMeasurements\n",
    "\n",
    "LF_data = LumFuncMeasurements(demo_measurements_file, demo_uncertainties_file, base10_log=True)\n",
    "\n",
    "pprint(dict(zip(\n",
    "    [\"Luminosity bins\", \"Redshift bin centres\", \"Redshift bin labels\"],\n",
    "    [LF_data.luminosity_bins, LF_data.redshift_bins, LF_data.redshift_labels]\n",
    ")))"
   ]
  },
  {
   "cell_type": "markdown",
   "metadata": {},
   "source": [
    "You can use either dictionary or slice syntax to access measurements and uncertainties in a particular redshift bin, e.g.:"
   ]
  },
  {
   "cell_type": "code",
   "execution_count": 4,
   "metadata": {},
   "outputs": [
    {
     "name": "stdout",
     "output_type": "stream",
     "text": [
      "Redshift bin z=0.87 measurements:  [  nan   nan   nan   nan   nan   nan -8.13 -6.94 -6.53 -6.32 -6.09 -5.81\n",
      " -5.76 -5.51 -5.45 -5.39 -5.45 -5.46   nan   nan   nan]\n",
      "Redshift bin z=0.87 uncertainties:  [ nan  nan  nan  nan  nan  nan 0.44 0.12 0.09 0.08 0.07 0.06 0.06 0.05\n",
      " 0.05 0.05 0.06 0.06  nan  nan  nan]\n",
      "Third redshift bin measurements:  [  nan   nan   nan -7.32 -6.76 -6.51 -6.25 -6.1  -5.92 -5.68 -5.59 -5.52\n",
      " -5.42 -5.36 -5.3    nan   nan   nan   nan   nan   nan]\n",
      "Third redshift bin uncertainties:  [ nan  nan  nan 0.16 0.09 0.08 0.07 0.06 0.06 0.05 0.05 0.05 0.05 0.05\n",
      " 0.05  nan  nan  nan  nan  nan  nan]\n"
     ]
    }
   ],
   "source": [
    "measurements_in_bin, uncertainties_in_bin = LF_data['z=0.87']\n",
    "\n",
    "print(\"Redshift bin z=0.87 measurements: \", measurements_in_bin)\n",
    "print(\"Redshift bin z=0.87 uncertainties: \", uncertainties_in_bin)\n",
    "\n",
    "measurements_in_bin, uncertainties_in_bin = LF_data[2]\n",
    "\n",
    "print(\"Third redshift bin measurements: \", measurements_in_bin)\n",
    "print(\"Third redshift bin uncertainties: \", uncertainties_in_bin)"
   ]
  },
  {
   "cell_type": "markdown",
   "metadata": {},
   "source": [
    "Finally, it's more useful to get the LF data vectors for measurements and uncertainties. We order the elements by redshift and then luminosity, with invalid values omitted. Note that the values are given in logarithm here, as the raw data have symmetric uncertainties in $\\lg\\varPhi$."
   ]
  },
  {
   "cell_type": "code",
   "execution_count": 5,
   "metadata": {},
   "outputs": [
    {
     "name": "stdout",
     "output_type": "stream",
     "text": [
      "Data vector:  [-8.13 -6.94 -6.53 -6.32 -6.09 -5.81 -5.76 -5.51 -5.45 -5.39 -5.45 -5.46\n",
      " -8.2  -7.15 -6.59 -6.39 -6.15 -5.97 -5.78 -5.59 -5.5  -5.42 -5.34 -5.35\n",
      " -7.32 -6.76 -6.51 -6.25 -6.1  -5.92 -5.68 -5.59 -5.52 -5.42 -5.36 -5.3\n",
      " -7.63 -6.91 -6.63 -6.33 -6.17 -5.99 -5.77 -5.73 -5.6  -5.5  -5.41 -5.49\n",
      " -7.98 -7.49 -6.88 -6.67 -6.39 -6.18 -6.15 -5.96 -5.79 -5.66 -5.67 -5.62\n",
      " -7.42 -7.1  -6.99 -6.8  -6.57 -6.32 -6.16 -6.05 -5.93 -5.88 -5.81 -7.89\n",
      " -7.33 -7.33 -7.26 -6.75 -6.55 -6.37 -6.19 -6.23 -6.1  -8.34 -8.35 -8.36\n",
      " -7.49 -7.17 -6.71]\n",
      "Variance vector:  [0.1936 0.0144 0.0081 0.0064 0.0049 0.0036 0.0036 0.0025 0.0025 0.0025\n",
      " 0.0036 0.0036 0.1936 0.0196 0.0064 0.0049 0.0036 0.0036 0.0036 0.0025\n",
      " 0.0025 0.0025 0.0025 0.0025 0.0256 0.0081 0.0064 0.0049 0.0036 0.0036\n",
      " 0.0025 0.0025 0.0025 0.0025 0.0025 0.0025 0.0484 0.0121 0.0064 0.0049\n",
      " 0.0036 0.0036 0.0025 0.0025 0.0025 0.0025 0.0025 0.0036 0.0961 0.0324\n",
      " 0.01   0.0064 0.0049 0.0036 0.0036 0.0036 0.0036 0.0025 0.0025 0.0036\n",
      " 0.0289 0.0144 0.0121 0.0081 0.0064 0.0049 0.0036 0.0036 0.0036 0.0036\n",
      " 0.0036 0.0676 0.0196 0.0196 0.0169 0.0064 0.0049 0.0049 0.0036 0.0049\n",
      " 0.0064 0.1936 0.1936 0.1936 0.0289 0.0169 0.01  ]\n"
     ]
    }
   ],
   "source": [
    "data_vector, variance_vector = LF_data.get_statistics()\n",
    "\n",
    "print(\"Data vector: \", data_vector)\n",
    "print(\"Variance vector: \", variance_vector)"
   ]
  },
  {
   "cell_type": "markdown",
   "metadata": {},
   "source": [
    "## Evaluate luminosity function likelihood"
   ]
  },
  {
   "cell_type": "markdown",
   "metadata": {},
   "source": [
    "We will consider the LF likelihood for the quasar PLE luminosity function and the following uniform prior parameter ranges."
   ]
  },
  {
   "cell_type": "code",
   "execution_count": 6,
   "metadata": {},
   "outputs": [
    {
     "name": "stdout",
     "output_type": "stream",
     "text": [
      "# m_\\ast(z_\\mathrm{p}), \\lg\\Phi_\\ast, \\alpha_\\mathrm{l}, \\alpha_\\mathrm{h}, \\beta_\\mathrm{l}, \\beta_\\mathrm{h}, k_{1\\mathrm{l}}, k_{1\\mathrm{h}}, k_{2\\mathrm{l}}, k_{2\\mathrm{h}}\n",
      "-29.  -8.  -10.  -5.  -3.  -3.  -1.5  -1.5  -1.5  -1.5\n",
      "-22.  -5.   -0.  -0.  -0.  -0.   1.5   1.5   1.5   1.5\n",
      "\n"
     ]
    }
   ],
   "source": [
    "demo_prior_file = get_test_data_loc(\"QSO_LF_PLE_model_prior.txt\")\n",
    "\n",
    "with open(demo_prior_file, 'r') as prior_file:\n",
    "    print(prior_file.read())"
   ]
  },
  {
   "cell_type": "markdown",
   "metadata": {},
   "source": [
    "The ``LumFuncLikelihood`` class provided likelihood evaluation tools. It is a derived class from ``LumFuncMeasurements`` so automatically handles the data vector as above. It also processes the prior file above into a dictionary of parameter names and parameter prior ranges. For the quasar PLE model which is a double power law, there is an exchange symmetry between the power-law indices $\\alpha, \\beta$. To avoid a redundant multi-modal posterior, we impose the constraint $\\alpha < \\beta$ by passing the function ``quasar_PLE_model_constraint`` to the keyword parameter ``model_constraint``. The log-likelihood is essentially a Gaussian quadratic form in a variable $\\tilde{\\varPhi} = f(\\varPhi)$ that is related to the luminosity function $\\varPhi$; here we choose the Poisson prescption in Pozzetti et al. (2016) [[arXiv: 1603.01453]](https://arxiv.org/abs/1603.01453). For other prescriptions, please refer to Pozzetti et al. (2016) and the API reference."
   ]
  },
  {
   "cell_type": "code",
   "execution_count": 7,
   "metadata": {},
   "outputs": [],
   "source": [
    "from horizonground.lumfunc_modeller import quasar_PLE_lumfunc, quasar_PLE_model_constraint\n",
    "from horizonground.lumfunc_likelihood import LumFuncLikelihood\n",
    "\n",
    "likelihood = LumFuncLikelihood(\n",
    "    quasar_PLE_lumfunc, \n",
    "    demo_measurements_file,\n",
    "    demo_prior_file,\n",
    "    uncertainty_file=demo_uncertainties_file, \n",
    "    fixed_file=None, \n",
    "    prescription='poisson', \n",
    "    model_constraint=quasar_PLE_model_constraint, \n",
    "    model_options={'redshift_pivot': 2.22}\n",
    ")"
   ]
  },
  {
   "cell_type": "markdown",
   "metadata": {},
   "source": [
    "It is also worth noting that parameters which are not meant to be sampled but rather kept fixed can be passed using ``fixed_file`` (see below for an example). The ``model_options`` keyword parameter is reserved for other parameters not considered part of the parametric LF model per se but merely a parameter in the Python implementation, e.g. the pivot redshift or the conversion of LF to logarithmic values."
   ]
  },
  {
   "cell_type": "code",
   "execution_count": 8,
   "metadata": {},
   "outputs": [
    {
     "name": "stdout",
     "output_type": "stream",
     "text": [
      "# m_\\ast(z_\\mathrm{p}), \\lg\\Phi_\\ast, \\alpha_\\mathrm{l}, \\alpha_\\mathrm{h}, \\beta_\\mathrm{l}, \\beta_\\mathrm{h}, k_{1\\mathrm{l}}, k_{1\\mathrm{h}}, k_{2\\mathrm{l}}, k_{2\\mathrm{h}}\n",
      "-26.71, -6.01, -4.31, -3.04, -1.54, -1.38, -0.08, -0.25, -0.40, -0.05\n",
      "\n"
     ]
    }
   ],
   "source": [
    "demo_fixed_file = get_test_data_loc(\"QSO_LF_PLE_model_fixed.txt\")\n",
    "\n",
    "with open(demo_fixed_file, 'r') as fixed_file:\n",
    "    print(fixed_file.read())"
   ]
  },
  {
   "cell_type": "markdown",
   "metadata": {},
   "source": [
    "After constructing the likelihood class as above, it can be called just like a function, e.g. evaluated at the fixed parameter values above. We use the ``load_parameter_set`` function from the ``utils`` module to convert the parameter file above into a dictionary of parameter names and values at which the log-likelihood (essentially $-\\chi^2\\big/2$) is evaluated."
   ]
  },
  {
   "cell_type": "code",
   "execution_count": 9,
   "metadata": {},
   "outputs": [
    {
     "name": "stdout",
     "output_type": "stream",
     "text": [
      "-78.13664554573882\n"
     ]
    }
   ],
   "source": [
    "from horizonground.utils import load_parameter_set\n",
    "\n",
    "parameter_point = load_parameter_set(demo_fixed_file)\n",
    "\n",
    "print(likelihood(parameter_point.values()))"
   ]
  }
 ],
 "metadata": {
  "kernelspec": {
   "display_name": "Python 3",
   "language": "python",
   "name": "python3"
  },
  "language_info": {
   "codemirror_mode": {
    "name": "ipython",
    "version": 3
   },
   "file_extension": ".py",
   "mimetype": "text/x-python",
   "name": "python",
   "nbconvert_exporter": "python",
   "pygments_lexer": "ipython3",
   "version": "3.7.5"
  }
 },
 "nbformat": 4,
 "nbformat_minor": 2
}