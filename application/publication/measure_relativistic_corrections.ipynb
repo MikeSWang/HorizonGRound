{
 "cells": [
  {
   "cell_type": "markdown",
   "metadata": {},
   "source": [
    "# Measurements of Relativistic Corrections"
   ]
  },
  {
   "cell_type": "markdown",
   "metadata": {},
   "source": [
    "Set up the appropriate paths."
   ]
  },
  {
   "cell_type": "code",
   "execution_count": 1,
   "metadata": {},
   "outputs": [],
   "source": [
    "import os, sys\n",
    "\n",
    "current_file_dir = os.getcwd()\n",
    "sys.path.insert(0, \"\".join([current_file_dir, \"/../\"]))\n",
    "os.environ['HDF5_USE_FILE_LOCKING'] = 'FALSE'\n",
    "\n",
    "from config.program import SciFormatter, data_dir, stylesheet"
   ]
  },
  {
   "cell_type": "markdown",
   "metadata": {},
   "source": [
    "Import the appropriate packages."
   ]
  },
  {
   "cell_type": "code",
   "execution_count": 2,
   "metadata": {},
   "outputs": [
    {
     "name": "stdout",
     "output_type": "stream",
     "text": [
      "Selected: PLE_model, magnitude limit -25.0\n"
     ]
    }
   ],
   "source": [
    "import glob\n",
    "import re\n",
    "from collections import defaultdict\n",
    "\n",
    "import corner\n",
    "import h5py\n",
    "import matplotlib.pyplot as plt\n",
    "import numpy as np\n",
    "import matplotlib.patches as mpatches\n",
    "from matplotlib.ticker import AutoMinorLocator\n",
    "from nbodykit.cosmology import Planck15\n",
    "\n",
    "from horizonground.clustering_modification import (\n",
    "    relativistic_correction_func,\n",
    "    relativistic_correction_value,\n",
    ")\n",
    "\n",
    "plt.style.use(stylesheet)\n",
    "\n",
    "model = np.random.choice([\"PLE_model\"])  # \"PLE_model\", \"hybrid_model\"\n",
    "threshold = \"-25.0\"  # \"-22.0\", \"-25.0\"\n",
    "\n",
    "print(\"Selected: {}, magnitude limit {}\".format(model, threshold))\n",
    "\n",
    "publication_dir = data_dir/\"output\"/\"publication\"/model"
   ]
  },
  {
   "cell_type": "markdown",
   "metadata": {},
   "source": [
    "## Relativistic correction quantiles"
   ]
  },
  {
   "cell_type": "markdown",
   "metadata": {},
   "source": [
    "Load samples of the relativistic correction contributions at densly sampled redshifts and determine their quantiles."
   ]
  },
  {
   "cell_type": "code",
   "execution_count": 3,
   "metadata": {},
   "outputs": [],
   "source": [
    "quantile_levels = [0.022750, 0.158655, 0.5, 0.841345, 0.977250]"
   ]
  },
  {
   "cell_type": "code",
   "execution_count": 4,
   "metadata": {},
   "outputs": [],
   "source": [
    "dense_redshifts = []\n",
    "g1_quantiles, g2_quantiles = defaultdict(list), defaultdict(list)\n",
    "for chain_file in sorted(glob.glob(\"/\".join([\n",
    "        str(publication_dir), \"dense_points\", \"correction\", \"relcrct_z*m{}*\".format(threshold)\n",
    "    ]))):\n",
    "    dense_redshifts.append(float(\n",
    "        re.search(\"_z(?P<redshift>.*?)_\", chain_file).group('redshift')\n",
    "    ))\n",
    "    with h5py.File(chain_file, 'r') as chain_data:\n",
    "        distilled = chain_data['distill/chain'][()]\n",
    "        g1_q = corner.quantile(distilled[:, 0], q=quantile_levels)\n",
    "        g2_q = corner.quantile(distilled[:, 1], q=quantile_levels)\n",
    "    for sigma_level_idx, sigma_level in enumerate([-2, -1, 0, 1, 2]):\n",
    "        g1_quantiles[sigma_level].append(g1_q[sigma_level_idx])\n",
    "        g2_quantiles[sigma_level].append(g2_q[sigma_level_idx])"
   ]
  },
  {
   "cell_type": "code",
   "execution_count": 5,
   "metadata": {},
   "outputs": [],
   "source": [
    "discontinuity_pos = np.searchsorted(dense_redshifts, 2.2)\n",
    "low_redshift_part = slice(0, discontinuity_pos)\n",
    "high_redshift_part = slice(discontinuity_pos, None)"
   ]
  },
  {
   "cell_type": "markdown",
   "metadata": {},
   "source": [
    "## Relativistic correction measurements"
   ]
  },
  {
   "cell_type": "markdown",
   "metadata": {},
   "source": [
    "Load samples of the relativistic correction contributions in eBOSS QSO LF redshift bins and determine the estimates with uncertainties."
   ]
  },
  {
   "cell_type": "code",
   "execution_count": 6,
   "metadata": {},
   "outputs": [],
   "source": [
    "estimate_levels = [0.158655, 0.5, 0.841345]"
   ]
  },
  {
   "cell_type": "code",
   "execution_count": 7,
   "metadata": {},
   "outputs": [],
   "source": [
    "measured_redshifts = []\n",
    "g1_estimates, g2_estimates = defaultdict(list), defaultdict(list)\n",
    "for chain_file in sorted(glob.glob(\"/\".join([\n",
    "        str(publication_dir), \"eBOSS_binning\", \"relcrct_z*m{}*\".format(threshold)\n",
    "    ]))):\n",
    "    measured_redshifts.append(float(\n",
    "        re.search(\"_z(?P<redshift>.*?)_\", chain_file).group('redshift')\n",
    "    ))\n",
    "    with h5py.File(chain_file, 'r') as chain_data:\n",
    "        distilled = chain_data['distill/chain'][()]\n",
    "        g1_e = corner.quantile(distilled[:, 0], q=estimate_levels)\n",
    "        g2_e = corner.quantile(distilled[:, 1], q=estimate_levels)\n",
    "    for sigma_level_idx, sigma_level in enumerate([-1, 0, 1]):\n",
    "        g1_estimates[sigma_level].append(g1_e[sigma_level_idx])\n",
    "        g2_estimates[sigma_level].append(g2_e[sigma_level_idx])"
   ]
  },
  {
   "cell_type": "markdown",
   "metadata": {},
   "source": [
    "## Relativistic correction contributions"
   ]
  },
  {
   "cell_type": "code",
   "execution_count": 8,
   "metadata": {},
   "outputs": [],
   "source": [
    "f_dense = Planck15.scale_independent_growth_rate(dense_redshifts)\n",
    "f_bins = Planck15.scale_independent_growth_rate(measured_redshifts)\n",
    "\n",
    "comparison_redshifts = np.linspace(0., 4., 51)\n",
    "f_comp = Planck15.scale_independent_growth_rate(comparison_redshifts)"
   ]
  },
  {
   "cell_type": "code",
   "execution_count": 9,
   "metadata": {},
   "outputs": [],
   "source": [
    "g_1_bare = np.asarray([\n",
    "    relativistic_correction_func(1, evolution_bias=lambda z: 0., magnification_bias=lambda z: 0.)(z)\n",
    "    for z in comparison_redshifts\n",
    "])\n",
    "g_2_bare = np.asarray([\n",
    "    relativistic_correction_func(2, evolution_bias=lambda z: 0., magnification_bias=lambda z: 0.)(z)\n",
    "    for z in comparison_redshifts\n",
    "])"
   ]
  },
  {
   "cell_type": "code",
   "execution_count": 10,
   "metadata": {},
   "outputs": [],
   "source": [
    "g_1_diffuse = np.asarray([\n",
    "    relativistic_correction_func(1, evolution_bias=lambda z: 0., magnification_bias=lambda z: 0.4)(z)\n",
    "    for z in comparison_redshifts\n",
    "])\n",
    "g_2_diffuse = np.asarray([\n",
    "    relativistic_correction_func(2, evolution_bias=lambda z: 0., magnification_bias=lambda z: 0.4)(z)\n",
    "    for z in comparison_redshifts\n",
    "])"
   ]
  },
  {
   "cell_type": "code",
   "execution_count": 11,
   "metadata": {},
   "outputs": [
    {
     "data": {
      "image/png": "[encoded data removed]",
      "text/plain": [
       "<Figure size 480x525 with 2 Axes>"
      ]
     },
     "metadata": {
      "needs_background": "light"
     },
     "output_type": "display_data"
    }
   ],
   "source": [
    "ALPHA = 0.5\n",
    "\n",
    "fig = plt.figure(\n",
    "    \"relativistic correction functions\", \n",
    "    figsize=(3.2, 3.5), dpi=150, constrained_layout=True\n",
    ")\n",
    "\n",
    "order_1 = plt.subplot2grid((4, 1), (0, 0), rowspan=2)\n",
    "\n",
    "order_1.errorbar(\n",
    "    measured_redshifts, f_bins*np.asarray(g1_estimates[0]),\n",
    "    yerr=f_bins*np.array([\n",
    "        np.asarray(g1_estimates[0]) - np.asarray(g1_estimates[-1]), \n",
    "        np.asarray(g1_estimates[1]) - np.asarray(g1_estimates[0]),\n",
    "    ]),\n",
    "    fmt='s', label='eBOSS QSO LF'\n",
    ")\n",
    "\n",
    "for idx, part in enumerate([low_redshift_part, high_redshift_part]):\n",
    "    order_1.fill_between(\n",
    "        dense_redshifts[part],\n",
    "        f_dense[part]*np.asarray(g1_quantiles[-2])[part], \n",
    "        f_dense[part]*np.asarray(g1_quantiles[2])[part],\n",
    "        facecolor='0.67', alpha=ALPHA,\n",
    "    )\n",
    "\n",
    "order_1.plot(\n",
    "    comparison_redshifts, f_comp*g_1_bare, ls='--'\n",
    ")\n",
    "order_1.plot(\n",
    "    comparison_redshifts, f_comp*g_1_diffuse, dashes=[3, 1, 1, 1]\n",
    ")\n",
    "\n",
    "order_1.axvline(x=2.2, ls=':', c='0.5')\n",
    "\n",
    "handles, labels = order_1.get_legend_handles_labels()\n",
    "patch = mpatches.Patch(ec='none', fc='0.67', alpha=ALPHA)\n",
    "handles[-1] = (handles[-1], patch)\n",
    "\n",
    "order_1.legend(\n",
    "    reversed(handles), reversed(labels), loc='lower left',\n",
    "    frameon=True, framealpha=0.5, edgecolor='none'\n",
    ")\n",
    "order_1.tick_params(axis='x', which='both', labelbottom=False)\n",
    "order_1.yaxis.set_minor_locator(AutoMinorLocator())\n",
    "order_1.set_ylim(-12., 12.)\n",
    "order_1.set_ylabel(r\"$f g_1(z)$\", labelpad=2)\n",
    "\n",
    "order_2 = plt.subplot2grid((4, 1), (2, 0), rowspan=2, sharex=order_1)\n",
    "\n",
    "order_2.errorbar(\n",
    "    measured_redshifts, f_bins*np.asarray(g2_estimates[0]),\n",
    "    yerr=f_bins*np.array([\n",
    "        np.asarray(g2_estimates[0]) - np.asarray(g2_estimates[-1]), \n",
    "        np.asarray(g2_estimates[1]) - np.asarray(g2_estimates[0])\n",
    "    ]),\n",
    "    fmt='s'\n",
    ")\n",
    "\n",
    "for idx, part in enumerate([low_redshift_part, high_redshift_part]):\n",
    "    order_2.fill_between(\n",
    "        dense_redshifts[part],\n",
    "        f_dense[part]*np.asarray(g2_quantiles[-2])[part], \n",
    "        f_dense[part]*np.asarray(g2_quantiles[2])[part],\n",
    "        facecolor='0.67', alpha=ALPHA,\n",
    "    )\n",
    "\n",
    "order_2.plot(\n",
    "    comparison_redshifts, g_2_bare, ls='--',\n",
    "    label=r\"$b_\\mathrm{e} = 0$, $s = 0$\"\n",
    ")\n",
    "order_2.plot(\n",
    "    comparison_redshifts, g_2_diffuse, dashes=[3, 1, 1, 1],\n",
    "    label=r\"$b_\\mathrm{e} = 0$, $s = 2/5$\"\n",
    ")\n",
    "\n",
    "order_2.axvline(x=2.2, ls=':', c='0.5')\n",
    "\n",
    "order_2.legend(\n",
    "    loc='upper left',\n",
    "    frameon=True, framealpha=0.5, edgecolor='none'\n",
    ")\n",
    "order_2.set_xticks(np.arange(0., 5., step=0.5))\n",
    "order_2.set_yticks(np.arange(-12., 12., step=2.))\n",
    "order_2.xaxis.set_minor_locator(AutoMinorLocator())\n",
    "order_2.yaxis.set_minor_locator(AutoMinorLocator())\n",
    "order_2.set_xlim(min(dense_redshifts), max(dense_redshifts))\n",
    "order_2.set_ylim(-3., 7.99)\n",
    "order_2.set_ylabel(r\"$g_2(z)$\", labelpad=6)\n",
    "\n",
    "fig.suptitle(r\"$\\bar{{m}} = {}$\".format(threshold), fontsize='small', y=0.935)\n",
    "fig.savefig(\n",
    "    publication_dir/\"gallery\"/\"relativistic_correction_breakdown_m{}.pdf\".format(threshold)\n",
    ")"
   ]
  }
 ],
 "metadata": {
  "kernelspec": {
   "display_name": "nbodykit-env",
   "language": "python",
   "name": "nbodykit-env"
  },
  "language_info": {
   "codemirror_mode": {
    "name": "ipython",
    "version": 3
   },
   "file_extension": ".py",
   "mimetype": "text/x-python",
   "name": "python",
   "nbconvert_exporter": "python",
   "pygments_lexer": "ipython3",
   "version": "3.8.5"
  }
 },
 "nbformat": 4,
 "nbformat_minor": 4
}
