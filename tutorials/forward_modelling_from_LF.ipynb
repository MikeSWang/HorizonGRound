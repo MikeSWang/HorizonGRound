{
 "cells": [
  {
   "cell_type": "markdown",
   "metadata": {},
   "source": [
    "# Forward Modelling from Tracer Luminosity Function"
   ]
  },
  {
   "cell_type": "markdown",
   "metadata": {},
   "source": [
    "In this tutorial, we demonstrate how one could compute certain quantities from the tracer luminosity function (LF) using the ``lumfunc_modeller`` module. The data used in this tutorial are packaged with the released distribution of <span style=\"font-variant:small-caps;\">HorizonGRound</span> and can be accessed with the help of the ``get_test_data_loc`` function. Alternatively, test data sets can be downloaded from [here](https://github.com/MikeSWang/HorizonGRound/tree/v0.1.0/horizonground/tests/test_data/)."
   ]
  },
  {
   "cell_type": "markdown",
   "metadata": {},
   "source": [
    "# Visualise the luminosity function surface"
   ]
  },
  {
   "cell_type": "markdown",
   "metadata": {},
   "source": [
    "To get hold of the demo data, we use the ``get_test_data_loc`` function from the ``utils`` module."
   ]
  },
  {
   "cell_type": "code",
   "execution_count": 1,
   "metadata": {},
   "outputs": [],
   "source": [
    "from horizonground.utils import get_test_data_loc"
   ]
  },
  {
   "cell_type": "markdown",
   "metadata": {},
   "source": [
    "We will adopt the *pure luminosity evolution* (PLE) model for the quasar luminosity function. First, load the modeller class ``LumFuncModeller`` as well as the PLE model already provided by ``horizonground``. We use the Planck15 cosmology from astropy."
   ]
  },
  {
   "cell_type": "code",
   "execution_count": 2,
   "metadata": {},
   "outputs": [],
   "source": [
    "from astropy.cosmology import Planck15\n",
    "from horizonground.lumfunc_modeller import LumFuncModeller, quasar_PLE_lumfunc"
   ]
  },
  {
   "cell_type": "markdown",
   "metadata": {},
   "source": [
    "We now get the demo data path and pass it to the modeller along with the PLE model function. One could define one's own LF in the form of a Python function ``lum_func(lum, redshift, kwargs=<default>``)."
   ]
  },
  {
   "cell_type": "code",
   "execution_count": 3,
   "metadata": {},
   "outputs": [],
   "source": [
    "demo_parameter_filepath = get_test_data_loc(\"eBOSS_QSO_LF_PLE_model_fits.txt\")\n",
    "\n",
    "PLE_model = LumFuncModeller.from_parameter_file(\n",
    "    parameter_file=demo_parameter_filepath,\n",
    "    model_lumfunc=quasar_PLE_lumfunc,\n",
    "    brightness_variable='magnitude',\n",
    "    threshold_value=22.5,\n",
    "    cosmology=Planck15\n",
    ")"
   ]
  }
 ],
 "metadata": {
  "kernelspec": {
   "display_name": "Python 3",
   "language": "python",
   "name": "python3"
  },
  "language_info": {
   "codemirror_mode": {
    "name": "ipython",
    "version": 3
   },
   "file_extension": ".py",
   "mimetype": "text/x-python",
   "name": "python",
   "nbconvert_exporter": "python",
   "pygments_lexer": "ipython3",
   "version": "3.7.5"
  }
 },
 "nbformat": 4,
 "nbformat_minor": 2
}
