{
 "cells": [
  {
   "cell_type": "markdown",
   "metadata": {},
   "source": [
    "# Scale-Dependent Bias Modification"
   ]
  },
  {
   "cell_type": "markdown",
   "metadata": {},
   "source": [
    "Initiate notebook."
   ]
  },
  {
   "cell_type": "code",
   "execution_count": 1,
   "metadata": {},
   "outputs": [],
   "source": [
    "import os\n",
    "import pprint\n",
    "from collections import OrderedDict\n",
    "\n",
    "import matplotlib as mpl\n",
    "import matplotlib.pyplot as plt\n",
    "import numpy as np\n",
    "from matplotlib.lines import Line2D\n",
    "from nbodykit.lab import cosmology\n",
    "from scipy.integrate import quad\n",
    "from scipy.misc import derivative"
   ]
  },
  {
   "cell_type": "code",
   "execution_count": 2,
   "metadata": {},
   "outputs": [],
   "source": [
    "FIDUCIAL_COSMOLOGY = cosmology.Planck15"
   ]
  },
  {
   "cell_type": "markdown",
   "metadata": {},
   "source": [
    "## Base cosmological model"
   ]
  },
  {
   "cell_type": "markdown",
   "metadata": {},
   "source": [
    "Define the scale-dependence modification to bias per unit primordial non-Gaussianity per unit Lagrangian bias."
   ]
  },
  {
   "cell_type": "code",
   "execution_count": 3,
   "metadata": {},
   "outputs": [],
   "source": [
    "def scale_dependence_modification(redshift, cosmo=FIDUCIAL_COSMOLOGY):\n",
    "    \"\"\"Return the scale-dependence modification as a function of redshift.\n",
    "\n",
    "    Parameters\n",
    "    ----------\n",
    "    redshift : float\n",
    "        Redshift.\n",
    "    cosmo : :class:`nbodykit.cosmology.Cosmology`, optional\n",
    "        Base cosmological model (default is\n",
    "        :obj:`nbodykit.cosmology.Planck15`).\n",
    "\n",
    "    Returns\n",
    "    -------\n",
    "    callable\n",
    "        Scale-dependence modification as a function of the Fourier scale\n",
    "        (in h/Mpc).\n",
    "\n",
    "    \"\"\"\n",
    "    SPHERICAL_COLLAPSE_CRITICAL_OVERDENSITY = 1.686\n",
    "    SPEED_OF_LIGHT_IN_HUNDRED_KM_PER_S = 2998.\n",
    "\n",
    "    num_factors = 3 * (cosmo.h / SPEED_OF_LIGHT_IN_HUNDRED_KM_PER_S)**2\\\n",
    "        * SPHERICAL_COLLAPSE_CRITICAL_OVERDENSITY * cosmo.Omega0_m\n",
    "    transfer_func = cosmology.power.transfers.CLASS(cosmo, redshift)\n",
    "\n",
    "    return lambda k: num_factors / (k**2 * transfer_func(k))"
   ]
  },
  {
   "cell_type": "markdown",
   "metadata": {},
   "source": [
    "Define the general relativistic corrections as a function of redshift due to evolution and magnification of intrinsic\n",
    "background tracer number density."
   ]
  },
  {
   "cell_type": "code",
   "execution_count": 4,
   "metadata": {},
   "outputs": [],
   "source": [
    "def general_relativistic_corrections(evolution_bias, magnification_bias,\n",
    "                                     cosmo=FIDUCIAL_COSMOLOGY):\n",
    "    \"\"\"Return the general relativistic corrections as a function of \n",
    "    redshift.\n",
    "\n",
    "    Parameters\n",
    "    ----------\n",
    "    evolution_bias, magnification_bias : callable\n",
    "        Evolution bias or magnification bias as a function of redshift.\n",
    "    cosmo : :class:`nbodykit.cosmology.Cosmology`, optional\n",
    "        Base cosmological model (default is\n",
    "        ``nbodykit.cosmology.Planck15``).\n",
    "\n",
    "    Returns\n",
    "    -------\n",
    "    callable\n",
    "        General relativistic correction as a function of redshift.\n",
    "\n",
    "    \"\"\"\n",
    "    background_evolution = cosmology.background.MatterDominated(cosmo.Omega0_m)\n",
    "    \n",
    "    hubble_parameter = lambda z: 1/(1+z) * background_evolution.E(1/(1+z))\n",
    "    \n",
    "    pass"
   ]
  },
  {
   "cell_type": "markdown",
   "metadata": {},
   "source": [
    "## Luminosty function modeller"
   ]
  },
  {
   "cell_type": "markdown",
   "metadata": {},
   "source": [
    "Generate parametric models for the luminosity function and perform related computations."
   ]
  },
  {
   "cell_type": "code",
   "execution_count": 5,
   "metadata": {},
   "outputs": [],
   "source": [
    "class LuminosityFunctionModel:\n",
    "    \"\"\"Parametric luminosity function model predicting the comoving number\n",
    "    density and related quantities.\n",
    "    \n",
    "    Parameters\n",
    "    ----------\n",
    "    luminosity_function : callable\n",
    "        Luminosity function of magnitude and redshift (in that order).\n",
    "    magnitude_limit : float\n",
    "        Limiting magnitude.\n",
    "    **model_parameters\n",
    "        Keyword arguments to be passed to the specified parametric model.\n",
    "    \n",
    "    Attributes\n",
    "    ----------\n",
    "    luminosity_function : callable\n",
    "        Luminosity function of magnitude and redshift (in that order).\n",
    "    magnitude_limit : float\n",
    "        Limiting magnitude.\n",
    "    model_parameters : dict\n",
    "        Model parameters.\n",
    "    \n",
    "    \"\"\"\n",
    "    \n",
    "    def __init__(self, luminosity_function, magnitude_limit, \n",
    "                 **model_parameters):\n",
    "            \n",
    "        self.luminosity_function = luminosity_function\n",
    "        self.magnitude_limit = magnitude_limit\n",
    "        self.model_parameters = model_parameters\n",
    "            \n",
    "        self._comoving_number_density = None\n",
    "        self._evolution_bias = None\n",
    "        self._magnification_bias = None\n",
    "        \n",
    "    @classmethod\n",
    "    def from_parameters_file(cls, file_path, luminosity_function, \n",
    "                             magnitude_limit):\n",
    "        \"\"\"Instantiate a parametric model by reading parameter values from \n",
    "        a file.\n",
    "        \n",
    "        Parameters\n",
    "        ----------\n",
    "        file_path : str\n",
    "            Path of the model parameter file.\n",
    "        luminosity_function : callable\n",
    "            Luminosity function of magnitude and redshift (in that order).\n",
    "        magnitude_limit : float\n",
    "            Limiting magnitude.\n",
    "                \n",
    "        \"\"\"\n",
    "        with open(file_path, 'r') as pfile:\n",
    "            parameters = tuple(map(\n",
    "                lambda var_name: var_name.strip(\" \"), \n",
    "                pfile.readline().strip(\"#\").strip(\"\\n\").split(\",\")\n",
    "            ))\n",
    "            estimates = tuple(map(\n",
    "                lambda value: float(value), \n",
    "                pfile.readline().split(\",\")\n",
    "            ))\n",
    "            \n",
    "        return cls(\n",
    "            luminosity_function, magnitude_limit, \n",
    "            **dict(zip(parameters, estimates))\n",
    "        )\n",
    "    \n",
    "    @property\n",
    "    def comoving_number_density(self):\n",
    "        \"\"\"Comoving number density as a function of redshift.\n",
    "        \n",
    "        Returns\n",
    "        -------\n",
    "        callable\n",
    "        \n",
    "        \"\"\"\n",
    "        if callable(self._comoving_number_density):\n",
    "            return self._comoving_number_density\n",
    "        \n",
    "        self._comoving_number_density = lambda z: quad(\n",
    "            self.luminosity_function,\n",
    "            -np.inf, \n",
    "            self.magnitude_limit,\n",
    "            args=(z,)\n",
    "        )\n",
    "        \n",
    "        return self._comoving_number_density\n",
    "    \n",
    "    @property\n",
    "    def evolution_bias(self):\n",
    "        \"\"\"Evolution bias as a function of redshift.\n",
    "        \n",
    "        Returns\n",
    "        -------\n",
    "        callable\n",
    "        \n",
    "        \"\"\"\n",
    "        if callable(self._evolution_bias):\n",
    "            return self._evolution_bias\n",
    "        \n",
    "        self._evolution_bias = lambda z: -(1 + z) \\\n",
    "            * derivative(self.comoving_number_density, z, dx=0.05)\\\n",
    "            / self.comoving_number_density(z)\n",
    "        \n",
    "        return self._evolution_bias\n",
    "    \n",
    "    @property\n",
    "    def magnification_bias(self):\n",
    "        \"\"\"Magnification bias as a function of redshift.\n",
    "        \n",
    "        Returns\n",
    "        -------\n",
    "        callable\n",
    "        \n",
    "        \"\"\"        \n",
    "        if callable(self._magnification_bias):\n",
    "            return self._magnification_bias\n",
    "        \n",
    "        self._magnification_bias = lambda z:\\\n",
    "            self.luminosity_function(self.magnitude_limit, z)\\\n",
    "            / self.comoving_number_density(z)\n",
    "        \n",
    "        return self._magnification_bias"
   ]
  },
  {
   "cell_type": "markdown",
   "metadata": {},
   "source": [
    "## General relativistic modification"
   ]
  },
  {
   "cell_type": "markdown",
   "metadata": {},
   "source": [
    "Specify the luminosity function model."
   ]
  },
  {
   "cell_type": "code",
   "execution_count": 6,
   "metadata": {},
   "outputs": [],
   "source": [
    "def quasar_luminosity_function_in_PLE_model(magnitude, redshift, \n",
    "                                            redshift_pivot=2.2, \n",
    "                                            **model_parameters_PLE):\n",
    "    \"\"\"Evaluate the pure luminosity evolution (PLE) model for the quasar\n",
    "    luminosity function at the given absolute magnitude and redshift.\n",
    "    \n",
    "    Notes\n",
    "    -----\n",
    "    Magnitude is absolute and measured in :math:`g`-band normalised to\n",
    "    the value at redshift 2.\n",
    "    \n",
    "    Parameters\n",
    "    ----------\n",
    "    magnitude : float\n",
    "        Quasar magnitude.\n",
    "    redshift : float\n",
    "        Quasar redshift.\n",
    "    redshift_pivot : float, optional\n",
    "        Pivot redshift.\n",
    "    **model_parameters_PLE\n",
    "        PLE model parameters.\n",
    "    \n",
    "    Returns\n",
    "    -------\n",
    "    comoving_density : float :class:`numpy.ndarray`\n",
    "        Predicted qausar comoving number density per unit magnitude.\n",
    "        \n",
    "    \"\"\"    \n",
    "    # Re-definitions.\n",
    "    M_g, z, z_p = magnitude, redshift, redshift_pivot\n",
    "    \n",
    "    # Determine the redshift end.\n",
    "    if z <= z_p:\n",
    "        subscript = '\\\\textrm{{{}}}'.format('l')\n",
    "    else:\n",
    "        subscript = '\\\\textrm{{{}}}'.format('h') \n",
    "    \n",
    "    # Set parameters.\n",
    "    Phi_star = 10**model_parameters_PLE['\\\\log\\\\Phi^\\\\ast']\n",
    "    M_g_star_p = model_parameters_PLE['M^\\\\ast_g(z_\\\\textrm{pivot})']\n",
    "    \n",
    "    alpha = model_parameters_PLE['\\\\alpha_{}'.format(subscript)]\n",
    "    beta = model_parameters_PLE['\\\\beta_{}'.format(subscript)]\n",
    "    k_1 = model_parameters_PLE['k_{{1{}}}'.format(subscript)]\n",
    "    k_2 = model_parameters_PLE['k_{{2{}}}'.format(subscript)]\n",
    "    \n",
    "    # Evaluate the model prediction.\n",
    "    exponent_magnitude_factor = M_g \\\n",
    "        - (M_g_star_p - 2.5*(k_1 * (z - z_p) + k_2 * (z - z_p)**2))\n",
    "    faint_power_law = 10 ** (0.4*(alpha + 1) * exponent_magnitude_factor)\n",
    "    bright_power_law = 10 ** (0.4*(beta + 1) * exponent_magnitude_factor)\n",
    "    \n",
    "    comoving_density = Phi_star / (faint_power_law + bright_power_law)\n",
    "    \n",
    "    return comoving_density"
   ]
  },
  {
   "cell_type": "markdown",
   "metadata": {},
   "source": [
    "Specify fiducial redshift, matter power spectrum and growth rate."
   ]
  },
  {
   "cell_type": "code",
   "execution_count": 7,
   "metadata": {},
   "outputs": [],
   "source": [
    "FIDUCIAL_REDSHIFT = 2.\n",
    "\n",
    "matter_power_spectrum = cosmology.LinearPower(\n",
    "    FIDUCIAL_COSMOLOGY, FIDUCIAL_REDSHIFT\n",
    ")\n",
    "growth_rate = \\\n",
    "    FIDUCIAL_COSMOLOGY.scale_independent_growth_rate(FIDUCIAL_REDSHIFT)"
   ]
  }
 ],
 "metadata": {
  "kernelspec": {
   "display_name": "Python 3",
   "language": "python",
   "name": "python3"
  },
  "language_info": {
   "codemirror_mode": {
    "name": "ipython",
    "version": 2
   },
   "file_extension": ".py",
   "mimetype": "text/x-python",
   "name": "python",
   "nbconvert_exporter": "python",
   "pygments_lexer": "ipython2",
   "version": "2.7.5"
  }
 },
 "nbformat": 4,
 "nbformat_minor": 2
}
