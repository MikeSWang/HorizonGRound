{
 "cells": [
  {
   "cell_type": "markdown",
   "metadata": {},
   "source": [
    "# Scale-Dependent Modifications to Power Spectrum Multipoles"
   ]
  },
  {
   "cell_type": "markdown",
   "metadata": {},
   "source": [
    "Start in the appropriate notebook directory."
   ]
  },
  {
   "cell_type": "code",
   "execution_count": 1,
   "metadata": {},
   "outputs": [],
   "source": [
    "# %cd /mnt/lustre/mikewang/projects/HorizonGRound/notebooks/"
   ]
  },
  {
   "cell_type": "markdown",
   "metadata": {},
   "source": [
    "Import the appropriate packages."
   ]
  },
  {
   "cell_type": "code",
   "execution_count": 2,
   "metadata": {},
   "outputs": [
    {
     "name": "stdout",
     "output_type": "stream",
     "text": [
      "Selected: PLE_model, magnitude limit -25.0\n"
     ]
    }
   ],
   "source": [
    "import glob\n",
    "import os\n",
    "import re\n",
    "from collections import defaultdict\n",
    "\n",
    "import corner\n",
    "import h5py\n",
    "import matplotlib.pyplot as plt\n",
    "import numpy as np\n",
    "from IPython.display import display, Math\n",
    "from astropy.constants import c\n",
    "from astropy.cosmology import Planck15\n",
    "from matplotlib.ticker import AutoMinorLocator\n",
    "from nbodykit.cosmology import LinearPower, Planck15 as Planck_15\n",
    "from scipy.ndimage import gaussian_filter1d\n",
    "\n",
    "from conf import PATHOUT\n",
    "from horizonground.clustering_modification import (\n",
    "    non_gaussianity_correction_factor,\n",
    "    relativistic_correction_factor,\n",
    "    standard_kaiser_factor,\n",
    ")\n",
    "\n",
    "os.environ['HDF5_USE_FILE_LOCKING'] = 'FALSE'\n",
    "\n",
    "model = np.random.choice([\"PLE_model\"])  # \"PLE_model\", \"hybrid_model\"\n",
    "threshold = \"-25.0\"  # \"-22.0\", \"-25.0\"\n",
    "\n",
    "print(\"Selected: {}, magnitude limit {}\".format(model, threshold))\n",
    "\n",
    "publication_dir = PATHOUT/\"publication\"/model"
   ]
  },
  {
   "cell_type": "code",
   "execution_count": 3,
   "metadata": {},
   "outputs": [],
   "source": [
    "FIDUCIAL_LINEAR_BIAS = lambda z: 1.2 / Planck_15.scale_independent_growth_factor(z)\n",
    "FIDUCIAL_WAVENUMBERS = 1.e-3\n",
    "FIDUCIAL_NON_GAUSSNIANTY = 1."
   ]
  },
  {
   "cell_type": "markdown",
   "metadata": {},
   "source": [
    "## Relativistic correction quantiles"
   ]
  },
  {
   "cell_type": "code",
   "execution_count": 4,
   "metadata": {},
   "outputs": [],
   "source": [
    "chain_files = glob.glob(\"/\".join([\n",
    "    str(publication_dir), \"dense_points\", \"correction\", \"relcrct_z*m{}*\".format(threshold)\n",
    "]))"
   ]
  },
  {
   "cell_type": "code",
   "execution_count": 5,
   "metadata": {},
   "outputs": [],
   "source": [
    "quantile_levels = [0.022750, 0.158655, 0.5, 0.841345, 0.977250]"
   ]
  },
  {
   "cell_type": "code",
   "execution_count": 6,
   "metadata": {},
   "outputs": [],
   "source": [
    "dense_redshifts = []\n",
    "\n",
    "gz_quantiles = defaultdict(list)\n",
    "for chain_file in sorted(chain_files):\n",
    "    dense_redshifts.append(float(\n",
    "        re.search(\"_z(?P<redshift>.*?)_\", chain_file).group('redshift')\n",
    "    ))\n",
    "    with h5py.File(chain_file, 'r') as chain_data:\n",
    "        distilled = chain_data['distill/chain'][()]\n",
    "        gz_square_q = corner.quantile(np.square(distilled), q=quantile_levels)\n",
    "    for sigma_level_idx, sigma_level in enumerate([-2, -1, 0, 1, 2]):\n",
    "        gz_quantiles[sigma_level].append(np.sqrt(gz_square_q[sigma_level_idx]))"
   ]
  },
  {
   "cell_type": "markdown",
   "metadata": {},
   "source": [
    "Separate the high redshift part and the low redshift partat the pivot redshift."
   ]
  },
  {
   "cell_type": "code",
   "execution_count": 7,
   "metadata": {},
   "outputs": [],
   "source": [
    "discontinuity_pos = np.searchsorted(dense_redshifts, 2.2)\n",
    "\n",
    "if dense_redshifts[discontinuity_pos] == 2.2:\n",
    "    del dense_redshifts[discontinuity_pos]\n",
    "    for sigma_level in evolution_bias_quantiles:\n",
    "        del evolution_bias_quantiles[sigma_level][discontinuity_pos]\n",
    "        del magnification_bias_quantiles[sigma_level][discontinuity_pos]\n",
    "\n",
    "low_redshift_part = slice(0, discontinuity_pos)\n",
    "high_redshift_part = slice(discontinuity_pos, None)"
   ]
  },
  {
   "cell_type": "markdown",
   "metadata": {},
   "source": [
    "## Multipole Modifications"
   ]
  },
  {
   "cell_type": "code",
   "execution_count": 8,
   "metadata": {},
   "outputs": [],
   "source": [
    "monopole_RSD = np.asarray([\n",
    "    standard_kaiser_factor(0, FIDUCIAL_LINEAR_BIAS(z), z, cosmo=Planck_15) \n",
    "    for z in dense_redshifts\n",
    "])\n",
    "\n",
    "quadrupole_RSD = np.asarray([\n",
    "    standard_kaiser_factor(2, FIDUCIAL_LINEAR_BIAS(z), z, cosmo=Planck_15) \n",
    "    for z in dense_redshifts\n",
    "])"
   ]
  },
  {
   "cell_type": "code",
   "execution_count": 9,
   "metadata": {},
   "outputs": [],
   "source": [
    "monopole_PNG = np.asarray([\n",
    "    non_gaussianity_correction_factor(\n",
    "        FIDUCIAL_WAVENUMBERS, 0, FIDUCIAL_NON_GAUSSNIANTY, FIDUCIAL_LINEAR_BIAS(z), z, \n",
    "        cosmo=Planck_15, tracer_p=1.6\n",
    "    ) \n",
    "    for z in dense_redshifts\n",
    "])\n",
    "\n",
    "quadrupole_PNG = np.asarray([\n",
    "    non_gaussianity_correction_factor(\n",
    "        FIDUCIAL_WAVENUMBERS, 2, FIDUCIAL_NON_GAUSSNIANTY, FIDUCIAL_LINEAR_BIAS(z), z, \n",
    "        cosmo=Planck_15, tracer_p=1.6\n",
    "    ) \n",
    "    for z in dense_redshifts\n",
    "])"
   ]
  },
  {
   "cell_type": "code",
   "execution_count": 10,
   "metadata": {},
   "outputs": [],
   "source": [
    "monopole_GR = np.asarray([\n",
    "    relativistic_correction_factor(\n",
    "        FIDUCIAL_WAVENUMBERS, 0, z, \n",
    "        correction_value=gz, cosmo=Planck_15\n",
    "    )\n",
    "    for z, gz in zip(dense_redshifts, gz_quantiles[0])\n",
    "])\n",
    "\n",
    "monopole_GR_lower = np.asarray([\n",
    "    relativistic_correction_factor(\n",
    "        FIDUCIAL_WAVENUMBERS, 0, z, \n",
    "        correction_value=gz, cosmo=Planck_15\n",
    "    )\n",
    "    for z, gz in zip(dense_redshifts, gz_quantiles[-2])\n",
    "])\n",
    "\n",
    "monopole_GR_upper = np.asarray([\n",
    "    relativistic_correction_factor(\n",
    "        FIDUCIAL_WAVENUMBERS, 0, z, \n",
    "        correction_value=gz, cosmo=Planck_15\n",
    "    )\n",
    "    for z, gz in zip(dense_redshifts, gz_quantiles[2])\n",
    "])\n",
    "\n",
    "quadrupole_GR = np.asarray([\n",
    "    relativistic_correction_factor(\n",
    "        FIDUCIAL_WAVENUMBERS, 2, z, \n",
    "        correction_value=gz, cosmo=Planck_15\n",
    "    )\n",
    "    for z, gz in zip(dense_redshifts, gz_quantiles[0])\n",
    "])\n",
    "\n",
    "quadrupole_GR_lower = np.asarray([\n",
    "    relativistic_correction_factor(\n",
    "        FIDUCIAL_WAVENUMBERS, 2, z, \n",
    "        correction_value=gz, cosmo=Planck_15\n",
    "    )\n",
    "    for z, gz in zip(dense_redshifts, gz_quantiles[-2])\n",
    "])\n",
    "\n",
    "quadrupole_GR_upper = np.asarray([\n",
    "    relativistic_correction_factor(\n",
    "        FIDUCIAL_WAVENUMBERS, 2, z, \n",
    "        correction_value=gz, cosmo=Planck_15\n",
    "    )\n",
    "    for z, gz in zip(dense_redshifts, gz_quantiles[2])\n",
    "])"
   ]
  },
  {
   "cell_type": "code",
   "execution_count": 11,
   "metadata": {},
   "outputs": [
    {
     "data": {
      "image/png": "[encoded data removed]",
      "text/plain": [
       "<Figure size 480x525 with 2 Axes>"
      ]
     },
     "metadata": {
      "needs_background": "light"
     },
     "output_type": "display_data"
    }
   ],
   "source": [
    "ALPHA = 0.25\n",
    "if model == 'PLE_model':\n",
    "    SMOOTH = 0.01\n",
    "elif model == 'hybrid_model':\n",
    "    SMOOTH = 0.01\n",
    "\n",
    "fig = plt.figure(\"scale-dependent modifications\", figsize=(3.2, 3.5), dpi=150)\n",
    "\n",
    "monopole = plt.subplot2grid((2, 1), (0, 0))\n",
    "\n",
    "monopole.plot(\n",
    "    dense_redshifts, monopole_PNG / monopole_RSD,\n",
    "    ls='-.', c='#1A85FF', zorder=0, label=r\"$f_\\mathrm{NL} = 1$ modification\"\n",
    ")\n",
    "monopole.plot(\n",
    "    dense_redshifts, monopole_GR / monopole_RSD,\n",
    "    ls='--', c='#D41159', zorder=0, label=\"relativistic corrections\"\n",
    ")\n",
    "monopole.fill_between(\n",
    "    dense_redshifts, \n",
    "    monopole_GR_lower / monopole_RSD, monopole_GR_upper / monopole_RSD,\n",
    "    facecolor='#D41159', edgecolor='None', alpha=ALPHA, zorder=-1\n",
    ")\n",
    "\n",
    "monopole.legend(handlelength=1.4, loc='upper left')\n",
    "monopole.tick_params(axis='x', which='both', labelbottom=False)\n",
    "monopole.xaxis.set_minor_locator(AutoMinorLocator())\n",
    "monopole.yaxis.set_minor_locator(AutoMinorLocator())\n",
    "monopole.set_xlim(min(dense_redshifts), max(dense_redshifts))\n",
    "monopole.set_ylim(-0.2, 1.6)\n",
    "monopole.set_ylabel(r\"$\\Delta P_0\\left/P_0^\\mathrm{K}\\right.$\", labelpad=8)\n",
    "\n",
    "quadrupole = plt.subplot2grid((2, 1), (1, 0), sharex=monopole)\n",
    "\n",
    "quadrupole.plot(\n",
    "    dense_redshifts, quadrupole_PNG / quadrupole_RSD,\n",
    "    ls='-.', c='#1A85FF', zorder=0\n",
    ")\n",
    "quadrupole.plot(\n",
    "    dense_redshifts, gaussian_filter1d(quadrupole_GR / quadrupole_RSD, SMOOTH, mode='nearest'),\n",
    "    ls='--', c='#D41159', zorder=0\n",
    ")\n",
    "quadrupole.fill_between(\n",
    "    dense_redshifts, \n",
    "    gaussian_filter1d(quadrupole_GR_lower / quadrupole_RSD, SMOOTH, mode='nearest'), \n",
    "    gaussian_filter1d(quadrupole_GR_upper / quadrupole_RSD, SMOOTH, mode='nearest'),\n",
    "    facecolor='#D41159', edgecolor='None', alpha=ALPHA, zorder=-1\n",
    ")\n",
    "\n",
    "quadrupole.yaxis.set_minor_locator(AutoMinorLocator())\n",
    "quadrupole.set_ylim(-0.2, 3.4)\n",
    "quadrupole.set_xlabel(r\"$z$\")\n",
    "quadrupole.set_ylabel(r\"$\\Delta P_2\\left/P_2^\\mathrm{K}\\right.$\", labelpad=8)\n",
    "\n",
    "fig.suptitle(r\"$\\bar{{m}} = {}$\".format(threshold), fontsize='small', y=0.935)\n",
    "fig.savefig(publication_dir/\"gallery\"/\"scale-dependent_modifications_m{}.pdf\".format(threshold))"
   ]
  }
 ],
 "metadata": {
  "kernelspec": {
   "display_name": "Python 3",
   "language": "python",
   "name": "python3"
  },
  "language_info": {
   "codemirror_mode": {
    "name": "ipython",
    "version": 3
   },
   "file_extension": ".py",
   "mimetype": "text/x-python",
   "name": "python",
   "nbconvert_exporter": "python",
   "pygments_lexer": "ipython3",
   "version": "3.7.5"
  }
 },
 "nbformat": 4,
 "nbformat_minor": 2
}
