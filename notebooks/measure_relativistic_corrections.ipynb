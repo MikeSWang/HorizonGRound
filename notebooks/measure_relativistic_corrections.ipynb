{
 "cells": [
  {
   "cell_type": "markdown",
   "metadata": {},
   "source": [
    "# Measurements of Relativistic Corrections"
   ]
  },
  {
   "cell_type": "markdown",
   "metadata": {},
   "source": [
    "Start in the appropriate notebook directory."
   ]
  },
  {
   "cell_type": "code",
   "execution_count": 1,
   "metadata": {},
   "outputs": [],
   "source": [
    "# %cd /mnt/lustre/mikewang/projects/HorizonGRound/notebooks/"
   ]
  },
  {
   "cell_type": "markdown",
   "metadata": {},
   "source": [
    "Set up the appropriate paths."
   ]
  },
  {
   "cell_type": "code",
   "execution_count": 2,
   "metadata": {},
   "outputs": [],
   "source": [
    "import os, sys\n",
    "\n",
    "current_file_dir = os.getcwd()\n",
    "sys.path.insert(0, \"\".join([current_file_dir, \"/../\"]))\n",
    "os.environ['HDF5_USE_FILE_LOCKING'] = 'FALSE'\n",
    "\n",
    "from config.program import data_dir, stylesheet\n",
    "\n",
    "publication_dir = data_dir/\"output\"/\"publication\""
   ]
  },
  {
   "cell_type": "markdown",
   "metadata": {},
   "source": [
    "Import the appropriate packages."
   ]
  },
  {
   "cell_type": "code",
   "execution_count": 3,
   "metadata": {},
   "outputs": [],
   "source": [
    "import glob\n",
    "import re\n",
    "from collections import defaultdict\n",
    "\n",
    "import corner\n",
    "import h5py\n",
    "import matplotlib.pyplot as plt\n",
    "import numpy as np\n",
    "from matplotlib.ticker import AutoMinorLocator\n",
    "\n",
    "plt.style.use(stylesheet)"
   ]
  },
  {
   "cell_type": "markdown",
   "metadata": {},
   "source": [
    "## Relativistic correction function quantiles"
   ]
  },
  {
   "cell_type": "markdown",
   "metadata": {},
   "source": [
    "Load samples of the relativistic correction function at densly sampled redshifts and determine their quantiles."
   ]
  },
  {
   "cell_type": "code",
   "execution_count": 4,
   "metadata": {},
   "outputs": [],
   "source": [
    "distilled_chain_files = glob.glob(\n",
    "    \"/\".join([str(publication_dir), \"dense_points\", \"relcrct_z*\"])\n",
    ")"
   ]
  },
  {
   "cell_type": "code",
   "execution_count": 5,
   "metadata": {},
   "outputs": [],
   "source": [
    "quantile_levels = [0.022750, 0.158655, 0.5, 0.841345, 0.977250]"
   ]
  },
  {
   "cell_type": "code",
   "execution_count": 6,
   "metadata": {},
   "outputs": [],
   "source": [
    "dense_redshifts = []\n",
    "gz_quantiles = defaultdict(list)\n",
    "for chain_file in sorted(distilled_chain_files):\n",
    "    dense_redshifts.append(float(\n",
    "        re.search(\"_z(?P<redshift>.*?)_\", chain_file).group('redshift')\n",
    "    ))\n",
    "    with h5py.File(chain_file, 'r') as chain_data:\n",
    "        distilled = chain_data['distill/chain'][()]\n",
    "        gz_q = corner.quantile(distilled[:], q=quantile_levels)\n",
    "    for sigma_level_idx, sigma_level in enumerate([-2, -1, 0, 1, 2]):\n",
    "        gz_quantiles[sigma_level].append(gz_q[sigma_level_idx])"
   ]
  },
  {
   "cell_type": "markdown",
   "metadata": {},
   "source": [
    "## Relativistic correction function measurements"
   ]
  },
  {
   "cell_type": "markdown",
   "metadata": {},
   "source": [
    "Load samples of the relativistic correction function in eBOSS QSO LF redshift bins and determine the estimates with uncertainties."
   ]
  },
  {
   "cell_type": "code",
   "execution_count": 7,
   "metadata": {},
   "outputs": [],
   "source": [
    "measured_chain_files = glob.glob(\n",
    "    \"/\".join([str(publication_dir), \"eBOSS_binning\", \"relcrct_z*\"])\n",
    ")"
   ]
  },
  {
   "cell_type": "code",
   "execution_count": 8,
   "metadata": {},
   "outputs": [],
   "source": [
    "estimate_levels = [0.158655, 0.5, 0.841345]"
   ]
  },
  {
   "cell_type": "code",
   "execution_count": 9,
   "metadata": {},
   "outputs": [],
   "source": [
    "measured_redshifts = []\n",
    "gz_estimates = defaultdict(list)\n",
    "for chain_file in sorted(measured_chain_files):\n",
    "    measured_redshifts.append(float(\n",
    "        re.search(\"_z(?P<redshift>.*?)_\", chain_file).group('redshift')\n",
    "    ))\n",
    "    with h5py.File(chain_file, 'r') as chain_data:\n",
    "        distilled = chain_data['distill/chain'][()]\n",
    "        gz_e = corner.quantile(distilled[:], q=estimate_levels)\n",
    "    for sigma_level_idx, sigma_level in enumerate([-1, 0, 1]):\n",
    "        gz_estimates[sigma_level].append(gz_e[sigma_level_idx])"
   ]
  },
  {
   "cell_type": "markdown",
   "metadata": {},
   "source": [
    "## Relativistic correction function constraints"
   ]
  },
  {
   "cell_type": "code",
   "execution_count": 10,
   "metadata": {},
   "outputs": [
    {
     "data": {
      "image/png": "[encoded data removed]",
      "text/plain": [
       "<Figure size 435x270 with 1 Axes>"
      ]
     },
     "metadata": {
      "needs_background": "light"
     },
     "output_type": "display_data"
    }
   ],
   "source": [
    "fig = plt.figure(\"relativistic corrections\", figsize=(2.9, 1.8), dpi=150)\n",
    "\n",
    "plt.errorbar(\n",
    "    measured_redshifts, gz_estimates[0], \n",
    "    yerr=[\n",
    "        np.subtract(gz_estimates[0], gz_estimates[-1]), \n",
    "        np.subtract(gz_estimates[1], gz_estimates[0])\n",
    "    ],\n",
    "    fmt='s', zorder=3\n",
    ")\n",
    "plt.fill_between(\n",
    "    dense_redshifts, gz_quantiles[-2], gz_quantiles[2],\n",
    "    facecolor='0.67', alpha=0.5, zorder=1\n",
    ")\n",
    "\n",
    "plt.xlim(min(dense_redshifts), max(dense_redshifts))\n",
    "plt.ylim(-0.00235, 0.00135)\n",
    "plt.yticks(np.arange(-0.002, 0.002, step=0.001))\n",
    "plt.gca().xaxis.set_minor_locator(AutoMinorLocator())\n",
    "plt.gca().yaxis.set_minor_locator(AutoMinorLocator())\n",
    "plt.xlabel(r\"$z$\")\n",
    "plt.ylabel(r\"$\\mathcal{H}g(z)$\")\n",
    "\n",
    "fig.savefig(publication_dir/\"gallery\"/\"relativistic_corrections.pdf\")"
   ]
  }
 ],
 "metadata": {
  "kernelspec": {
   "display_name": "Python 3",
   "language": "python",
   "name": "python3"
  },
  "language_info": {
   "codemirror_mode": {
    "name": "ipython",
    "version": 3
   },
   "file_extension": ".py",
   "mimetype": "text/x-python",
   "name": "python",
   "nbconvert_exporter": "python",
   "pygments_lexer": "ipython3",
   "version": "3.7.5"
  }
 },
 "nbformat": 4,
 "nbformat_minor": 2
}
