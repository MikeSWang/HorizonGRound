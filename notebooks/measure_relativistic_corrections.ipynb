{
 "cells": [
  {
   "cell_type": "markdown",
   "metadata": {},
   "source": [
    "# Measurements of Relativistic Corrections"
   ]
  },
  {
   "cell_type": "markdown",
   "metadata": {},
   "source": [
    "Start in the appropriate notebook directory."
   ]
  },
  {
   "cell_type": "code",
   "execution_count": 1,
   "metadata": {},
   "outputs": [],
   "source": [
    "# %cd /mnt/lustre/mikewang/projects/HorizonGRound/notebooks/"
   ]
  },
  {
   "cell_type": "markdown",
   "metadata": {},
   "source": [
    "Set up the appropriate paths."
   ]
  },
  {
   "cell_type": "code",
   "execution_count": 2,
   "metadata": {},
   "outputs": [],
   "source": [
    "import os, sys\n",
    "\n",
    "current_file_dir = os.getcwd()\n",
    "sys.path.insert(0, \"\".join([current_file_dir, \"/../\"]))\n",
    "os.environ['HDF5_USE_FILE_LOCKING'] = 'FALSE'\n",
    "\n",
    "from config.program import SciFormatter, data_dir, stylesheet\n",
    "\n",
    "publication_dir = data_dir/\"output\"/\"publication\""
   ]
  },
  {
   "cell_type": "markdown",
   "metadata": {},
   "source": [
    "Import the appropriate packages."
   ]
  },
  {
   "cell_type": "code",
   "execution_count": 3,
   "metadata": {},
   "outputs": [],
   "source": [
    "import glob\n",
    "import re\n",
    "from collections import defaultdict\n",
    "\n",
    "import corner\n",
    "import h5py\n",
    "import matplotlib.pyplot as plt\n",
    "import numpy as np\n",
    "from matplotlib.ticker import AutoMinorLocator\n",
    "from nbodykit.cosmology import Planck15\n",
    "\n",
    "from horizonground.clustering_modification import relativistic_correction_value\n",
    "\n",
    "plt.style.use(stylesheet)"
   ]
  },
  {
   "cell_type": "markdown",
   "metadata": {},
   "source": [
    "## Relativistic correction quantiles"
   ]
  },
  {
   "cell_type": "markdown",
   "metadata": {},
   "source": [
    "Load samples of the relativistic correction contributions at densly sampled redshifts and determine their quantiles."
   ]
  },
  {
   "cell_type": "code",
   "execution_count": 4,
   "metadata": {},
   "outputs": [],
   "source": [
    "quantile_levels = [0.022750, 0.158655, 0.5, 0.841345, 0.977250]"
   ]
  },
  {
   "cell_type": "code",
   "execution_count": 5,
   "metadata": {},
   "outputs": [],
   "source": [
    "dense_redshifts = []\n",
    "gz_quantiles = defaultdict(list)\n",
    "for chain_file in sorted(\n",
    "        glob.glob(\"/\".join([str(publication_dir), \"dense_points\", \"correction\", \"relcrct_z*\"]))\n",
    "    ):\n",
    "    dense_redshifts.append(float(\n",
    "        re.search(\"_z(?P<redshift>.*?)_\", chain_file).group('redshift')\n",
    "    ))\n",
    "    with h5py.File(chain_file, 'r') as chain_data:\n",
    "        distilled = chain_data['distill/chain'][()]\n",
    "        gz_q = corner.quantile(distilled[:], q=quantile_levels)\n",
    "    for sigma_level_idx, sigma_level in enumerate([-2, -1, 0, 1, 2]):\n",
    "        gz_quantiles[sigma_level].append(gz_q[sigma_level_idx])"
   ]
  },
  {
   "cell_type": "code",
   "execution_count": 6,
   "metadata": {},
   "outputs": [],
   "source": [
    "dense_redshifts = []\n",
    "gz_evol_quantiles = defaultdict(list)\n",
    "for chain_file in sorted(\n",
    "        glob.glob(\"/\".join([str(publication_dir), \"dense_points\", \"correction\", \"relcrct_evol_z*\"]))\n",
    "    ):\n",
    "    dense_redshifts.append(float(\n",
    "        re.search(\"_z(?P<redshift>.*?)_\", chain_file).group('redshift')\n",
    "    ))\n",
    "    with h5py.File(chain_file, 'r') as chain_data:\n",
    "        distilled = chain_data['distill/chain'][()]\n",
    "        gz_evol_q = corner.quantile(distilled[:], q=quantile_levels)\n",
    "    for sigma_level_idx, sigma_level in enumerate([-2, -1, 0, 1, 2]):\n",
    "        gz_evol_quantiles[sigma_level].append(gz_evol_q[sigma_level_idx])"
   ]
  },
  {
   "cell_type": "code",
   "execution_count": 7,
   "metadata": {},
   "outputs": [],
   "source": [
    "dense_redshifts = []\n",
    "gz_magn_quantiles = defaultdict(list)\n",
    "for chain_file in sorted(\n",
    "        glob.glob(\"/\".join([str(publication_dir), \"dense_points\", \"correction\", \"relcrct_magn_z*\"]))\n",
    "    ):\n",
    "    dense_redshifts.append(float(\n",
    "        re.search(\"_z(?P<redshift>.*?)_\", chain_file).group('redshift')\n",
    "    ))\n",
    "    with h5py.File(chain_file, 'r') as chain_data:\n",
    "        distilled = chain_data['distill/chain'][()]\n",
    "        gz_magn_q = corner.quantile(distilled[:], q=quantile_levels)\n",
    "    for sigma_level_idx, sigma_level in enumerate([-2, -1, 0, 1, 2]):\n",
    "        gz_magn_quantiles[sigma_level].append(gz_magn_q[sigma_level_idx])"
   ]
  },
  {
   "cell_type": "code",
   "execution_count": 8,
   "metadata": {},
   "outputs": [],
   "source": [
    "discontinuity_pos = np.searchsorted(dense_redshifts, 2.2)\n",
    "\n",
    "if dense_redshifts[discontinuity_pos] == 2.2:\n",
    "    del dense_redshifts[discontinuity_pos]\n",
    "    for sigma_level in evolution_bias_quantiles:\n",
    "        del gz_evol_quantiles[sigma_level][discontinuity_pos]\n",
    "        del gz_magn_quantiles[sigma_level][discontinuity_pos]\n",
    "\n",
    "low_redshift_part = slice(0, discontinuity_pos)\n",
    "high_redshift_part = slice(discontinuity_pos, None)"
   ]
  },
  {
   "cell_type": "markdown",
   "metadata": {},
   "source": [
    "## Relativistic correction measurements"
   ]
  },
  {
   "cell_type": "markdown",
   "metadata": {},
   "source": [
    "Load samples of the relativistic correction contributions in eBOSS QSO LF redshift bins and determine the estimates with uncertainties."
   ]
  },
  {
   "cell_type": "code",
   "execution_count": 9,
   "metadata": {},
   "outputs": [],
   "source": [
    "estimate_levels = [0.158655, 0.5, 0.841345]"
   ]
  },
  {
   "cell_type": "code",
   "execution_count": 10,
   "metadata": {},
   "outputs": [],
   "source": [
    "measured_redshifts = []\n",
    "gz_estimates = defaultdict(list)\n",
    "for chain_file in sorted(\n",
    "        glob.glob(\"/\".join([str(publication_dir), \"eBOSS_binning\", \"relcrct_z*\"]))\n",
    "    ):\n",
    "    measured_redshifts.append(float(\n",
    "        re.search(\"_z(?P<redshift>.*?)_\", chain_file).group('redshift')\n",
    "    ))\n",
    "    with h5py.File(chain_file, 'r') as chain_data:\n",
    "        distilled = chain_data['distill/chain'][()]\n",
    "        gz_e = corner.quantile(distilled[:], q=estimate_levels)\n",
    "    for sigma_level_idx, sigma_level in enumerate([-1, 0, 1]):\n",
    "        gz_estimates[sigma_level].append(gz_e[sigma_level_idx])"
   ]
  },
  {
   "cell_type": "markdown",
   "metadata": {},
   "source": [
    "## Relativistic correction contributions"
   ]
  },
  {
   "cell_type": "markdown",
   "metadata": {},
   "source": [
    "Compute the background relativistic corrections."
   ]
  },
  {
   "cell_type": "code",
   "execution_count": 11,
   "metadata": {},
   "outputs": [],
   "source": [
    "background_corrections = np.asarray([\n",
    "    relativistic_correction_value(z, cosmo=Planck15) for z in dense_redshifts\n",
    "])"
   ]
  },
  {
   "cell_type": "code",
   "execution_count": 12,
   "metadata": {},
   "outputs": [
    {
     "data": {
      "image/png": "[encoded data removed]",
      "text/plain": [
       "<Figure size 480x525 with 3 Axes>"
      ]
     },
     "metadata": {
      "needs_background": "light"
     },
     "output_type": "display_data"
    }
   ],
   "source": [
    "ALPHA = 0.5\n",
    "\n",
    "fig = plt.figure(\"relativistic correction contributions\", figsize=(3.2, 3.5), dpi=150, constrained_layout=True)\n",
    "\n",
    "\n",
    "# Overall corrections\n",
    "# -------------------\n",
    "\n",
    "overall = plt.subplot2grid((4, 1), (0, 0), rowspan=2)\n",
    "\n",
    "overall.errorbar(\n",
    "    measured_redshifts, np.asarray(gz_estimates[0]),\n",
    "    yerr=[\n",
    "        np.asarray(gz_estimates[0]) - np.asarray(gz_estimates[-1]), \n",
    "        np.asarray(gz_estimates[1]) - np.asarray(gz_estimates[0])\n",
    "    ],\n",
    "    fmt='s'\n",
    ")\n",
    "\n",
    "for idx, part in enumerate([low_redshift_part, high_redshift_part]):\n",
    "    overall.fill_between(\n",
    "        dense_redshifts[part],\n",
    "        np.asarray(gz_quantiles[-2])[part], np.asarray(gz_quantiles[2])[part],\n",
    "        facecolor='0.67', alpha=ALPHA,\n",
    "        # label='overall' if idx == 0 else None\n",
    "    )\n",
    "#     overall.fill_between(\n",
    "#         dense_redshifts[part],\n",
    "#         np.asarray(gz_evol_quantiles[-2])[part] / 10., \n",
    "#         np.asarray(gz_evol_quantiles[2])[part] / 10.,\n",
    "#         facecolor='#D41159', alpha=ALPHA,\n",
    "#         label=r'$b_\\mathrm{e}$ contribution' if idx == 0 else None\n",
    "#     )\n",
    "#     overall.fill_between(\n",
    "#         dense_redshifts[part],\n",
    "#         np.asarray(gz_magn_quantiles[-2])[part], np.asarray(gz_magn_quantiles[2])[part],\n",
    "#         facecolor='#1A85FF', alpha=ALPHA,\n",
    "#         label=r'$s$ contribution' if idx == 0 else None\n",
    "#     )\n",
    "\n",
    "# overall.plot(\n",
    "#     dense_redshifts, background_corrections, \n",
    "#     ls='--', c='k', label='background contribution'\n",
    "# )\n",
    "\n",
    "overall.axvline(x=2.2, ls=':', c='0.5')\n",
    "\n",
    "handles, labels = overall.get_legend_handles_labels()\n",
    "\n",
    "overall.legend(reversed(handles), reversed(labels), handlelength=1.5)\n",
    "overall.tick_params(axis='x', which='both', labelbottom=False)\n",
    "overall.set_xticks(np.arange(0., 5., step=0.5))\n",
    "overall.set_yticks(np.arange(-0.01, 0.01, step=0.002))\n",
    "overall.xaxis.set_minor_locator(AutoMinorLocator())\n",
    "overall.yaxis.set_minor_locator(AutoMinorLocator())\n",
    "overall.set_xlim(min(dense_redshifts), max(dense_redshifts))\n",
    "overall.set_ylim(-0.007, 0.003)\n",
    "overall.set_ylabel(r\"$\\mathcal{H} g(z)\\ [h/\\mathrm{Mpc}]$\", labelpad=2)\n",
    "\n",
    "\n",
    "# Evolution uncertainty contribution\n",
    "# ----------------------------------\n",
    "\n",
    "uncertainty_evol = plt.subplot2grid((4, 1), (2, 0), sharex=overall)\n",
    "\n",
    "for idx, part in enumerate([low_redshift_part, high_redshift_part]):\n",
    "    uncertainty_evol.fill_between(\n",
    "        dense_redshifts[part], \n",
    "        np.subtract(gz_evol_quantiles[-1], gz_evol_quantiles[0])[part],\n",
    "        np.subtract(gz_evol_quantiles[1], gz_evol_quantiles[0])[part],\n",
    "        facecolor='0.67', alpha=ALPHA\n",
    "    )\n",
    "#     uncertainty_evol.plot(\n",
    "#         dense_redshifts[part], \n",
    "#         np.subtract(gz_evol_quantiles[-1], gz_evol_quantiles[0])[part],\n",
    "#         c='k', ls='--'\n",
    "#     )\n",
    "#     uncertainty_evol.plot(\n",
    "#         dense_redshifts[part], \n",
    "#         np.subtract(gz_evol_quantiles[1], gz_evol_quantiles[0])[part],\n",
    "#         c='k', ls='--'\n",
    "#     )\n",
    "    \n",
    "uncertainty_evol.axvline(x=2.2, ls=':', c='0.5')\n",
    "\n",
    "uncertainty_evol.set_title(\n",
    "    r'$b_\\mathrm{e}$ contribution', loc='left', position=(0.04, 0.025), fontsize='small'\n",
    ")\n",
    "uncertainty_evol.tick_params(axis='x', which='both', labelbottom=False)\n",
    "uncertainty_evol.set_yticks(np.arange(-2.e-3, 2.e-3, step=1.e-3))\n",
    "uncertainty_evol.yaxis.set_major_formatter(SciFormatter(\"%1.0e\"))\n",
    "uncertainty_evol.yaxis.set_minor_locator(AutoMinorLocator())\n",
    "uncertainty_evol.set_ylim(-1.8e-3, 1.8e-3)\n",
    "\n",
    "\n",
    "# Magnification uncertainty contribution\n",
    "# --------------------------------------\n",
    "\n",
    "uncertainty_magn = plt.subplot2grid((4, 1), (3, 0), sharex=overall)\n",
    "\n",
    "for idx, part in enumerate([low_redshift_part, high_redshift_part]):\n",
    "    uncertainty_magn.fill_between(\n",
    "        dense_redshifts[part],\n",
    "        np.subtract(gz_magn_quantiles[-1], gz_magn_quantiles[0])[part],\n",
    "        np.subtract(gz_magn_quantiles[1], gz_magn_quantiles[0])[part],\n",
    "        facecolor='0.67', alpha=ALPHA\n",
    "    )\n",
    "#     uncertainty_magn.plot(\n",
    "#         dense_redshifts[part], \n",
    "#         np.subtract(gz_magn_quantiles[-1], gz_magn_quantiles[0])[part],\n",
    "#         c='k', ls='--'\n",
    "#     )\n",
    "#     uncertainty_magn.plot(\n",
    "#         dense_redshifts[part], \n",
    "#         np.subtract(gz_magn_quantiles[1], gz_magn_quantiles[0])[part],\n",
    "#         c='k', ls='--'\n",
    "#     )\n",
    "\n",
    "uncertainty_magn.axvline(x=2.2, ls=':', c='0.5')\n",
    "\n",
    "uncertainty_magn.set_title(\n",
    "    r'$s$ contribution', loc='left', position=(0.04, 0.025), fontsize='small'\n",
    ")\n",
    "uncertainty_magn.set_yticks(np.arange(-2.e-5, 2.e-5, step=1.e-5))\n",
    "uncertainty_magn.yaxis.set_major_formatter(SciFormatter(\"%1.0e\"))\n",
    "uncertainty_magn.yaxis.set_minor_locator(AutoMinorLocator())\n",
    "uncertainty_magn.set_ylim(-1.8e-5, 1.8e-5)\n",
    "uncertainty_magn.set_xlabel(r\"$z$\")\n",
    "\n",
    "fig.text(\n",
    "    -0.0525, 0.31, r\"$\\mathcal{H} \\sigma_g(z)\\ [h/\\mathrm{Mpc}]$\", \n",
    "    ha='center', va='center', rotation='vertical'\n",
    ")\n",
    "fig.subplots_adjust(wspace=0.)\n",
    "fig.savefig(publication_dir/\"gallery\"/\"relativistic_correction_breakdown.pdf\")"
   ]
  }
 ],
 "metadata": {
  "kernelspec": {
   "display_name": "Python 3",
   "language": "python",
   "name": "python3"
  },
  "language_info": {
   "codemirror_mode": {
    "name": "ipython",
    "version": 3
   },
   "file_extension": ".py",
   "mimetype": "text/x-python",
   "name": "python",
   "nbconvert_exporter": "python",
   "pygments_lexer": "ipython3",
   "version": "3.7.5"
  }
 },
 "nbformat": 4,
 "nbformat_minor": 2
}
