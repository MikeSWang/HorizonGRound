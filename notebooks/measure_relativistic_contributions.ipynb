{
 "cells": [
  {
   "cell_type": "markdown",
   "metadata": {},
   "source": [
    "# Measurements of Relativistic Corrections"
   ]
  },
  {
   "cell_type": "markdown",
   "metadata": {},
   "source": [
    "Start in the appropriate notebook directory."
   ]
  },
  {
   "cell_type": "code",
   "execution_count": 1,
   "metadata": {},
   "outputs": [],
   "source": [
    "# %cd /mnt/lustre/mikewang/projects/HorizonGRound/notebooks/"
   ]
  },
  {
   "cell_type": "markdown",
   "metadata": {},
   "source": [
    "Set up the appropriate paths."
   ]
  },
  {
   "cell_type": "code",
   "execution_count": 2,
   "metadata": {},
   "outputs": [],
   "source": [
    "import os, sys\n",
    "\n",
    "current_file_dir = os.getcwd()\n",
    "sys.path.insert(0, \"\".join([current_file_dir, \"/../\"]))\n",
    "os.environ['HDF5_USE_FILE_LOCKING'] = 'FALSE'\n",
    "\n",
    "from config.program import data_dir, stylesheet\n",
    "\n",
    "publication_dir = data_dir/\"output\"/\"publication\""
   ]
  },
  {
   "cell_type": "markdown",
   "metadata": {},
   "source": [
    "Import the appropriate packages."
   ]
  },
  {
   "cell_type": "code",
   "execution_count": 3,
   "metadata": {},
   "outputs": [],
   "source": [
    "import glob\n",
    "import re\n",
    "from collections import defaultdict\n",
    "\n",
    "import corner\n",
    "import h5py\n",
    "import matplotlib.pyplot as plt\n",
    "import numpy as np\n",
    "from matplotlib.ticker import AutoMinorLocator\n",
    "from nbodykit.cosmology import Planck15\n",
    "\n",
    "from horizonground.clustering_modification import relativistic_correction_value\n",
    "\n",
    "plt.style.use(stylesheet)"
   ]
  },
  {
   "cell_type": "markdown",
   "metadata": {},
   "source": [
    "## Relativistic correction quantiles"
   ]
  },
  {
   "cell_type": "code",
   "execution_count": 4,
   "metadata": {},
   "outputs": [],
   "source": [
    "quantile_levels = [0.022750, 0.158655, 0.5, 0.841345, 0.977250]"
   ]
  },
  {
   "cell_type": "code",
   "execution_count": 5,
   "metadata": {},
   "outputs": [],
   "source": [
    "dense_redshifts = []\n",
    "gz_quantiles = defaultdict(list)\n",
    "for chain_file in sorted(glob.glob(\"/\".join([str(publication_dir), \"dense_points\", \"relcrct_z*\"]))):\n",
    "    dense_redshifts.append(float(re.search(\"_z(?P<redshift>.*?)_\", chain_file).group('redshift')))\n",
    "    with h5py.File(chain_file, 'r') as chain_data:\n",
    "        distilled = chain_data['distill/chain'][()]\n",
    "        gz_q = corner.quantile(distilled[:], q=quantile_levels)\n",
    "    for sigma_level_idx, sigma_level in enumerate([-2, -1, 0, 1, 2]):\n",
    "        gz_quantiles[sigma_level].append(gz_q[sigma_level_idx])"
   ]
  },
  {
   "cell_type": "code",
   "execution_count": 6,
   "metadata": {},
   "outputs": [],
   "source": [
    "dense_redshifts = []\n",
    "gz_evol_quantiles = defaultdict(list)\n",
    "for chain_file in sorted(glob.glob(\"/\".join([str(publication_dir), \"dense_points\", \"relcrct_evol_z*\"]))):\n",
    "    dense_redshifts.append(float(re.search(\"_z(?P<redshift>.*?)_\", chain_file).group('redshift')))\n",
    "    with h5py.File(chain_file, 'r') as chain_data:\n",
    "        distilled = chain_data['distill/chain'][()]\n",
    "        gz_evol_q = corner.quantile(distilled[:], q=quantile_levels)\n",
    "    for sigma_level_idx, sigma_level in enumerate([-2, -1, 0, 1, 2]):\n",
    "        gz_evol_quantiles[sigma_level].append(gz_evol_q[sigma_level_idx])"
   ]
  },
  {
   "cell_type": "code",
   "execution_count": 7,
   "metadata": {},
   "outputs": [],
   "source": [
    "dense_redshifts = []\n",
    "gz_magn_quantiles = defaultdict(list)\n",
    "for chain_file in sorted(glob.glob(\"/\".join([str(publication_dir), \"dense_points\", \"relcrct_magn_z*\"]))):\n",
    "    dense_redshifts.append(float(re.search(\"_z(?P<redshift>.*?)_\", chain_file).group('redshift')))\n",
    "    with h5py.File(chain_file, 'r') as chain_data:\n",
    "        distilled = chain_data['distill/chain'][()]\n",
    "        gz_magn_q = corner.quantile(distilled[:], q=quantile_levels)\n",
    "    for sigma_level_idx, sigma_level in enumerate([-2, -1, 0, 1, 2]):\n",
    "        gz_magn_quantiles[sigma_level].append(gz_magn_q[sigma_level_idx])"
   ]
  },
  {
   "cell_type": "markdown",
   "metadata": {},
   "source": [
    "## Relativistic correction measurements"
   ]
  },
  {
   "cell_type": "code",
   "execution_count": 8,
   "metadata": {},
   "outputs": [],
   "source": [
    "estimate_levels = [0.158655, 0.5, 0.841345]"
   ]
  },
  {
   "cell_type": "code",
   "execution_count": 9,
   "metadata": {},
   "outputs": [],
   "source": [
    "measured_redshifts = []\n",
    "gz_estimates = defaultdict(list)\n",
    "for chain_file in sorted(glob.glob(\"/\".join([str(publication_dir), \"eBOSS_binning\", \"relcrct_z*\"]))):\n",
    "    measured_redshifts.append(float(re.search(\"_z(?P<redshift>.*?)_\", chain_file).group('redshift')))\n",
    "    with h5py.File(chain_file, 'r') as chain_data:\n",
    "        distilled = chain_data['distill/chain'][()]\n",
    "        gz_e = corner.quantile(distilled[:], q=estimate_levels)\n",
    "    for sigma_level_idx, sigma_level in enumerate([-1, 0, 1]):\n",
    "        gz_estimates[sigma_level].append(gz_e[sigma_level_idx])"
   ]
  },
  {
   "cell_type": "code",
   "execution_count": 10,
   "metadata": {},
   "outputs": [],
   "source": [
    "measured_redshifts = []\n",
    "gz_evol_estimates = defaultdict(list)\n",
    "for chain_file in sorted(glob.glob(\"/\".join([str(publication_dir), \"eBOSS_binning\", \"relcrct_evol_z*\"]))):\n",
    "    measured_redshifts.append(float(re.search(\"_z(?P<redshift>.*?)_\", chain_file).group('redshift')))\n",
    "    with h5py.File(chain_file, 'r') as chain_data:\n",
    "        distilled = chain_data['distill/chain'][()]\n",
    "        gz_evol_e = corner.quantile(distilled[:], q=estimate_levels)\n",
    "    for sigma_level_idx, sigma_level in enumerate([-1, 0, 1]):\n",
    "        gz_evol_estimates[sigma_level].append(gz_evol_e[sigma_level_idx])"
   ]
  },
  {
   "cell_type": "code",
   "execution_count": 11,
   "metadata": {},
   "outputs": [],
   "source": [
    "measured_redshifts = []\n",
    "gz_magn_estimates = defaultdict(list)\n",
    "for chain_file in sorted(glob.glob(\"/\".join([str(publication_dir), \"eBOSS_binning\", \"relcrct_magn_z*\"]))):\n",
    "    measured_redshifts.append(float(re.search(\"_z(?P<redshift>.*?)_\", chain_file).group('redshift')))\n",
    "    with h5py.File(chain_file, 'r') as chain_data:\n",
    "        distilled = chain_data['distill/chain'][()]\n",
    "        gz_magn_e = corner.quantile(distilled[:], q=estimate_levels)\n",
    "    for sigma_level_idx, sigma_level in enumerate([-1, 0, 1]):\n",
    "        gz_magn_estimates[sigma_level].append(gz_magn_e[sigma_level_idx])"
   ]
  },
  {
   "cell_type": "markdown",
   "metadata": {},
   "source": [
    "## Relativistic  contribution constraints"
   ]
  },
  {
   "cell_type": "code",
   "execution_count": 12,
   "metadata": {},
   "outputs": [],
   "source": [
    "background_corrections = np.asarray([relativistic_correction_value(z, cosmo=Planck15) for z in dense_redshifts])"
   ]
  },
  {
   "cell_type": "code",
   "execution_count": 13,
   "metadata": {},
   "outputs": [
    {
     "data": {
      "image/png": "[encoded data removed]",
      "text/plain": [
       "<Figure size 226.8x252 with 2 Axes>"
      ]
     },
     "metadata": {
      "needs_background": "light"
     },
     "output_type": "display_data"
    }
   ],
   "source": [
    "ALPHA = 0.5\n",
    "SCALING = 10**4\n",
    "\n",
    "fig = plt.figure(\"relativistic correction contributions\", figsize=(3.15, 3.5))\n",
    "\n",
    "overall = plt.subplot2grid((3, 1), (0, 0), rowspan=2)\n",
    "\n",
    "overall.fill_between(\n",
    "    dense_redshifts, SCALING * np.asarray(gz_quantiles[-2]), SCALING * np.asarray(gz_quantiles[2]),\n",
    "    facecolor='#1A85FF', alpha=ALPHA, label='overall'\n",
    ")\n",
    "overall.plot(\n",
    "    dense_redshifts, SCALING * background_corrections, \n",
    "    ls='--', color='#D41159', label='geometric'\n",
    ")\n",
    "\n",
    "overall.legend(handlelength=1.5)\n",
    "overall.tick_params(axis='x', which='both', labelbottom=False)\n",
    "overall.set_yticks(np.arange(-0.002 * SCALING, 0.001 * SCALING, step=0.0005*SCALING))\n",
    "overall.yaxis.set_minor_locator(AutoMinorLocator())\n",
    "overall.set_ylim(-0.0019 * SCALING, 0.0009 * SCALING)\n",
    "overall.set_ylabel(r\"$10^4\\mathcal{H}\\cdot g(z)\\ [h/\\mathrm{Mpc}]$\", labelpad=8)\n",
    "\n",
    "uncertainty = plt.subplot2grid((3, 1), (2, 0), sharex=overall)\n",
    "\n",
    "evol = uncertainty.fill_between(\n",
    "    dense_redshifts, \n",
    "    SCALING * np.subtract(gz_evol_quantiles[-1], gz_evol_quantiles[0]),\n",
    "    SCALING * np.subtract(gz_evol_quantiles[1], gz_evol_quantiles[0]),\n",
    "    facecolor='0.67', alpha=ALPHA, zorder=1, label=r'$\\Delta f_\\mathrm{e}$ contribution'\n",
    ")\n",
    "magn, = uncertainty.plot(\n",
    "    dense_redshifts, SCALING * np.subtract(gz_magn_quantiles[-1], gz_magn_quantiles[0]), \n",
    "    c='k', ls='--', label=r'$\\Delta s$ contribution'\n",
    ")\n",
    "uncertainty.plot(\n",
    "    dense_redshifts, SCALING * np.subtract(gz_magn_quantiles[1], gz_magn_quantiles[0]), \n",
    "    c='k', ls='--'\n",
    ")\n",
    "\n",
    "first_legend = plt.legend(handles=[evol], loc='upper left')\n",
    "ax = plt.gca().add_artist(first_legend)\n",
    "second_legend = plt.legend(handles=[magn], loc='lower left')\n",
    "\n",
    "uncertainty.set_yticks(np.arange(-0.0001 * SCALING, 0.0001 * SCALING, step=0.00005*SCALING))\n",
    "uncertainty.xaxis.set_minor_locator(AutoMinorLocator())\n",
    "uncertainty.yaxis.set_minor_locator(AutoMinorLocator())\n",
    "uncertainty.set_xlim(min(dense_redshifts), max(dense_redshifts))\n",
    "uncertainty.set_ylim(-0.00007 * SCALING, 0.00007 * SCALING)\n",
    "uncertainty.set_xlabel(r\"$z$\")\n",
    "uncertainty.set_ylabel(r\"$10^4\\mathcal{H}\\cdot\\Delta g(z)$\", labelpad=4)\n",
    "\n",
    "fig.savefig(publication_dir/\"gallery\"/\"relativistic_correction_breakdown.pdf\")"
   ]
  }
 ],
 "metadata": {
  "kernelspec": {
   "display_name": "Python 3",
   "language": "python",
   "name": "python3"
  },
  "language_info": {
   "codemirror_mode": {
    "name": "ipython",
    "version": 3
   },
   "file_extension": ".py",
   "mimetype": "text/x-python",
   "name": "python",
   "nbconvert_exporter": "python",
   "pygments_lexer": "ipython3",
   "version": "3.7.5"
  }
 },
 "nbformat": 4,
 "nbformat_minor": 2
}
