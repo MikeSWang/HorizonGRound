{
 "cells": [
  {
   "cell_type": "markdown",
   "metadata": {},
   "source": [
    "# Measurements of Relativistic Biases"
   ]
  },
  {
   "cell_type": "markdown",
   "metadata": {},
   "source": [
    "Start in the appropriate notebook directory."
   ]
  },
  {
   "cell_type": "code",
   "execution_count": 1,
   "metadata": {},
   "outputs": [],
   "source": [
    "# %cd /mnt/lustre/mikewang/projects/HorizonGRound/notebooks/"
   ]
  },
  {
   "cell_type": "markdown",
   "metadata": {},
   "source": [
    "Set up the appropriate paths."
   ]
  },
  {
   "cell_type": "code",
   "execution_count": 2,
   "metadata": {},
   "outputs": [],
   "source": [
    "import os, sys\n",
    "\n",
    "current_file_dir = os.getcwd()\n",
    "sys.path.insert(0, \"\".join([current_file_dir, \"/../\"]))\n",
    "os.environ['HDF5_USE_FILE_LOCKING'] = 'FALSE'\n",
    "\n",
    "from config.program import data_dir, stylesheet\n",
    "\n",
    "publication_dir = data_dir/\"output\"/\"publication\""
   ]
  },
  {
   "cell_type": "markdown",
   "metadata": {},
   "source": [
    "Import the appropriate packages."
   ]
  },
  {
   "cell_type": "code",
   "execution_count": 3,
   "metadata": {},
   "outputs": [],
   "source": [
    "import glob\n",
    "import re\n",
    "from collections import defaultdict\n",
    "\n",
    "import corner\n",
    "import h5py\n",
    "import matplotlib.pyplot as plt\n",
    "import numpy as np\n",
    "\n",
    "from matplotlib.ticker import MultipleLocator, AutoMinorLocator\n",
    "\n",
    "plt.style.use(stylesheet)"
   ]
  },
  {
   "cell_type": "markdown",
   "metadata": {},
   "source": [
    "## Relativistic bias quantiles"
   ]
  },
  {
   "cell_type": "code",
   "execution_count": 4,
   "metadata": {},
   "outputs": [],
   "source": [
    "extracted_chain_files = glob.glob(\"/\".join([str(publication_dir), \"dense_points\", \"relbias_z*\"]))"
   ]
  },
  {
   "cell_type": "code",
   "execution_count": 5,
   "metadata": {},
   "outputs": [],
   "source": [
    "sigma_levels = [-2, -1, 0, 1, 2]\n",
    "quantile_levels = [0.022750, 0.158655, 0.5, 0.841345, 0.977250]\n",
    "\n",
    "quantiles = dict(zip(sigma_levels, quantile_levels))"
   ]
  },
  {
   "cell_type": "code",
   "execution_count": 6,
   "metadata": {},
   "outputs": [],
   "source": [
    "dense_redshifts = []\n",
    "evolution_bias_quantiles = defaultdict(list)\n",
    "magnification_bias_quantiles = defaultdict(list)\n",
    "for chain_file in sorted(extracted_chain_files):\n",
    "    dense_redshifts.append(float(re.search(\"_z(?P<redshift>.*?)_\", chain_file).group('redshift')))\n",
    "    with h5py.File(chain_file, 'r') as chain_data:\n",
    "        extracts = chain_data['extract/chain'][()]\n",
    "        evol_b_q = corner.quantile(extracts[:, 0], q=quantile_levels)\n",
    "        magn_b_q = corner.quantile(extracts[:, 1], q=quantile_levels)\n",
    "    for sigma_level_idx, sigma_level in enumerate(sigma_levels):\n",
    "        evolution_bias_quantiles[sigma_level].append(evol_b_q[sigma_level_idx])\n",
    "        magnification_bias_quantiles[sigma_level].append(magn_b_q[sigma_level_idx])"
   ]
  },
  {
   "cell_type": "code",
   "execution_count": 7,
   "metadata": {},
   "outputs": [],
   "source": [
    "discontinuity_pos = np.searchsorted(dense_redshifts, 2.2)\n",
    "\n",
    "if dense_redshifts[discontinuity_pos] == 2.2:\n",
    "    del dense_redshifts[discontinuity_pos]\n",
    "    for sigma_level in evolution_bias_quantiles:\n",
    "        del evolution_bias_quantiles[sigma_level][discontinuity_pos]\n",
    "        del magnification_bias_quantiles[sigma_level][discontinuity_pos]\n",
    "\n",
    "low_redshift_part = slice(0, discontinuity_pos)\n",
    "high_redshift_part = slice(discontinuity_pos, None)"
   ]
  },
  {
   "cell_type": "markdown",
   "metadata": {},
   "source": [
    "## Relativistic bias measurements"
   ]
  },
  {
   "cell_type": "code",
   "execution_count": 8,
   "metadata": {},
   "outputs": [],
   "source": [
    "measured_chain_files = glob.glob(\"/\".join([str(publication_dir), \"eBOSS_binning\", \"relbias_z*\"]))"
   ]
  },
  {
   "cell_type": "code",
   "execution_count": 9,
   "metadata": {},
   "outputs": [],
   "source": [
    "estimate_levels = [0.158655, 0.5, 0.841345]"
   ]
  },
  {
   "cell_type": "code",
   "execution_count": 10,
   "metadata": {},
   "outputs": [],
   "source": [
    "measured_redshifts = []\n",
    "evolution_bias_estimates = defaultdict(list)\n",
    "magnification_bias_estimates = defaultdict(list)\n",
    "for chain_file in sorted(measured_chain_files):\n",
    "    measured_redshifts.append(float(re.search(\"_z(?P<redshift>.*?)_\", chain_file).group('redshift')))\n",
    "    with h5py.File(chain_file, 'r') as chain_data:\n",
    "        extracts = chain_data['extract/chain'][()]\n",
    "        evol_b_e = corner.quantile(extracts[:, 0], q=estimate_levels)\n",
    "        magn_b_e = corner.quantile(extracts[:, 1], q=estimate_levels)\n",
    "    for estimate_idx, estimate_level in enumerate([-1, 0, 1]):\n",
    "        evolution_bias_estimates[estimate_level].append(evol_b_e[estimate_idx])\n",
    "        magnification_bias_estimates[estimate_level].append(magn_b_e[estimate_idx])"
   ]
  },
  {
   "cell_type": "markdown",
   "metadata": {},
   "source": [
    "## Relativistic bias measurements"
   ]
  },
  {
   "cell_type": "code",
   "execution_count": 11,
   "metadata": {},
   "outputs": [
    {
     "data": {
      "image/png": "[encoded data removed]",
      "text/plain": [
       "<Figure size 230.4x230.4 with 2 Axes>"
      ]
     },
     "metadata": {
      "needs_background": "light"
     },
     "output_type": "display_data"
    }
   ],
   "source": [
    "LINESTYLE = '-'\n",
    "COLOUR = '#A3C1AD'\n",
    "ALPHA = 0.75\n",
    "\n",
    "fig = plt.figure(\"relativistic biases\", figsize=(3.2, 3.2))\n",
    "\n",
    "\n",
    "# EVOLUTION BIAS\n",
    "# --------------\n",
    "\n",
    "evolution = plt.subplot2grid((2, 1), (0, 0))\n",
    "\n",
    "evolution.errorbar(\n",
    "    measured_redshifts, evolution_bias_estimates[0], \n",
    "    yerr=[\n",
    "        np.subtract(evolution_bias_estimates[0], evolution_bias_estimates[-1]),\n",
    "        np.subtract(evolution_bias_estimates[1], evolution_bias_estimates[0]),\n",
    "    ],\n",
    "    fmt='s', zorder=3\n",
    ")\n",
    "for part in [low_redshift_part, high_redshift_part]:\n",
    "    evolution.fill_between(\n",
    "        dense_redshifts[part], evolution_bias_quantiles[-2][part], evolution_bias_quantiles[2][part],\n",
    "        facecolor=COLOUR, alpha=0.5*ALPHA, zorder=1\n",
    "    )\n",
    "\n",
    "evolution.axvline(x=2.2, ls='--', c='0.5')\n",
    "\n",
    "evolution.tick_params(axis='x', which='both', labelbottom=False)\n",
    "evolution.set_yticks(np.arange(-4., 20., step=4.))\n",
    "evolution.xaxis.set_minor_locator(AutoMinorLocator())\n",
    "evolution.yaxis.set_minor_locator(AutoMinorLocator())\n",
    "evolution.set_xlim(min(dense_redshifts), max(dense_redshifts))\n",
    "evolution.set_ylim(-1., 17.)\n",
    "evolution.set_ylabel(r\"$f_\\mathrm{e}(z)$\", labelpad=14)\n",
    "\n",
    "\n",
    "# MAGNIFICATION BIAS\n",
    "# ------------------\n",
    "\n",
    "magnification = plt.subplot2grid((2, 1), (1, 0), sharex=evolution)\n",
    "\n",
    "magnification.errorbar(\n",
    "    measured_redshifts, magnification_bias_estimates[0],  \n",
    "    yerr=[\n",
    "        np.subtract(magnification_bias_estimates[0], magnification_bias_estimates[-1]),\n",
    "        np.subtract(magnification_bias_estimates[1], magnification_bias_estimates[0]),\n",
    "    ],\n",
    "    fmt='s', zorder=3\n",
    ")\n",
    "for part in [low_redshift_part, high_redshift_part]:\n",
    "    magnification.fill_between(\n",
    "        dense_redshifts[part], magnification_bias_quantiles[-2][part], magnification_bias_quantiles[2][part],\n",
    "        facecolor=COLOUR, alpha=0.5*ALPHA, zorder=1\n",
    "    )\n",
    "    \n",
    "magnification.axvline(x=2.2, ls='--', c='0.5')\n",
    "\n",
    "magnification.set_yticks(np.arange(0., 0.2, step=0.04))\n",
    "magnification.yaxis.set_minor_locator(AutoMinorLocator())\n",
    "magnification.set_ylim(0.05, 0.19)\n",
    "magnification.set_xlabel(r\"$z$\")\n",
    "magnification.set_ylabel(r\"$s(z)$\", labelpad=5)\n",
    "\n",
    "fig.savefig(publication_dir/\"gallery\"/\"relativistic_biases.pdf\")"
   ]
  }
 ],
 "metadata": {
  "kernelspec": {
   "display_name": "Python 3",
   "language": "python",
   "name": "python3"
  },
  "language_info": {
   "codemirror_mode": {
    "name": "ipython",
    "version": 3
   },
   "file_extension": ".py",
   "mimetype": "text/x-python",
   "name": "python",
   "nbconvert_exporter": "python",
   "pygments_lexer": "ipython3",
   "version": "3.7.5"
  }
 },
 "nbformat": 4,
 "nbformat_minor": 2
}
