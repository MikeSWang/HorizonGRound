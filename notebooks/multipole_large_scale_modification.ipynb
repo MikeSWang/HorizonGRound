{
 "cells": [
  {
   "cell_type": "markdown",
   "metadata": {},
   "source": [
    "# Scale-Dependent Modification of Large-Scale Power Spectrum Multipoles"
   ]
  },
  {
   "cell_type": "markdown",
   "metadata": {},
   "source": [
    "Initiate notebook."
   ]
  },
  {
   "cell_type": "code",
   "execution_count": 1,
   "metadata": {},
   "outputs": [],
   "source": [
    "import os\n",
    "from collections import OrderedDict\n",
    "from pprint import pprint\n",
    "\n",
    "import matplotlib\n",
    "import matplotlib.pyplot as plt\n",
    "import numpy as np\n",
    "from matplotlib.lines import Line2D\n",
    "from nbodykit.lab import cosmology\n",
    "from scipy.integrate import quad\n",
    "from scipy.misc import derivative\n",
    "\n",
    "harmony = matplotlib.rc_params_from_file(\n",
    "    \"../config/horizon.mplstyle\",\n",
    "    use_default_template=False\n",
    ")\n"
   ]
  },
  {
   "cell_type": "markdown",
   "metadata": {},
   "source": [
    "We will use *Planck*15 as the fiducial cosmology."
   ]
  },
  {
   "cell_type": "code",
   "execution_count": 2,
   "metadata": {},
   "outputs": [
    {
     "data": {
      "text/plain": [
       "':class:`nbodykit.cosmology.cosmology.Cosmology`: Default *Planck*15\\ncosmology.\\n\\n'"
      ]
     },
     "execution_count": 2,
     "metadata": {},
     "output_type": "execute_result"
    }
   ],
   "source": [
    "FIDUCIAL_COSMOLOGY = cosmology.Planck15\n",
    "r\"\"\":class:`nbodykit.cosmology.cosmology.Cosmology`: Default *Planck*15\n",
    "cosmology.\n",
    "\n",
    "\"\"\""
   ]
  },
  {
   "cell_type": "markdown",
   "metadata": {},
   "source": [
    "## Base cosmological model"
   ]
  },
  {
   "cell_type": "markdown",
   "metadata": {},
   "source": [
    "Define the scale-dependence modification function\n",
    "    $$ A(k, z) = 3 \\left(\\frac{H_0}{\\mathrm{c}}\\right)^2 \\frac{\\delta_\\mathrm{c} \\Omega_\\mathrm{m,0}}{T(k, z)} $$\n",
    "so that linear bias is modified in the presence of local primordial non-Gaussianity by $\\Delta b(k, z) = f_\\mathrm{NL} [b_1(z) - 1] {A(k, z)}/{k^2}$."
   ]
  },
  {
   "cell_type": "code",
   "execution_count": 3,
   "metadata": {},
   "outputs": [],
   "source": [
    "def scale_dependence_modification(redshift, cosmo=FIDUCIAL_COSMOLOGY):\n",
    "    \"\"\"Return the scale-dependence modification due to local primordial\n",
    "    non-Gaussianity as a function of redshift.\n",
    "\n",
    "    Parameters\n",
    "    ----------\n",
    "    redshift : float\n",
    "        Redshift.\n",
    "    cosmo : :class:`nbodykit.cosmology.Cosmology`, optional\n",
    "        Base cosmological model (default is ``FIDUCIAL_COSMOLOGY``).\n",
    "\n",
    "    Returns\n",
    "    -------\n",
    "    callable\n",
    "        Scale-dependence modification as a function of wavenumber\n",
    "        (in h/Mpc).\n",
    "        \n",
    "    \"\"\"\n",
    "    SPHERICAL_COLLAPSE_CRITICAL_OVERDENSITY = 1.686\n",
    "    SPEED_OF_LIGHT_IN_KM_PER_S = 2998792.\n",
    "\n",
    "    numerical_constants = 3 * (100*cosmo.h / SPEED_OF_LIGHT_IN_KM_PER_S)**2 \\\n",
    "        * SPHERICAL_COLLAPSE_CRITICAL_OVERDENSITY * cosmo.Omega0_m\n",
    "    transfer_function = cosmology.power.transfers.CLASS(cosmo, redshift)\n",
    "\n",
    "    return lambda k: numerical_constants / transfer_function(k)"
   ]
  },
  {
   "cell_type": "markdown",
   "metadata": {},
   "source": [
    "Define the general relativistic corrections as a function of redshift\n",
    "    $$ g(z) = \\frac{\\dot{\\mathcal{H}}}{\\mathcal{H}} + \\mathcal{H} \\left(\\frac{2 - 5s}{\\mathcal{H} \\chi} + 5s - f_\\mathrm{ev} \\right) $$\n",
    "with evolution bias $f_\\mathrm{ev}(z)$ and magnification bias $s(z)$, so that the Fourier-space 2-point correlator is modified by $\\Delta \\left\\langle \\left\\vert\\delta(z, \\mathbf{k})\\right\\vert^2 \\right\\rangle = g(z)^2 f(z)^2 (\\mu^2/k^2) P_\\mathrm{m}(k, z)$.\n",
    "    \n",
    "We can rearrange this as the sum of three terms\n",
    "    $$ g(z) = \\underbrace{\\frac{2}{\\chi} + \\mathcal{H} \\left[1 - \\frac{3}{2} \\Omega_\\mathrm{m,0} (1 + z)^3\\right]}_{\\textrm{geometric}} \\phantom{+} \\underbrace{- \\mathcal{H} f_\\mathrm{ev}(z)}_{\\textrm{evolution}} + \\underbrace{5s(z)\\left(\\mathcal{H} - \\frac{1}{\\chi}\\right)}_{\\text{Doppler lensing}} \\,. $$"
   ]
  },
  {
   "cell_type": "code",
   "execution_count": 4,
   "metadata": {},
   "outputs": [],
   "source": [
    "def general_relativistic_corrections(cosmo=FIDUCIAL_COSMOLOGY,\n",
    "                                     geometric_bias=True,\n",
    "                                     evolution_bias=None, \n",
    "                                     magnification_bias=None):\n",
    "    \"\"\"Return the general relativistic corrections as a function of \n",
    "    redshift.\n",
    "\n",
    "    Parameters\n",
    "    ----------\n",
    "    cosmo : :class:`nbodykit.cosmology.Cosmology`, optional\n",
    "        Base cosmological model (default is ``FIDUCIAL_COSMOLOGY``).\n",
    "    geometric_bias : bool, optional\n",
    "        If `True` (default), include geometric bias.\n",
    "    evolution_bias, magnification_bias : callable or None, optional\n",
    "        Evolution bias or magnification bias as a function of redshift\n",
    "        (default is `None`).\n",
    "        \n",
    "    Returns\n",
    "    -------\n",
    "    callable\n",
    "        General relativistic correction as a function of redshift.\n",
    "\n",
    "    \"\"\"\n",
    "    background =  cosmology.background.MatterDominated(cosmo.Omega0_m)\n",
    "    chi = lambda z: cosmo.comoving_distance(z)\n",
    "    \n",
    "    H_0 = 100 * cosmo.h\n",
    "    a = lambda z: (1 + z)**(-1)\n",
    "    \n",
    "    H_conformal = lambda z: background.E(a(z)) * a(z) * H_0\n",
    "    \n",
    "    if geometric_bias:\n",
    "        geometric_term = lambda z: 0\n",
    "    else:\n",
    "        geometric_term = lambda z: \\\n",
    "            2 / chi(z) + H_conformal(z) * (\n",
    "                1 - 3/2 * cosmo.Omega0_m / a(z)**3\n",
    "            ) / H_conformal(z)\n",
    "    \n",
    "    if evolution_bias is None:\n",
    "        evolution_term = lambda z: 0.\n",
    "    else:\n",
    "        evolution_term = lambda z: - evolution_bias(z) # * H_conformal(z) \n",
    "        \n",
    "    if magnification_bias is None:\n",
    "        lensing_term = lambda z: 0.\n",
    "    else:\n",
    "        lensing_term = lambda z: \\\n",
    "            5 * magnification_bias(z) * (1 - 1/(H_conformal(z) * chi(z))) # * H_conformal(z) \n",
    "    \n",
    "    return lambda z: geometric_term(z) + evolution_term(z) + lensing_term(z)"
   ]
  },
  {
   "cell_type": "markdown",
   "metadata": {},
   "source": [
    "## Luminosty function modeller"
   ]
  },
  {
   "cell_type": "markdown",
   "metadata": {},
   "source": [
    "Generate parametric models for the luminosity function and perform related computations."
   ]
  },
  {
   "cell_type": "code",
   "execution_count": 5,
   "metadata": {},
   "outputs": [],
   "source": [
    "class LuminosityFunctionModeller:\n",
    "    \"\"\"Luminosity function modeller predicting the comoving number density\n",
    "    and related quantities.\n",
    "    \n",
    "    Parameters\n",
    "    ----------\n",
    "    luminosity_model : callable\n",
    "        Luminosity function parametric model with magnitude, redshift and\n",
    "        additional arguments (in that order).\n",
    "    magnitude_limit : float\n",
    "        Limiting magnitude.\n",
    "    **model_parameters\n",
    "        Keyword arguments to be passed to the specified parametric model.\n",
    "        \n",
    "    Attributes\n",
    "    ----------\n",
    "    luminosity_function : callable\n",
    "        Luminosity function of magnitude and redshift (in that order) only.\n",
    "    magnitude_limit : float\n",
    "        Limiting magnitude.\n",
    "    model_parameters : dict\n",
    "        Model parameters.\n",
    "    \n",
    "    \"\"\"\n",
    "    \n",
    "    def __init__(self, luminosity_model, magnitude_limit, \n",
    "                 **model_parameters):\n",
    "            \n",
    "        self.luminosity_function = lambda m, z: \\\n",
    "            luminosity_model(m, z, **model_parameters)\n",
    "        self.magnitude_limit = magnitude_limit\n",
    "        self.model_parameters = model_parameters\n",
    "            \n",
    "        self._comoving_number_density = None\n",
    "        self._evolution_bias = None\n",
    "        self._magnification_bias = None\n",
    "        \n",
    "    @classmethod\n",
    "    def from_parameters_file(cls, luminosity_model, magnitude_limit, \n",
    "                             file_path):\n",
    "        \"\"\"Instantiate a modeller by reading parameter values from a file.\n",
    "        \n",
    "        Parameters\n",
    "        ----------\n",
    "        luminosity_model : callable\n",
    "            Parametric luminosity function model with magnitude and\n",
    "            redshift arguments and additional arguments (in that order).\n",
    "        magnitude_limit : float\n",
    "            Limiting magnitude.\n",
    "        file_path : str\n",
    "            Path of the model parameter file.\n",
    "                \n",
    "        \"\"\"\n",
    "        with open(file_path, 'r') as pfile:\n",
    "            parameters = tuple(map(\n",
    "                lambda var_name: var_name.strip(\" \"), \n",
    "                pfile.readline().strip(\"#\").strip(\"\\n\").split(\",\")\n",
    "            ))\n",
    "            estimates = tuple(map(\n",
    "                lambda value: float(value), \n",
    "                pfile.readline().split(\",\")\n",
    "            ))\n",
    "            \n",
    "        return cls(\n",
    "            luminosity_model, magnitude_limit, \n",
    "            **dict(zip(parameters, estimates))\n",
    "        )\n",
    "    \n",
    "    @property\n",
    "    def comoving_number_density(self):\n",
    "        \"\"\"Comoving number density as a function of redshift.\n",
    "        \n",
    "        Returns\n",
    "        -------\n",
    "        callable\n",
    "        \n",
    "        \"\"\"\n",
    "        if callable(self._comoving_number_density):\n",
    "            return self._comoving_number_density\n",
    "        \n",
    "        self._comoving_number_density = lambda z: quad(\n",
    "            self.luminosity_function,\n",
    "            -40.,  # HINT: Instead of ``-inf`` for numerical stability.\n",
    "            self.magnitude_limit,\n",
    "            args=(z,)\n",
    "        )[0]\n",
    "        \n",
    "        return self._comoving_number_density\n",
    "    \n",
    "    @property\n",
    "    def evolution_bias(self):\n",
    "        \"\"\"Evolution bias as a function of redshift.\n",
    "        \n",
    "        Returns\n",
    "        -------\n",
    "        callable\n",
    "        \n",
    "        \"\"\"\n",
    "        if callable(self._evolution_bias):\n",
    "            return self._evolution_bias\n",
    "        \n",
    "        ln_comoving_number_density = lambda z: \\\n",
    "            np.log(self.comoving_number_density(z))\n",
    "        \n",
    "        self._evolution_bias = lambda z: \\\n",
    "            3 - (1 + z) * derivative(ln_comoving_number_density, z, dx=1e-2)\n",
    "        \n",
    "        return self._evolution_bias\n",
    "    \n",
    "    @property\n",
    "    def magnification_bias(self):\n",
    "        \"\"\"Magnification bias as a function of redshift.\n",
    "        \n",
    "        Returns\n",
    "        -------\n",
    "        callable\n",
    "        \n",
    "        \"\"\"        \n",
    "        if callable(self._magnification_bias):\n",
    "            return self._magnification_bias\n",
    "        \n",
    "        lg_luminosity_function = lambda m, z: \\\n",
    "            np.log10(self.luminosity_function(m, z))\n",
    "        \n",
    "        self._magnification_bias = lambda z: \\\n",
    "            self.luminosity_function(self.magnitude_limit, z) \\\n",
    "            / (np.log(10) * self.comoving_number_density(z))\n",
    "        \n",
    "        return self._magnification_bias"
   ]
  },
  {
   "cell_type": "markdown",
   "metadata": {},
   "source": [
    "Quasar luminosity function in the pure luminosity evolution model."
   ]
  },
  {
   "cell_type": "code",
   "execution_count": 6,
   "metadata": {},
   "outputs": [],
   "source": [
    "def quasar_luminosity_function_in_PLE_model(magnitude, redshift, \n",
    "                                            redshift_pivot=2.2, \n",
    "                                            **model_parameters_PLE):\n",
    "    \"\"\"Evaluate the pure luminosity evolution (PLE) model for the quasar\n",
    "    luminosity function at the given absolute magnitude and redshift.\n",
    "    \n",
    "    Notes\n",
    "    -----\n",
    "    Magnitude is absolute and measured in :math:`g`-band normalised to\n",
    "    the value at redshift 2.\n",
    "    \n",
    "    Parameters\n",
    "    ----------\n",
    "    magnitude : float\n",
    "        Quasar magnitude.\n",
    "    redshift : float\n",
    "        Quasar redshift.\n",
    "    redshift_pivot : float, optional\n",
    "        Pivot redshift.\n",
    "    **model_parameters_PLE\n",
    "        PLE model parameters.\n",
    "    \n",
    "    Returns\n",
    "    -------\n",
    "    comoving_density : float :class:`numpy.ndarray`\n",
    "        Predicted qausar comoving number density per unit magnitude.\n",
    "        \n",
    "    \"\"\"    \n",
    "    # Re-definitions.\n",
    "    M_g, z, z_p = magnitude, redshift, redshift_pivot\n",
    "    \n",
    "    # Determine the redshift end.\n",
    "    if z <= z_p:\n",
    "        subscript = '\\\\textrm{{{}}}'.format('l')\n",
    "    else:\n",
    "        subscript = '\\\\textrm{{{}}}'.format('h') \n",
    "    \n",
    "    # Set parameters.\n",
    "    Phi_star = 10**model_parameters_PLE['\\\\log\\\\Phi^\\\\ast']\n",
    "    M_g_star_p = model_parameters_PLE['M^\\\\ast_g(z_\\\\textrm{pivot})']\n",
    "    \n",
    "    alpha = model_parameters_PLE['\\\\alpha_{}'.format(subscript)]\n",
    "    beta = model_parameters_PLE['\\\\beta_{}'.format(subscript)]\n",
    "    k_1 = model_parameters_PLE['k_{{1{}}}'.format(subscript)]\n",
    "    k_2 = model_parameters_PLE['k_{{2{}}}'.format(subscript)]\n",
    "    \n",
    "    # Evaluate the model prediction.\n",
    "    exponent_magnitude_factor = M_g \\\n",
    "        - (M_g_star_p - 2.5*(k_1 * (z - z_p) + k_2 * (z - z_p)**2))\n",
    "    \n",
    "    faint_power_law = 10 ** (0.4*(alpha + 1) * exponent_magnitude_factor)\n",
    "    bright_power_law = 10 ** (0.4*(beta + 1) * exponent_magnitude_factor)\n",
    "    \n",
    "    comoving_density = Phi_star / (faint_power_law + bright_power_law)\n",
    "    \n",
    "    return comoving_density"
   ]
  },
  {
   "cell_type": "markdown",
   "metadata": {},
   "source": [
    "## Power spectrum modification"
   ]
  },
  {
   "cell_type": "markdown",
   "metadata": {},
   "source": [
    "Power spectrum multipole modification as a function of scale and redshift."
   ]
  },
  {
   "cell_type": "code",
   "execution_count": 7,
   "metadata": {},
   "outputs": [],
   "source": [
    "def general_relativistic_modification(wavenumber, redshift, multipole,\n",
    "                                      cosmo=FIDUCIAL_COSMOLOGY,\n",
    "                                      geometric_bias=True,\n",
    "                                      evolution_bias=None, \n",
    "                                      magnification_bias=None):\n",
    "    \"\"\"Power spectrum multipole modification by general relativistic\n",
    "    corrections as multiples of the matter power spectrum.\n",
    "        \n",
    "    Parameters\n",
    "    ----------\n",
    "    wavenumber : float, array_like\n",
    "        Wavenumber (in h/Mpc).\n",
    "    redshift : float\n",
    "        Redshift.\n",
    "    multipole : int\n",
    "        Order of the multipole, ``multipole >= 0``.\n",
    "    cosmo : :class:`nbodykit.cosmology.Cosmology`, optional\n",
    "        Base cosmological model (default is ``FIDUCIAL_COSMOLOGY``).\n",
    "    geometric_bias : bool, optional\n",
    "        If `True` (default), include geometric bias.\n",
    "    evolution_bias, magnification_bias : callable or None, optional\n",
    "        Evolution bias or magnification bias as a function of redshift\n",
    "        (default is `None`).\n",
    "        \n",
    "    Returns\n",
    "    -------\n",
    "    modification_factor : float :class:`numpy.ndarray`\n",
    "        Power spectrum multipole modification as multiples of the\n",
    "        matter power spectrum.\n",
    "    \n",
    "    \"\"\"    \n",
    "    correction_function = general_relativistic_corrections(\n",
    "        cosmo=cosmo, \n",
    "        geometric_bias=geometric_bias,\n",
    "        evolution_bias=evolution_bias, \n",
    "        magnification_bias=magnification_bias\n",
    "    )\n",
    "    \n",
    "    modification = correction_function(redshift)**2 \\\n",
    "        * cosmo.scale_independent_growth_factor(redshift)**2 \\\n",
    "        / wavenumber**2\n",
    "    \n",
    "    if multipole == 0:\n",
    "        modification_factor = 1/3 * modification\n",
    "    elif multipole == 2:\n",
    "        modification_factor = 2/3 * modification\n",
    "    else:\n",
    "        modification_factor = np.zeros(len(np.atleast_1d(wavenumber)))\n",
    "    \n",
    "    return modification_factor"
   ]
  },
  {
   "cell_type": "code",
   "execution_count": 8,
   "metadata": {},
   "outputs": [],
   "source": [
    "def non_gaussianity_multipole_modification(wavenumber, redshift, multipole,\n",
    "                                           f_nl, b_1, \n",
    "                                           cosmo=FIDUCIAL_COSMOLOGY):\n",
    "    \"\"\"Power spectrum multipole modification by local primordial\n",
    "    non-Gaussianity as multiples of the matter power spectrum.\n",
    "    \n",
    "    Parameters\n",
    "    ----------\n",
    "    wavenumber : float, array_like\n",
    "        Wavenumber (in h/Mpc).\n",
    "    redshift : float\n",
    "        Redshift.\n",
    "    multipole : int\n",
    "        Order of the multipole, ``multipole >= 0``.\n",
    "    f_nl : float\n",
    "        Local primordial non-Gaussianity.\n",
    "    b_1 : float\n",
    "        Scale-independent linear bias at the same redshift as `redshift`.\n",
    "    cosmo : :class:`nbodykit.cosmology.Cosmology`, optional\n",
    "        Base cosmological model (default is ``FIDUCIAL_COSMOLOGY``).\n",
    "        \n",
    "    Returns\n",
    "    -------\n",
    "    modification_factor : float :class:`numpy.ndarray`\n",
    "        Power spectrum multipole modification as multiples of the\n",
    "        matter power spectrum.\n",
    "    \n",
    "    \"\"\"\n",
    "    f = cosmo.scale_independent_growth_factor(redshift)\n",
    "    \n",
    "    modification_function = scale_dependence_modification(\n",
    "        redshift, cosmo=cosmo\n",
    "    )    \n",
    "    modification = f_nl / wavenumber**2 * (b_1 - 1) \\\n",
    "        * modification_function(wavenumber)\n",
    "    \n",
    "    if multipole == 0:\n",
    "        modification_factor = (2*b_1 + 2/3*f) * modification + modification**2\n",
    "    elif multipole == 2:\n",
    "        modification_factor = 4/3 * f * modification\n",
    "    else:\n",
    "        modification_factor = np.zeros(len(np.atleast_1d(wavenumber)))\n",
    "    \n",
    "    return modification_factor"
   ]
  },
  {
   "cell_type": "code",
   "execution_count": 9,
   "metadata": {},
   "outputs": [],
   "source": [
    "def kaiser_multipole_factor(redshift, multipole, b_1, \n",
    "                            cosmo=FIDUCIAL_COSMOLOGY):\n",
    "    \"\"\"Kaiser RSD model power spectrum multipoles as multiples of the\n",
    "    matter power spectrum.\n",
    "    \n",
    "    Parameters\n",
    "    ----------\n",
    "    redshift : float\n",
    "        Redshift.\n",
    "    multipole : int\n",
    "        Order of the multipole, ``multipole >= 0``.\n",
    "    b_1 : float\n",
    "        Scale-independent linear bias at the same redshift as `redshift`.\n",
    "    cosmo : :class:`nbodykit.cosmology.Cosmology`, optional\n",
    "        Base cosmological model (default is ``FIDUCIAL_COSMOLOGY``).\n",
    "        \n",
    "    Returns\n",
    "    -------\n",
    "    factor : float\n",
    "        Power spectrum multipoles as multiples of the matter power spectrum.\n",
    "    \n",
    "    \"\"\"\n",
    "    f = cosmo.scale_independent_growth_factor(redshift)\n",
    "        \n",
    "    if multipole == 0:\n",
    "        factor = 1 + 2/3 * f * b_1 + 1/5 * f**2\n",
    "    elif multipole == 2:\n",
    "        factor = 4/3 * f * b_1 + 4/7 * f**2\n",
    "    elif multipole == 4:\n",
    "        factor = 8/35 * f**2\n",
    "    else:\n",
    "        factor = 0.\n",
    "    \n",
    "    return factor"
   ]
  },
  {
   "cell_type": "markdown",
   "metadata": {},
   "source": [
    "## Fiducial results"
   ]
  },
  {
   "cell_type": "code",
   "execution_count": 10,
   "metadata": {},
   "outputs": [],
   "source": [
    "FIDUCIAL_REDSHIFT, FIDUCIAL_LINEAR_BIAS = 0., 2.\n",
    "\n",
    "wavenumbers = np.logspace(-3.5, -1.5, 201)\n",
    "degrees = [0, 2]"
   ]
  },
  {
   "cell_type": "code",
   "execution_count": 11,
   "metadata": {},
   "outputs": [],
   "source": [
    "kaiser_result = {\n",
    "    ell: kaiser_multipole_factor(\n",
    "        FIDUCIAL_REDSHIFT, ell, FIDUCIAL_LINEAR_BIAS\n",
    "    )\n",
    "    for ell in degrees\n",
    "}"
   ]
  },
  {
   "cell_type": "code",
   "execution_count": 12,
   "metadata": {
    "scrolled": false
   },
   "outputs": [
    {
     "name": "stderr",
     "output_type": "stream",
     "text": [
      "/home/wangm/.local/lib/python2.7/site-packages/ipykernel_launcher.py:47: RuntimeWarning: divide by zero encountered in double_scalars\n",
      "/home/wangm/.local/lib/python2.7/site-packages/ipykernel_launcher.py:42: RuntimeWarning: invalid value encountered in multiply\n",
      "/home/wangm/.local/lib/python2.7/site-packages/ipykernel_launcher.py:44: RuntimeWarning: invalid value encountered in multiply\n",
      "/home/wangm/.local/lib/python2.7/site-packages/ipykernel_launcher.py:35: RuntimeWarning: divide by zero encountered in double_scalars\n",
      "/home/wangm/.local/lib/python2.7/site-packages/ipykernel_launcher.py:49: RuntimeWarning: invalid value encountered in double_scalars\n"
     ]
    },
    {
     "data": {
      "text/plain": [
       "Text(0,0.5,'corrections')"
      ]
     },
     "execution_count": 12,
     "metadata": {},
     "output_type": "execute_result"
    },
    {
     "data": {
      "image/png": "[encoded data removed]",
      "text/plain": [
       "<Figure size 864x558 with 1 Axes>"
      ]
     },
     "metadata": {
      "needs_background": "light"
     },
     "output_type": "display_data"
    },
    {
     "data": {
      "image/png": "[encoded data removed]",
      "text/plain": [
       "<Figure size 864x558 with 1 Axes>"
      ]
     },
     "metadata": {
      "needs_background": "light"
     },
     "output_type": "display_data"
    }
   ],
   "source": [
    "luminosity_modeller = LuminosityFunctionModeller.from_parameters_file(\n",
    "    quasar_luminosity_function_in_PLE_model,\n",
    "    magnitude_limit=-21.80,\n",
    "    file_path=\"../data/input/PLE_model_fits.txt\"\n",
    ")\n",
    "\n",
    "relativistic_result = {\n",
    "    ell: general_relativistic_modification(\n",
    "        wavenumbers, FIDUCIAL_REDSHIFT, ell,\n",
    "        geometric_bias=True,\n",
    "        evolution_bias=luminosity_modeller.evolution_bias, \n",
    "        magnification_bias=luminosity_modeller.magnification_bias\n",
    "    )\n",
    "    for ell in degrees\n",
    "}\n",
    "\n",
    "redshift = np.linspace(3, 0, 30)\n",
    "\n",
    "plt.figure(\"Relativistic bias corrections\", figsize=(12, 7.75))\n",
    "plt.plot(redshift, [luminosity_modeller.evolution_bias(z) for z in redshift], label=\"evolution bias\")\n",
    "plt.plot(redshift, [luminosity_modeller.magnification_bias(z) for z in redshift], label=\"magnification bias\")\n",
    "\n",
    "plt.legend()\n",
    "plt.xlabel(r\"$z$\")\n",
    "plt.ylabel(r\"bias\")\n",
    "\n",
    "plt.figure(\"Relativistic corrections\", figsize=(12, 7.75))\n",
    "plt.plot(\n",
    "    redshift, \n",
    "    [general_relativistic_corrections(geometric_bias=True)(z) for z in redshift], \n",
    "    label=\"geometric term\"\n",
    ")\n",
    "plt.plot(\n",
    "    redshift,\n",
    "    [general_relativistic_corrections(geometric_bias=False, evolution_bias=luminosity_modeller.evolution_bias)(z) for z in redshift],\n",
    "    label=\"evolution term\"\n",
    ")\n",
    "plt.plot(\n",
    "    redshift,\n",
    "    [general_relativistic_corrections(geometric_bias=False, magnification_bias=luminosity_modeller.magnification_bias)(z) for z in redshift],\n",
    "    label=\"magnification term\"\n",
    ")\n",
    "\n",
    "plt.legend()\n",
    "plt.xlabel(r\"$z$\")\n",
    "plt.ylabel(r\"corrections\")"
   ]
  },
  {
   "cell_type": "code",
   "execution_count": 13,
   "metadata": {},
   "outputs": [],
   "source": [
    "FIDUCIAL_NON_GAUSSNIANTY = 50.\n",
    "\n",
    "non_gaussianity_result = {\n",
    "    ell: non_gaussianity_multipole_modification(\n",
    "        wavenumbers, FIDUCIAL_REDSHIFT, ell, \n",
    "        FIDUCIAL_NON_GAUSSNIANTY,\n",
    "        FIDUCIAL_LINEAR_BIAS\n",
    "    )\n",
    "    for ell in degrees   \n",
    "}"
   ]
  },
  {
   "cell_type": "code",
   "execution_count": 14,
   "metadata": {},
   "outputs": [
    {
     "data": {
      "text/plain": [
       "Text(0,0.5,'$\\\\Delta P_\\\\ell(k) / P_ell^\\\\mathrm{K}(k)$ [$(h/\\\\mathrm{Mpc})^3$]')"
      ]
     },
     "execution_count": 14,
     "metadata": {},
     "output_type": "execute_result"
    },
    {
     "data": {
      "image/png": "[encoded data removed]",
      "text/plain": [
       "<Figure size 864x558 with 1 Axes>"
      ]
     },
     "metadata": {
      "needs_background": "light"
     },
     "output_type": "display_data"
    }
   ],
   "source": [
    "plt.figure(\"Power spectrum multipole modification\", figsize=(12, 7.75))\n",
    "\n",
    "for ell in degrees:\n",
    "    plt.semilogx(\n",
    "        wavenumbers, non_gaussianity_result[ell]/kaiser_result[ell],\n",
    "        ls='-',\n",
    "        label=\"non-Gaussianity, {}-multipole\".format(ell)\n",
    "    )\n",
    "    plt.semilogx(\n",
    "        wavenumbers, relativistic_result[ell]/kaiser_result[ell],\n",
    "        ls='--', \n",
    "        label=\"relativistic, {}-multipole\".format(ell)\n",
    "    )\n",
    "\n",
    "plt.legend()\n",
    "plt.xlabel(r\"$k$ [$h$/Mpc]\")\n",
    "plt.ylabel(r\"$\\Delta P_\\ell(k) / P_ell^\\mathrm{K}(k)$ [$(h/\\mathrm{Mpc})^3$]\")"
   ]
  },
  {
   "cell_type": "code",
   "execution_count": 15,
   "metadata": {},
   "outputs": [
    {
     "name": "stdout",
     "output_type": "stream",
     "text": [
      "array([nan, nan, nan, nan, nan, nan, nan, nan, nan, nan])\n",
      "array([nan, nan, nan, nan, nan, nan, nan, nan, nan, nan])\n"
     ]
    }
   ],
   "source": [
    "for ell in degrees:\n",
    "    pprint(relativistic_result[ell][0:10])"
   ]
  }
 ],
 "metadata": {
  "kernelspec": {
   "display_name": "Python 3",
   "language": "python",
   "name": "python3"
  },
  "language_info": {
   "codemirror_mode": {
    "name": "ipython",
    "version": 2
   },
   "file_extension": ".py",
   "mimetype": "text/x-python",
   "name": "python",
   "nbconvert_exporter": "python",
   "pygments_lexer": "ipython2",
   "version": "2.7.5"
  }
 },
 "nbformat": 4,
 "nbformat_minor": 2
}
