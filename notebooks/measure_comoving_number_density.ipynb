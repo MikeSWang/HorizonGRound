{
 "cells": [
  {
   "cell_type": "markdown",
   "metadata": {},
   "source": [
    "# Measurements of Relativistic Biases"
   ]
  },
  {
   "cell_type": "markdown",
   "metadata": {},
   "source": [
    "Start in the appropriate notebook directory."
   ]
  },
  {
   "cell_type": "code",
   "execution_count": 1,
   "metadata": {},
   "outputs": [],
   "source": [
    "# %cd /mnt/lustre/mikewang/projects/HorizonGRound/notebooks/"
   ]
  },
  {
   "cell_type": "markdown",
   "metadata": {},
   "source": [
    "Set up the appropriate paths."
   ]
  },
  {
   "cell_type": "code",
   "execution_count": 2,
   "metadata": {},
   "outputs": [],
   "source": [
    "import os, sys\n",
    "\n",
    "current_file_dir = os.getcwd()\n",
    "sys.path.insert(0, \"\".join([current_file_dir, \"/../\"]))\n",
    "os.environ['HDF5_USE_FILE_LOCKING'] = 'FALSE'\n",
    "\n",
    "from config.program import data_dir, stylesheet\n",
    "\n",
    "publication_dir = data_dir/\"output\"/\"publication\""
   ]
  },
  {
   "cell_type": "markdown",
   "metadata": {},
   "source": [
    "Import the appropriate packages."
   ]
  },
  {
   "cell_type": "code",
   "execution_count": 3,
   "metadata": {},
   "outputs": [],
   "source": [
    "import glob\n",
    "import re\n",
    "from collections import defaultdict\n",
    "\n",
    "import corner\n",
    "import h5py\n",
    "import matplotlib.pyplot as plt\n",
    "import numpy as np\n",
    "\n",
    "from matplotlib.ticker import AutoMinorLocator\n",
    "\n",
    "plt.style.use(stylesheet)"
   ]
  },
  {
   "cell_type": "markdown",
   "metadata": {},
   "source": [
    "## Number density quantiles"
   ]
  },
  {
   "cell_type": "markdown",
   "metadata": {},
   "source": [
    "Load samples of the relativistic bias parameters at densly sampled redshifts and determine their quantiles."
   ]
  },
  {
   "cell_type": "code",
   "execution_count": 4,
   "metadata": {},
   "outputs": [],
   "source": [
    "extracted_chain_files = glob.glob(\n",
    "    \"/\".join([str(publication_dir), \"dense_points\", \"density\", \"numden_z*\"])\n",
    ")"
   ]
  },
  {
   "cell_type": "code",
   "execution_count": 5,
   "metadata": {},
   "outputs": [],
   "source": [
    "quantile_levels = [0.022750, 0.158655, 0.5, 0.841345, 0.977250]"
   ]
  },
  {
   "cell_type": "code",
   "execution_count": 6,
   "metadata": {},
   "outputs": [],
   "source": [
    "dense_redshifts = []\n",
    "nbar_quantiles = defaultdict(list)\n",
    "for chain_file in sorted(extracted_chain_files):\n",
    "    dense_redshifts.append(float(\n",
    "        re.search(\"_z(?P<redshift>.*?)_\", chain_file).group('redshift')\n",
    "    ))\n",
    "    with h5py.File(chain_file, 'r') as chain_data:\n",
    "        extracts = chain_data['extract/chain'][()]\n",
    "        nbar_q = corner.quantile(extracts, q=quantile_levels)\n",
    "    for sigma_level_idx, sigma_level in enumerate([-2, -1, 0, 1, 2]):\n",
    "        nbar_quantiles[sigma_level].append(nbar_q[sigma_level_idx])"
   ]
  },
  {
   "cell_type": "markdown",
   "metadata": {},
   "source": [
    "Separate the high redshift part and the low redshift partat the pivot redshift."
   ]
  },
  {
   "cell_type": "code",
   "execution_count": 7,
   "metadata": {},
   "outputs": [],
   "source": [
    "discontinuity_pos = np.searchsorted(dense_redshifts, 2.2)\n",
    "\n",
    "if dense_redshifts[discontinuity_pos] == 2.2:\n",
    "    del dense_redshifts[discontinuity_pos]\n",
    "    for sigma_level in nbar_quantiles:\n",
    "        del nbar_quantiles[sigma_level][discontinuity_pos]\n",
    "\n",
    "low_redshift_part = slice(0, discontinuity_pos)\n",
    "high_redshift_part = slice(discontinuity_pos, None)"
   ]
  },
  {
   "cell_type": "markdown",
   "metadata": {},
   "source": [
    "## Relativistic bias measurements"
   ]
  },
  {
   "cell_type": "markdown",
   "metadata": {},
   "source": [
    "Load samples of the relativistic bias parameters in eBOSS QSO LF redshift bins and determine the estimates with uncertainties."
   ]
  },
  {
   "cell_type": "code",
   "execution_count": 8,
   "metadata": {},
   "outputs": [],
   "source": [
    "measured_chain_files = glob.glob(\n",
    "    \"/\".join([str(publication_dir), \"eBOSS_binning\", \"numden_z*\"])\n",
    ")"
   ]
  },
  {
   "cell_type": "code",
   "execution_count": 9,
   "metadata": {},
   "outputs": [],
   "source": [
    "estimate_levels = [0.158655, 0.5, 0.841345]"
   ]
  },
  {
   "cell_type": "code",
   "execution_count": 10,
   "metadata": {},
   "outputs": [],
   "source": [
    "measured_redshifts = []\n",
    "nbar_estimates = defaultdict(list)\n",
    "for chain_file in sorted(measured_chain_files):\n",
    "    measured_redshifts.append(float(\n",
    "        re.search(\"_z(?P<redshift>.*?)_\", chain_file).group('redshift')\n",
    "    ))\n",
    "    with h5py.File(chain_file, 'r') as chain_data:\n",
    "        extracts = chain_data['extract/chain'][()]\n",
    "        nbar_e = corner.quantile(extracts, q=estimate_levels)\n",
    "    for sigma_level_idx, sigma_level in enumerate([-1, 0, 1]):\n",
    "        nbar_estimates[sigma_level].append(nbar_e[sigma_level_idx])"
   ]
  },
  {
   "cell_type": "markdown",
   "metadata": {},
   "source": [
    "## Relativistic bias constraints"
   ]
  },
  {
   "cell_type": "code",
   "execution_count": 31,
   "metadata": {},
   "outputs": [
    {
     "data": {
      "image/png": "[encoded data removed]",
      "text/plain": [
       "<Figure size 480x300 with 1 Axes>"
      ]
     },
     "metadata": {
      "needs_background": "light"
     },
     "output_type": "display_data"
    }
   ],
   "source": [
    "ALPHA = 0.5\n",
    "SCALING = 10 ** 5\n",
    "\n",
    "fig = plt.figure(\"comoving number density\", figsize=(3.2, 2.), dpi=150)\n",
    "\n",
    "ax = plt.subplot2grid((1, 1), (0, 0))\n",
    "\n",
    "for part in [low_redshift_part, high_redshift_part]:\n",
    "    ax.plot(\n",
    "        dense_redshifts[part], SCALING * np.asarray(nbar_quantiles[0])[part],\n",
    "        c='k'\n",
    "    )\n",
    "\n",
    "# ax.errorbar(\n",
    "#     measured_redshifts, SCALING * np.asarray(nbar_estimates[0]),\n",
    "#     yerr=[\n",
    "#         SCALING * np.subtract(nbar_estimates[0], nbar_estimates[-1]),\n",
    "#         SCALING * np.subtract(nbar_estimates[1], nbar_estimates[0]),\n",
    "#     ],\n",
    "#     fmt='s', zorder=3\n",
    "# )\n",
    "# for part in [low_redshift_part, high_redshift_part]:\n",
    "#     ax.fill_between(\n",
    "#         dense_redshifts[part], \n",
    "#         SCALING * np.asarray(nbar_quantiles[-2][part]),\n",
    "#         SCALING * np.asarray(nbar_quantiles[2][part]),\n",
    "#         facecolor='0.67', alpha=ALPHA, zorder=1\n",
    "#     )\n",
    "\n",
    "ax.axvline(x=2.2, ls=':', c='0.5')\n",
    "\n",
    "ax.set_yticks(np.arange(0., 5., step=1.))\n",
    "ax.xaxis.set_minor_locator(AutoMinorLocator())\n",
    "ax.yaxis.set_minor_locator(AutoMinorLocator())\n",
    "ax.set_xlim(min(dense_redshifts), max(dense_redshifts))\n",
    "ax.set_ylim(0., 4.)\n",
    "ax.set_xlabel(r\"$z$\")\n",
    "ax.set_ylabel(r\"$\\bar{n}(z)\\ [\\times 10^5 (h/\\mathrm{Mpc})^3]$\", labelpad=6)\n",
    "\n",
    "fig.savefig(publication_dir/\"gallery\"/\"number_density.pdf\")"
   ]
  }
 ],
 "metadata": {
  "kernelspec": {
   "display_name": "Python 3",
   "language": "python",
   "name": "python3"
  },
  "language_info": {
   "codemirror_mode": {
    "name": "ipython",
    "version": 3
   },
   "file_extension": ".py",
   "mimetype": "text/x-python",
   "name": "python",
   "nbconvert_exporter": "python",
   "pygments_lexer": "ipython3",
   "version": "3.7.5"
  }
 },
 "nbformat": 4,
 "nbformat_minor": 2
}
