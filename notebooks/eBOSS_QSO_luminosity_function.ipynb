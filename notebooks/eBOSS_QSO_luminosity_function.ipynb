{
 "cells": [
  {
   "cell_type": "markdown",
   "metadata": {},
   "source": [
    "# ``eBOSS`` Quasar Luminosity Function"
   ]
  },
  {
   "cell_type": "markdown",
   "metadata": {},
   "source": [
    "Initiate notebook."
   ]
  },
  {
   "cell_type": "code",
   "execution_count": 1,
   "metadata": {},
   "outputs": [],
   "source": [
    "import os\n",
    "import pprint\n",
    "from collections import OrderedDict\n",
    "\n",
    "import matplotlib\n",
    "import matplotlib.pyplot as plt\n",
    "import numpy as np\n",
    "import seaborn as sns"
   ]
  },
  {
   "cell_type": "code",
   "execution_count": 2,
   "metadata": {},
   "outputs": [],
   "source": [
    "plt.style.use(\n",
    "    matplotlib.rc_params_from_file(\n",
    "        \"config/horizon.mplstyle\", \n",
    "        use_default_template=False\n",
    "    )\n",
    ")\n",
    "sns.set(style='ticks', font='serif')"
   ]
  },
  {
   "cell_type": "markdown",
   "metadata": {},
   "source": [
    "## Luminosity function measurements"
   ]
  },
  {
   "cell_type": "markdown",
   "metadata": {},
   "source": [
    "Load measurements from data files into a dictionary."
   ]
  },
  {
   "cell_type": "code",
   "execution_count": 3,
   "metadata": {},
   "outputs": [],
   "source": [
    "MEASUREMENT_DATA_FILE = \"data/input/luminosity_function_in_redshift_bins.txt\"\n",
    "\n",
    "raw_measurements = np.genfromtxt(MEASUREMENT_DATA_FILE, unpack=True)\n",
    "\n",
    "with open(MEASUREMENT_DATA_FILE, 'r') as data_file:\n",
    "    observables = tuple(map(\n",
    "        lambda var_name: var_name.strip(\" \"), \n",
    "        data_file.readline().strip(\"#\").strip(\"\\n\").split(\",\")\n",
    "    ))\n",
    "\n",
    "measurements = np.zeros_like(raw_measurements)\n",
    "for var_idx, var_name in enumerate(observables):\n",
    "    if var_name.startswith('Phi'):\n",
    "        measurements[var_idx] = 10**raw_measurements[var_idx]\n",
    "    elif var_name.startswith('d_Phi'):\n",
    "        measurements[var_idx] = 10**raw_measurements[var_idx-1] \\\n",
    "            * (10**raw_measurements[var_idx] - 1)\n",
    "    else:\n",
    "        measurements[var_idx] = raw_measurements[var_idx]\n",
    "    \n",
    "luminosity_function_data = OrderedDict(zip(observables, measurements))"
   ]
  },
  {
   "cell_type": "markdown",
   "metadata": {},
   "source": [
    "Extract redshift bins from measurement labels."
   ]
  },
  {
   "cell_type": "code",
   "execution_count": 4,
   "metadata": {},
   "outputs": [],
   "source": [
    "redshift_bin_labels = tuple(map(\n",
    "    lambda redshift_range: r\"${}$\".format(redshift_range),\n",
    "    [\n",
    "        var_name.split(\"z_\")[-1].replace(\"_\", \"<z<\")\n",
    "        for col_no, var_name in enumerate(luminosity_function_data) \n",
    "        if var_name.startswith('Phi')\n",
    "    ]\n",
    "))\n",
    "\n",
    "redshift_bin_centres = tuple(map(\n",
    "    lambda redshift_range: np.mean(\n",
    "        list(map(lambda endpoint: float(endpoint), redshift_range))\n",
    "    ),\n",
    "    [\n",
    "        var_name.split(\"z_\")[-1].split(\"_\")\n",
    "        for col_no, var_name in enumerate(luminosity_function_data)\n",
    "        if var_name.startswith('Phi')\n",
    "    ]\n",
    "))\n",
    "\n",
    "redshift_bins = OrderedDict(zip(redshift_bin_labels, redshift_bin_centres))"
   ]
  },
  {
   "cell_type": "markdown",
   "metadata": {},
   "source": [
    "## Luminosity function models"
   ]
  },
  {
   "cell_type": "markdown",
   "metadata": {},
   "source": [
    "### Pure luminosity evolution (PLE)"
   ]
  },
  {
   "cell_type": "code",
   "execution_count": 5,
   "metadata": {},
   "outputs": [],
   "source": [
    "def luminosity_function_in_PLE_model(magnitude, redshift, \n",
    "                                     redshift_pivot=2.2, \n",
    "                                     **model_parameters_PLE):\n",
    "    \"\"\"Evaluate the pure luminosity evolution (PLE) model for the\n",
    "    luminosity function at the given magnitude and redshift.\n",
    "    \n",
    "    Notes\n",
    "    -----\n",
    "    Magnitude is absolute and measured in :math:`g`-band normalised to\n",
    "    the value at redshift 2.\n",
    "    \n",
    "    Parameters\n",
    "    ----------\n",
    "    magnitude : float\n",
    "        Quasar magnitude.\n",
    "    redshift : float\n",
    "        Quasar redshift.\n",
    "    redshift_pivot : float, optional\n",
    "        Pivot redshift.\n",
    "    **model_parameters_PLE\n",
    "        PLE model parameters.\n",
    "    \n",
    "    Returns\n",
    "    -------\n",
    "    comoving_density : float :class:`numpy.ndarray`\n",
    "        Predicted qausar comoving number density per unit magnitude.\n",
    "        \n",
    "    \"\"\"    \n",
    "    # Re-definitions.\n",
    "    M_g, z, z_p = magnitude, redshift, redshift_pivot\n",
    "    \n",
    "    # Determine the redshift end.\n",
    "    if z <= z_p:\n",
    "        subscript = '\\\\textrm{{{}}}'.format('l')\n",
    "    else:\n",
    "        subscript = '\\\\textrm{{{}}}'.format('h') \n",
    "    \n",
    "    # Set parameters.\n",
    "    Phi_star = 10**model_parameters_PLE['\\\\log\\\\Phi^\\\\ast']\n",
    "    M_g_star_p = model_parameters_PLE['M^\\\\ast_g(z_\\\\textrm{pivot})']\n",
    "    \n",
    "    alpha = model_parameters_PLE['\\\\alpha_{}'.format(subscript)]\n",
    "    beta = model_parameters_PLE['\\\\beta_{}'.format(subscript)]\n",
    "    k_1 = model_parameters_PLE['k_{{1{}}}'.format(subscript)]\n",
    "    k_2 = model_parameters_PLE['k_{{2{}}}'.format(subscript)]\n",
    "    \n",
    "    # Evaluate the model prediction.\n",
    "    exponent_magnitude_factor = M_g \\\n",
    "        - (M_g_star_p - 2.5*(k_1 * (z - z_p) + k_2 * (z - z_p)**2))\n",
    "    faint_power_law = 10 ** (0.4*(alpha + 1) * exponent_magnitude_factor)\n",
    "    bright_power_law = 10 ** (0.4*(beta + 1) * exponent_magnitude_factor)\n",
    "    \n",
    "    comoving_density = Phi_star / (faint_power_law + bright_power_law)\n",
    "    \n",
    "    return comoving_density"
   ]
  },
  {
   "cell_type": "markdown",
   "metadata": {},
   "source": [
    "Load best-fitting model parameters."
   ]
  },
  {
   "cell_type": "code",
   "execution_count": 6,
   "metadata": {},
   "outputs": [],
   "source": [
    "MODEL_FITS_FILE = \"data/input/PLE_model_fits.txt\"\n",
    "\n",
    "with open(MODEL_FITS_FILE, 'r') as parameter_file:\n",
    "    parameters_PLE = tuple(map(\n",
    "        lambda var_name: var_name.strip(\" \"), \n",
    "        parameter_file.readline().strip(\"#\").strip(\"\\n\").split(\",\")\n",
    "    ))\n",
    "    estimates_PLE = tuple(map(\n",
    "        lambda value: float(value), \n",
    "        parameter_file.readline().split(\",\")\n",
    "    ))\n",
    "    \n",
    "model_fits_PLE = OrderedDict(zip(parameters_PLE, estimates_PLE))"
   ]
  },
  {
   "cell_type": "markdown",
   "metadata": {},
   "source": [
    "### Luminosity--density evolution (LEDE)"
   ]
  },
  {
   "cell_type": "code",
   "execution_count": 7,
   "metadata": {},
   "outputs": [],
   "source": [
    "def luminosity_function_in_LEDE_model(magnitude, redshift,\n",
    "                                      redshift_pivot=2.2, \n",
    "                                      **model_parameters):\n",
    "    \"\"\"Evaluate the luminosity--density evolution (PLE+LEDE) model for the\n",
    "    luminosity function at the given magnitude and redshift.\n",
    "    \n",
    "    Notes\n",
    "    -----\n",
    "    Magnitude is absolute and measured in :math:`g`-band normalised to\n",
    "    the value at redshift 2.\n",
    "    \n",
    "    Parameters\n",
    "    ----------\n",
    "    magnitude : float\n",
    "        Quasar magnitude.\n",
    "    redshift : float\n",
    "        Quasar redshift.\n",
    "    redshift_pivot : float, optional\n",
    "        Pivot redshift.\n",
    "    **model_parameters_PLE\n",
    "        PLE model parameters.\n",
    "    \n",
    "    Returns\n",
    "    -------\n",
    "    comoving_density : float :class:`numpy.ndarray`\n",
    "        Predicted qausar comoving number density per unit magnitude.\n",
    "    \n",
    "    \"\"\"  \n",
    "    raise NotImplementedError"
   ]
  },
  {
   "cell_type": "markdown",
   "metadata": {},
   "source": [
    "Load best-fitting model parameters."
   ]
  },
  {
   "cell_type": "code",
   "execution_count": 8,
   "metadata": {},
   "outputs": [],
   "source": [
    "MODEL_FITS_FILE = \"data/input/PLE+LEDE_model_fits.txt\"\n",
    "\n",
    "with open(MODEL_FITS_FILE, 'r') as parameter_file:\n",
    "    parameters_PLE_LEDE = tuple(map(\n",
    "        lambda var_name: var_name.strip(\" \"), \n",
    "        parameter_file.readline().strip(\"#\").strip(\"\\n\").split(\",\")\n",
    "    ))\n",
    "    estimates_PLE_LEDE = tuple(map(\n",
    "        lambda value: float(value), \n",
    "        parameter_file.readline().split(\",\")\n",
    "    ))\n",
    "\n",
    "model_fits_PLE_LEDE = OrderedDict(zip(parameters_PLE_LEDE, estimates_PLE_LEDE))"
   ]
  },
  {
   "cell_type": "markdown",
   "metadata": {},
   "source": [
    "## Luminosity function model comparisons"
   ]
  },
  {
   "cell_type": "code",
   "execution_count": 9,
   "metadata": {
    "scrolled": true
   },
   "outputs": [
    {
     "data": {
      "image/png": "[encoded data removed]",
      "text/plain": [
       "<Figure size 864x558 with 8 Axes>"
      ]
     },
     "metadata": {},
     "output_type": "display_data"
    }
   ],
   "source": [
    "plt.figure(\"Luminosity function comparison\", figsize=(12, 7.75))\n",
    "\n",
    "NUM_ROW, NUM_COL = 2, 4\n",
    "ROW_SPAN, COL_SPAN = 4, 3\n",
    "\n",
    "MAGNITUDE_RANGE = -29.0, -20.6\n",
    "DENSITY_RANGE = 10**(-9.225), 10**(-4.775)\n",
    "\n",
    "NUM_INTERVALS = 100\n",
    "\n",
    "LEGEND_SETTINGS = dict(\n",
    "    loc='upper left',\n",
    "    handlelength=1.2, \n",
    "    handletextpad=0.5\n",
    ")\n",
    "\n",
    "magnitude_points = np.linspace(*MAGNITUDE_RANGE, num=NUM_INTERVALS+1)\n",
    "\n",
    "for bin_idx, (bin_label, bin_redshift) in enumerate(redshift_bins.items()):\n",
    "    \n",
    "    row_idx, col_idx = bin_idx // NUM_COL, bin_idx % NUM_COL\n",
    "    \n",
    "    ax = plt.subplot2grid(\n",
    "        (NUM_ROW * ROW_SPAN, NUM_COL * COL_SPAN), \n",
    "        (row_idx * ROW_SPAN, col_idx * COL_SPAN), \n",
    "        rowspan=ROW_SPAN, \n",
    "        colspan=COL_SPAN\n",
    "    )\n",
    "    \n",
    "    if bin_idx == 0:\n",
    "        plt.errorbar(\n",
    "            luminosity_function_data['magnitude'],\n",
    "            luminosity_function_data[observables[2*bin_idx+1]], \n",
    "            yerr=luminosity_function_data[observables[2*bin_idx+2]],\n",
    "            fmt='o',\n",
    "            markersize=4.,\n",
    "            capsize=0.,\n",
    "            label='measurements'\n",
    "        )\n",
    "        plt.plot(\n",
    "            magnitude_points, \n",
    "            luminosity_function_in_PLE_model(\n",
    "                magnitude_points, bin_redshift, **model_fits_PLE\n",
    "            ),\n",
    "            label='PLE model'\n",
    "        )\n",
    "        plt.legend(**LEGEND_SETTINGS)\n",
    "    else:\n",
    "        plt.errorbar(\n",
    "            luminosity_function_data['magnitude'],\n",
    "            luminosity_function_data[observables[2*bin_idx+1]], \n",
    "            yerr=luminosity_function_data[observables[2*bin_idx+2]],\n",
    "            fmt='o',\n",
    "            markersize=4.,\n",
    "            capsize=0.\n",
    "        )\n",
    "        plt.plot(\n",
    "            magnitude_points,\n",
    "            luminosity_function_in_PLE_model(\n",
    "                magnitude_points, bin_redshift, **model_fits_PLE\n",
    "            )\n",
    "        )        \n",
    "    \n",
    "    plt.xscale('linear')\n",
    "    plt.xlim(*MAGNITUDE_RANGE)\n",
    "    \n",
    "    ax.xaxis.set_major_locator(matplotlib.ticker.MultipleLocator(1.))\n",
    "    ax.xaxis.set_minor_locator(matplotlib.ticker.MultipleLocator(0.2))\n",
    "    if row_idx + 1 < NUM_ROW:\n",
    "        plt.tick_params(\n",
    "            axis='x', which='both', direction='in', \n",
    "            labelbottom=False, labelsize=2\n",
    "        )\n",
    "    else:\n",
    "        plt.xlabel(r\"$M_{g,z=2}$\")\n",
    "        \n",
    "    plt.yscale('log')    \n",
    "    plt.ylim(*DENSITY_RANGE)\n",
    "    \n",
    "    if col_idx > 0:\n",
    "        plt.tick_params(\n",
    "            axis='y', which='both', direction='in',\n",
    "            labelleft=False, labelsize=2\n",
    "        )\n",
    "    else:\n",
    "        plt.ylabel(\n",
    "            r\"$\\Phi(z,M_{g,z=2})$ \"\n",
    "            r\"[$\\textrm{Mpc}^{-3} \\textrm{mag}^{-1}$]\"\n",
    "        )\n",
    "    \n",
    "    plt.title(bin_label, loc='right', position=(0.925, 0.025))\n",
    "\n",
    "plt.subplots_adjust(hspace=0, wspace=0)"
   ]
  }
 ],
 "metadata": {
  "kernelspec": {
   "display_name": "Python 3",
   "language": "python",
   "name": "python3"
  },
  "language_info": {
   "codemirror_mode": {
    "name": "ipython",
    "version": 2
   },
   "file_extension": ".py",
   "mimetype": "text/x-python",
   "name": "python",
   "nbconvert_exporter": "python",
   "pygments_lexer": "ipython2",
   "version": "2.7.5"
  }
 },
 "nbformat": 4,
 "nbformat_minor": 2
}
