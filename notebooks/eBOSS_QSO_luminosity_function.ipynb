{
 "cells": [
  {
   "cell_type": "markdown",
   "metadata": {},
   "source": [
    "# ``eBOSS`` quasar luminosity function"
   ]
  },
  {
   "cell_type": "code",
   "execution_count": 1,
   "metadata": {},
   "outputs": [],
   "source": [
    "import os\n",
    "\n",
    "import matplotlib\n",
    "import matplotlib.pyplot as plt\n",
    "import numpy as np\n",
    "import seaborn as sns"
   ]
  },
  {
   "cell_type": "code",
   "execution_count": 2,
   "metadata": {},
   "outputs": [],
   "source": [
    "harmony_sty = matplotlib.rc_params_from_file(\"./harmony.mplstyle\", use_default_template=False)"
   ]
  },
  {
   "cell_type": "markdown",
   "metadata": {},
   "source": [
    "## Luminosity function measurements"
   ]
  },
  {
   "cell_type": "code",
   "execution_count": 3,
   "metadata": {},
   "outputs": [],
   "source": [
    "var_values = np.genfromtxt(\"data/input/luminosity_function_in_redshift_bins.txt\").T\n",
    "with open(\"data/input/luminosity_function_in_redshift_bins.txt\", 'r') as data_file:\n",
    "    var_names = tuple(map(\n",
    "        lambda var_name: var_name.strip(\" \"), \n",
    "        data_file.readline().strip(\"#\").strip(\"\\n\").split(\",\")\n",
    "    ))\n",
    "\n",
    "lum_func_data = dict(zip(var_names, var_values))"
   ]
  },
  {
   "cell_type": "code",
   "execution_count": 4,
   "metadata": {},
   "outputs": [],
   "source": [
    "redshift_bin_labels = tuple(map(\n",
    "    lambda redshift_range: r\"${}$\".format(redshift_range),\n",
    "    [\n",
    "        var_name.split(\"z_\")[-1].replace(\"_\", \"<z<\")\n",
    "        for col_no, var_name in enumerate(var_names) if col_no % 2 == 1\n",
    "    ]\n",
    "))"
   ]
  },
  {
   "cell_type": "markdown",
   "metadata": {},
   "source": [
    "## Hybrid luminosity function models"
   ]
  },
  {
   "cell_type": "code",
   "execution_count": 5,
   "metadata": {},
   "outputs": [],
   "source": [
    "with open(\"data/input/luminosity_function_parameters.txt\", 'r') as parameter_file:\n",
    "    par_names = tuple(map(\n",
    "        lambda var_name: var_name.strip(\" \"), \n",
    "        parameter_file.readline().strip(\"#\").strip(\"\\n\").split(\",\")\n",
    "    ))\n",
    "    par_values = tuple(map(\n",
    "        lambda value: float(value), \n",
    "        parameter_file.readline().split(\",\")\n",
    "    ))\n",
    "    \n",
    "model_parameters = dict(zip(par_names, par_values))"
   ]
  },
  {
   "cell_type": "markdown",
   "metadata": {},
   "source": [
    "## Luminosity function"
   ]
  },
  {
   "cell_type": "code",
   "execution_count": 6,
   "metadata": {},
   "outputs": [
    {
     "data": {
      "image/png": "[encoded data removed]",
      "text/plain": [
       "<Figure size 864x558 with 8 Axes>"
      ]
     },
     "metadata": {},
     "output_type": "display_data"
    }
   ],
   "source": [
    "plt.style.use(harmony_sty)\n",
    "sns.set(style='ticks', font='serif')\n",
    "plt.figure(\"Luminosity function in redshift bins\", figsize=(12, 7.75))\n",
    "\n",
    "num_row, num_col = 2, 4\n",
    "row_span, col_span = 4, 3\n",
    "\n",
    "for bin_idx, redshift_bin in enumerate(redshift_bin_labels):\n",
    "    \n",
    "    row_idx, col_idx = bin_idx // num_col, bin_idx % num_col\n",
    "    ax = plt.subplot2grid(\n",
    "        (num_row*row_span, num_col*col_span), \n",
    "        (row_idx*row_span, col_idx*col_span), \n",
    "        rowspan=row_span, \n",
    "        colspan=col_span\n",
    "    )\n",
    "    \n",
    "    plt.errorbar(\n",
    "        lum_func_data['magnitude'], \n",
    "        np.exp(lum_func_data[var_names[2*bin_idx+1]]), \n",
    "        yerr=np.exp(lum_func_data[var_names[2*bin_idx+1]])*lum_func_data[var_names[2*bin_idx+2]],\n",
    "        fmt='o',\n",
    "        marker='o',\n",
    "        markersize=4.,\n",
    "        capsize=0.\n",
    "    )\n",
    "    \n",
    "    ax.xaxis.set_major_locator(matplotlib.ticker.MultipleLocator(1.))\n",
    "    ax.xaxis.set_minor_locator(matplotlib.ticker.MultipleLocator(0.2))\n",
    "    if row_idx + 1 < num_row:\n",
    "        plt.tick_params(axis='x', which='both', direction='in', labelbottom=False, labelsize=2)\n",
    "    else:\n",
    "        plt.xlabel(r\"$M_{g,z=2}$\")\n",
    "    if col_idx > 0:\n",
    "        plt.tick_params(axis='y', which='both', direction='in', labelleft=False, labelsize=2)\n",
    "    else:\n",
    "        plt.ylabel(r\"$\\log\\Phi(z,M_{g,z=2})$ [$\\textrm{Mpc}^{-3} \\textrm{mag}^{-1}$]\")\n",
    "    plt.xlim(-29.15, -20.15)\n",
    "    plt.ylim(10**(-4.2), 10**(-1.8))\n",
    "    plt.yscale('log')\n",
    "    \n",
    "    plt.title(redshift_bin_labels[bin_idx], loc='right', position=(0.925, 0.025))\n",
    "\n",
    "plt.subplots_adjust(hspace=0, wspace=0)"
   ]
  }
 ],
 "metadata": {
  "kernelspec": {
   "display_name": "Python 3",
   "language": "python",
   "name": "python3"
  },
  "language_info": {
   "codemirror_mode": {
    "name": "ipython",
    "version": 3
   },
   "file_extension": ".py",
   "mimetype": "text/x-python",
   "name": "python",
   "nbconvert_exporter": "python",
   "pygments_lexer": "ipython3",
   "version": "3.6.6"
  }
 },
 "nbformat": 4,
 "nbformat_minor": 2
}
