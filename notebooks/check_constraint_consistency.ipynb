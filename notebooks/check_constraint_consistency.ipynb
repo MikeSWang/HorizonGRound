{
 "cells": [
  {
   "cell_type": "markdown",
   "metadata": {},
   "source": [
    "# Constraint Consistency from Luminosity Function Fitting"
   ]
  },
  {
   "cell_type": "code",
   "execution_count": 1,
   "metadata": {},
   "outputs": [],
   "source": [
    "import corner\n",
    "import h5py\n",
    "import numpy as np\n",
    "from IPython.display import display, Math\n",
    "from matplotlib import pyplot as plt\n",
    "\n",
    "from conf import PATHOUT\n",
    "from application.plot_constraints import gradient_colour_map, plot_2d_constraints"
   ]
  },
  {
   "cell_type": "markdown",
   "metadata": {},
   "source": [
    "Load relativistic bias parameter chains from sampled luminosity function."
   ]
  },
  {
   "cell_type": "code",
   "execution_count": 2,
   "metadata": {},
   "outputs": [],
   "source": [
    "this_work = \"relbias_z2._eBOSS_QSO_LF_PLE_zeus_poisson_1596047_20_2E5_by1.h5\"\n",
    "shifted_samples = \"relbias_z2._eBOSS_QSO_LF_PLE_zeus_poisson_shifted_1596047_20_2E5_by1.h5\""
   ]
  },
  {
   "cell_type": "code",
   "execution_count": 3,
   "metadata": {},
   "outputs": [],
   "source": [
    "with h5py.File(PATHOUT/\"publication\"/\"shifted\"/this_work, 'r') as chain_file:\n",
    "    this_work_chain = chain_file['extract/chain'][()]\n",
    "with h5py.File(PATHOUT/\"publication\"/\"shifted\"/shifted_samples, 'r') as chain_file:\n",
    "    shifted_chain = chain_file['extract/chain'][()]"
   ]
  },
  {
   "cell_type": "markdown",
   "metadata": {},
   "source": [
    "Plot constraints."
   ]
  },
  {
   "cell_type": "code",
   "execution_count": 4,
   "metadata": {},
   "outputs": [],
   "source": [
    "estimate_str = lambda source, x_estimate, y_estimate: \\\n",
    "    r\"\\text{{{}: }} f_\\mathrm{{e}} = {:.3f}_{{-{:.3f}}}^{{+{:.3f}}}, s = {:.3f}_{{-{:.3f}}}^{{+{:.3f}}}\".format(\n",
    "        source.capitalize(),\n",
    "        x_estimate[0], x_estimate[0] - x_estimate[1], x_estimate[-1] - x_estimate[0],\n",
    "        y_estimate[0], y_estimate[0] - y_estimate[1], y_estimate[-1] - y_estimate[0],\n",
    "    )"
   ]
  },
  {
   "cell_type": "code",
   "execution_count": 5,
   "metadata": {},
   "outputs": [
    {
     "data": {
      "text/latex": [
       "$\\displaystyle \\text{This work: } f_\\mathrm{e} = 2.166_{-0.296}^{+0.296}, s = 0.086_{-0.004}^{+0.004}$"
      ],
      "text/plain": [
       "<IPython.core.display.Math object>"
      ]
     },
     "metadata": {},
     "output_type": "display_data"
    },
    {
     "data": {
      "text/latex": [
       "$\\displaystyle \\text{Shifted samples: } f_\\mathrm{e} = 2.175_{-0.301}^{+0.268}, s = 0.082_{-0.003}^{+0.003}$"
      ],
      "text/plain": [
       "<IPython.core.display.Math object>"
      ]
     },
     "metadata": {},
     "output_type": "display_data"
    },
    {
     "data": {
      "image/png": "[encoded data removed]",
      "text/plain": [
       "<Figure size 230.4x230.4 with 3 Axes>"
      ]
     },
     "metadata": {
      "needs_background": "light"
     },
     "output_type": "display_data"
    }
   ],
   "source": [
    "fig, x_estimate, y_estimate, *_ = plot_2d_constraints(\n",
    "    shifted_chain, bins=200, smooth=0.8, cmap=gradient_colour_map('#E7CDFA', '#774999', 'PortsmouthPurple'),\n",
    "    linestyle='dashed', precision_x=3, precision_y=3, show_estimates=False,\n",
    "    label='shifted samples', label_x='f_\\mathrm{e}', label_y='s', figsize=(3.2, 3.2)\n",
    ")\n",
    "display(Math(estimate_str('this work', x_estimate, y_estimate)))\n",
    "\n",
    "fig, x_estimate, y_estimate, *_ = plot_2d_constraints(\n",
    "    this_work_chain, bins=200, smooth=0.8, cmap=gradient_colour_map('#D2E6D6', '#51785D', 'CambridgeBlue'),\n",
    "    precision_x=3, precision_y=3, show_estimates=False, \n",
    "    label='this work', label_x='f_\\mathrm{e}(z=2)', label_y='s(z=2)',\n",
    "    fig=fig\n",
    ")\n",
    "display(Math(estimate_str('shifted samples', x_estimate, y_estimate)))\n",
    "\n",
    "canvas, top_panel, side_panel = fig.axes\n",
    "canvas.set_xlim(0.675, 3.575)\n",
    "canvas.set_ylim(0.0710, 0.104)\n",
    "side_panel.set_xlim(right=145.)\n",
    "\n",
    "fig.savefig(PATHOUT/\"publication\"/\"gallery\"/\"constraint_consistency.pdf\")"
   ]
  }
 ],
 "metadata": {
  "kernelspec": {
   "display_name": "Python 3",
   "language": "python",
   "name": "python3"
  },
  "language_info": {
   "codemirror_mode": {
    "name": "ipython",
    "version": 3
   },
   "file_extension": ".py",
   "mimetype": "text/x-python",
   "name": "python",
   "nbconvert_exporter": "python",
   "pygments_lexer": "ipython3",
   "version": "3.7.5"
  }
 },
 "nbformat": 4,
 "nbformat_minor": 2
}
