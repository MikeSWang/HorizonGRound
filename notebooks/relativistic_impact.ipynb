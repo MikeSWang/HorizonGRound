{
 "cells": [
  {
   "cell_type": "markdown",
   "metadata": {},
   "source": [
    "# Relativistic Corrections to Power Spectrum Multipoles"
   ]
  },
  {
   "cell_type": "markdown",
   "metadata": {},
   "source": [
    "Initiate notebook."
   ]
  },
  {
   "cell_type": "code",
   "execution_count": null,
   "metadata": {},
   "outputs": [],
   "source": [
    "import corner\n",
    "import h5py as hp\n",
    "import matplotlib\n",
    "import matplotlib.pyplot as plt\n",
    "import numpy as np\n",
    "\n",
    "from config import PATHOUT, use_local_package\n",
    "\n",
    "use_local_package(\"../../HorizonGRound/\")\n",
    "\n",
    "from horizonground.clustering_modification import (\n",
    "    non_gaussianity_factor,\n",
    "    relativistic_factor,\n",
    "    standard_kaiser_factor,\n",
    ")\n",
    "\n",
    "%matplotlib notebook\n",
    "\n",
    "LEGEND_SETTINGS = dict(\n",
    "    handlelength=1.2, \n",
    "    handletextpad=0.5,\n",
    "    fontsize=16,\n",
    ")"
   ]
  },
  {
   "cell_type": "markdown",
   "metadata": {},
   "source": [
    "Define fiducial parameters and parameter ranges."
   ]
  },
  {
   "cell_type": "code",
   "execution_count": null,
   "metadata": {},
   "outputs": [],
   "source": [
    "FIDUCIAL_REDSHIFT = 2.\n",
    "FIDUCIAL_LINEAR_BIAS = 2.\n",
    "FIDUCIAL_NON_GAUSSNIANTY = 1.\n",
    "TRACER_SAMPLE_PARAM = 1.6"
   ]
  },
  {
   "cell_type": "code",
   "execution_count": null,
   "metadata": {},
   "outputs": [],
   "source": [
    "ORDERS = [0, 2]\n",
    "QUANTILES = [0.1587, 0.5, 0.8413]\n",
    "wavenumbers = np.logspace(-3.5, -1.5, num=200+1)"
   ]
  },
  {
   "cell_type": "markdown",
   "metadata": {},
   "source": [
    "Import sampled relativistic correction values."
   ]
  },
  {
   "cell_type": "code",
   "execution_count": null,
   "metadata": {},
   "outputs": [],
   "source": [
    "REL_CORRECTION_CHAIN_FILE = PATHOUT/(\n",
    "    \"relcrct_relbias_z2._QSO_LF_PLE_zeus_1512631_32_5E5_by1.h5\"\n",
    ")\n",
    "\n",
    "with hp.File(REL_CORRECTION_CHAIN_FILE, 'r') as relcrct_data:\n",
    "    correction_samples = relcrct_data['distill/chain'][()]\n",
    "    \n",
    "correction_estimates = corner.quantile(correction_samples, QUANTILES)"
   ]
  },
  {
   "cell_type": "markdown",
   "metadata": {},
   "source": [
    "## Relativistic modification"
   ]
  },
  {
   "cell_type": "markdown",
   "metadata": {},
   "source": [
    "Compute Kaiser RSD and local non-Gaussianity results for comparison."
   ]
  },
  {
   "cell_type": "code",
   "execution_count": null,
   "metadata": {},
   "outputs": [],
   "source": [
    "kaiser_result = {\n",
    "    ell: standard_kaiser_factor(ell, FIDUCIAL_LINEAR_BIAS, FIDUCIAL_REDSHIFT)\n",
    "        * np.ones_like(wavenumbers)\n",
    "    for ell in ORDERS\n",
    "}"
   ]
  },
  {
   "cell_type": "code",
   "execution_count": null,
   "metadata": {},
   "outputs": [],
   "source": [
    "non_gaussianity_result = {\n",
    "    ell: non_gaussianity_factor(\n",
    "        wavenumbers, ell,\n",
    "        FIDUCIAL_NON_GAUSSNIANTY, FIDUCIAL_LINEAR_BIAS, FIDUCIAL_REDSHIFT,\n",
    "        tracer_param=TRACER_SAMPLE_PARAM\n",
    "    )\n",
    "    for ell in ORDERS   \n",
    "}"
   ]
  },
  {
   "cell_type": "markdown",
   "metadata": {},
   "source": [
    "We now show the amount of modification relative to the standard Kaiser power spectrum multipoles."
   ]
  },
  {
   "cell_type": "code",
   "execution_count": null,
   "metadata": {},
   "outputs": [],
   "source": [
    "plt.close('all')\n",
    "plt.figure(\"Power multipole modifications\", figsize=(8, 8))\n",
    "\n",
    "monopole = plt.subplot2grid((2, 1), (0, 0))\n",
    "\n",
    "monopole.loglog(\n",
    "    wavenumbers, kaiser_result[0] * np.ones_like(wavenumbers), \n",
    "    label=\"Kaiser RSD\"\n",
    ")\n",
    "monopole.loglog(\n",
    "    wavenumbers, non_gaussianity_result[0],\n",
    "    label=\"non-Gaussianity modification\"\n",
    ")\n",
    "\n",
    "rel_line = monopole.loglog(\n",
    "    wavenumbers,\n",
    "    relativistic_factor(\n",
    "        wavenumbers, 0, FIDUCIAL_REDSHIFT, \n",
    "        correction_value=correction_estimates[1]\n",
    "    ),\n",
    "    label=\"relativistic corrections\"\n",
    ")\n",
    "\n",
    "monopole.fill_between(\n",
    "    wavenumbers,\n",
    "    relativistic_factor(\n",
    "        wavenumbers, 0, FIDUCIAL_REDSHIFT, \n",
    "        correction_value=correction_estimates[0]\n",
    "    ),\n",
    "    relativistic_factor(\n",
    "        wavenumbers, 0, FIDUCIAL_REDSHIFT, \n",
    "        correction_value=correction_estimates[-1]\n",
    "    ),\n",
    "    color=rel_line[0].get_color(), linewidth=0., alpha=.33\n",
    ")\n",
    "    \n",
    "monopole.legend(**LEGEND_SETTINGS)\n",
    "monopole.get_xaxis().set_visible(False)\n",
    "monopole.set_ylabel(r\"$\\Delta P_0(k) / P_\\mathrm{m}(k)$\", fontsize=16)\n",
    "\n",
    "quadrupole = plt.subplot2grid((2, 1), (1, 0), sharex=monopole)\n",
    "\n",
    "quadrupole.loglog(wavenumbers, kaiser_result[2] * np.ones_like(wavenumbers))\n",
    "quadrupole.loglog(wavenumbers, non_gaussianity_result[2])\n",
    "\n",
    "rel_line = quadrupole.loglog(\n",
    "    wavenumbers,\n",
    "    relativistic_factor(\n",
    "        wavenumbers, 2, FIDUCIAL_REDSHIFT, \n",
    "        correction_value=correction_estimates[1]\n",
    "    )\n",
    ")\n",
    "\n",
    "quadrupole.fill_between(\n",
    "    wavenumbers,\n",
    "    relativistic_factor(\n",
    "        wavenumbers, 2, FIDUCIAL_REDSHIFT,\n",
    "        correction_value=correction_estimates[0]\n",
    "    ),\n",
    "    relativistic_factor(\n",
    "        wavenumbers, 2, FIDUCIAL_REDSHIFT,\n",
    "        correction_value=correction_estimates[-1]\n",
    "    ),\n",
    "    color=rel_line[0].get_color(), linewidth=0., alpha=.33\n",
    ")\n",
    "\n",
    "quadrupole.set_xlabel(r\"$k$ [$h$/Mpc]\", fontsize=16)\n",
    "quadrupole.set_ylabel(r\"$\\Delta P_2(k) / P_\\mathrm{m}(k)$\", fontsize=16)\n",
    "\n",
    "plt.subplots_adjust(wspace=0, hspace=0)"
   ]
  }
 ],
 "metadata": {
  "kernelspec": {
   "display_name": "Python 3",
   "language": "python",
   "name": "python3"
  },
  "language_info": {
   "codemirror_mode": {
    "name": "ipython",
    "version": 2
   },
   "file_extension": ".py",
   "mimetype": "text/x-python",
   "name": "python",
   "nbconvert_exporter": "python",
   "pygments_lexer": "ipython2",
   "version": "2.7.5"
  }
 },
 "nbformat": 4,
 "nbformat_minor": 2
}
