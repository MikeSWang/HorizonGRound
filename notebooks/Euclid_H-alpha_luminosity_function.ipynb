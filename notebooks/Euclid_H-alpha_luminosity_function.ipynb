{
 "cells": [
  {
   "cell_type": "markdown",
   "metadata": {},
   "source": [
    "# *Euclid* H&alpha; Emitter Luminosity Function"
   ]
  },
  {
   "cell_type": "markdown",
   "metadata": {},
   "source": [
    "Initiate notebook."
   ]
  },
  {
   "cell_type": "code",
   "execution_count": 1,
   "metadata": {},
   "outputs": [],
   "source": [
    "from collections import OrderedDict\n",
    "from pprint import pprint\n",
    "\n",
    "import matplotlib\n",
    "import matplotlib.pyplot as plt\n",
    "import numpy as np\n",
    "import seaborn as sns\n",
    "from mpl_toolkits import mplot3d\n",
    "\n",
    "from config import use_local_package\n",
    "\n",
    "use_local_package(\"../../HorizonGRound/\")\n",
    "\n",
    "from horizonground.luminosity import (\n",
    "    LuminosityFunctionModeller,\n",
    "    alpha_emitter_luminosity_schechter_model,\n",
    ")"
   ]
  },
  {
   "cell_type": "markdown",
   "metadata": {},
   "source": [
    "Define parameter ranges."
   ]
  },
  {
   "cell_type": "code",
   "execution_count": 2,
   "metadata": {},
   "outputs": [],
   "source": [
    "REDSHIFT_RANGE = 0., 3.\n",
    "LOG10_LUMINOSITY_RANGE = 39.0, 44.0\n",
    "DENSITY_RANGE = None, None"
   ]
  },
  {
   "cell_type": "markdown",
   "metadata": {},
   "source": [
    "## Luminosity function model"
   ]
  },
  {
   "cell_type": "markdown",
   "metadata": {},
   "source": [
    "Specify luminosity function model."
   ]
  },
  {
   "cell_type": "code",
   "execution_count": null,
   "metadata": {},
   "outputs": [],
   "source": [
    "modeller = LuminosityFunctionModeller.from_parameters_file(\n",
    "    alpha_emitter_luminosity_schechter_model,\n",
    "    threshold=-21.80,\n",
    "    brightness_variable='magnitude',\n",
    "    file_path=\"../data/input/Schechter_model_fits.txt\"\n",
    ")\n",
    "\n",
    "luminosity_function_model = modeller.luminosity_function"
   ]
  }
 ],
 "metadata": {
  "kernelspec": {
   "display_name": "Python 3",
   "language": "python",
   "name": "python3"
  },
  "language_info": {
   "codemirror_mode": {
    "name": "ipython",
    "version": 2
   },
   "file_extension": ".py",
   "mimetype": "text/x-python",
   "name": "python",
   "nbconvert_exporter": "python",
   "pygments_lexer": "ipython2",
   "version": "2.7.5"
  }
 },
 "nbformat": 4,
 "nbformat_minor": 2
}
