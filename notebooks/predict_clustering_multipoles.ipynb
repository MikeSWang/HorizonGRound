{
 "cells": [
  {
   "cell_type": "markdown",
   "metadata": {},
   "source": [
    "# Prediction of Large-Scale Power Spectrum Multipoles"
   ]
  },
  {
   "cell_type": "markdown",
   "metadata": {},
   "source": [
    "Start in the appropriate notebook directory."
   ]
  },
  {
   "cell_type": "code",
   "execution_count": 1,
   "metadata": {},
   "outputs": [],
   "source": [
    "# %cd /mnt/lustre/mikewang/projects/HorizonGRound/notebooks/"
   ]
  },
  {
   "cell_type": "markdown",
   "metadata": {},
   "source": [
    "Import the appropriate packages."
   ]
  },
  {
   "cell_type": "code",
   "execution_count": 2,
   "metadata": {},
   "outputs": [
    {
     "name": "stdout",
     "output_type": "stream",
     "text": [
      "Selected: hybrid_model\n"
     ]
    }
   ],
   "source": [
    "import glob\n",
    "import os\n",
    "import re\n",
    "from collections import defaultdict\n",
    "\n",
    "import corner\n",
    "import h5py\n",
    "import matplotlib.pyplot as plt\n",
    "import numpy as np\n",
    "from IPython.display import display, Math\n",
    "from astropy.constants import c\n",
    "from astropy.cosmology import Planck15\n",
    "from matplotlib.ticker import AutoMinorLocator\n",
    "from nbodykit.cosmology import LinearPower, Planck15 as Planck_15\n",
    "\n",
    "\n",
    "from conf import PATHOUT\n",
    "from horizonground.clustering_modification import (\n",
    "    non_gaussianity_correction_factor,\n",
    "    relativistic_correction_factor,\n",
    "    standard_kaiser_factor,\n",
    ")\n",
    "\n",
    "os.environ['HDF5_USE_FILE_LOCKING'] = 'FALSE'\n",
    "\n",
    "model = np.random.choice(['PLE_model', 'hybrid_model'])\n",
    "publication_dir = PATHOUT/\"publication\"/model\n",
    "\n",
    "print(\"Selected:\", model)"
   ]
  },
  {
   "cell_type": "markdown",
   "metadata": {},
   "source": [
    "Set fiducial values."
   ]
  },
  {
   "cell_type": "code",
   "execution_count": 3,
   "metadata": {},
   "outputs": [],
   "source": [
    "FIDUCIAL_REDSHIFT = 2.0\n",
    "FIDUCIAL_LINEAR_BIAS = 1.2 / Planck_15.scale_independent_growth_factor(FIDUCIAL_REDSHIFT)\n",
    "FIDUCIAL_NON_GAUSSNIANTY = 1.\n",
    "FIDUCIAL_WAVENUMBERS = np.logspace(-4., -1., num=60+1)"
   ]
  },
  {
   "cell_type": "code",
   "execution_count": 4,
   "metadata": {},
   "outputs": [
    {
     "data": {
      "text/latex": [
       "$\\displaystyle \\text{Linear tracer bias } b_1 = 2.86.$"
      ],
      "text/plain": [
       "<IPython.core.display.Math object>"
      ]
     },
     "metadata": {},
     "output_type": "display_data"
    }
   ],
   "source": [
    "display(Math(r\"\\text{{Linear tracer bias }} b_1 = {:.2f}.\".format(FIDUCIAL_LINEAR_BIAS)))"
   ]
  },
  {
   "cell_type": "markdown",
   "metadata": {},
   "source": [
    "## Relativistic correction quantiles"
   ]
  },
  {
   "cell_type": "code",
   "execution_count": 5,
   "metadata": {},
   "outputs": [],
   "source": [
    "chain_files = glob.glob(\"/\".join([\n",
    "    str(publication_dir), \"dense_points\", \"correction\", \"relcrct_z{:.2f}*\".format(FIDUCIAL_REDSHIFT)\n",
    "]))"
   ]
  },
  {
   "cell_type": "code",
   "execution_count": 6,
   "metadata": {},
   "outputs": [],
   "source": [
    "quantile_levels = [0.022750, 0.158655, 0.5, 0.841345, 0.977250]"
   ]
  },
  {
   "cell_type": "code",
   "execution_count": 7,
   "metadata": {},
   "outputs": [],
   "source": [
    "gz_quantiles = defaultdict(list)\n",
    "for chain_file in chain_files:\n",
    "    with h5py.File(chain_file, 'r') as chain_data:\n",
    "        distilled = chain_data['distill/chain'][()]\n",
    "        gz_square_q = corner.quantile(np.square(distilled), q=quantile_levels)\n",
    "    for sigma_level_idx, sigma_level in enumerate([-2, -1, 0, 1, 2]):\n",
    "        gz_quantiles[sigma_level].append(np.sqrt(gz_square_q[sigma_level_idx]))"
   ]
  },
  {
   "cell_type": "code",
   "execution_count": 8,
   "metadata": {},
   "outputs": [
    {
     "data": {
      "text/latex": [
       "$\\displaystyle \\text{Estimate of relativistic correction function } \\mathcal{H}\\chi g(z=2.0) = 0.48.$"
      ],
      "text/plain": [
       "<IPython.core.display.Math object>"
      ]
     },
     "metadata": {},
     "output_type": "display_data"
    },
    {
     "data": {
      "text/latex": [
       "$\\displaystyle \\text{Estimate of relativistic correction function } g(z=2.0) = 0.13.$"
      ],
      "text/plain": [
       "<IPython.core.display.Math object>"
      ]
     },
     "metadata": {},
     "output_type": "display_data"
    }
   ],
   "source": [
    "inv_H = c.to('km/s') * Planck15.h / Planck15.H(FIDUCIAL_REDSHIFT)\n",
    "chi = Planck15.h * Planck15.comoving_distance(FIDUCIAL_REDSHIFT)\n",
    "\n",
    "display(Math(\n",
    "    r\"\\text{{Estimate of relativistic correction function }} \\mathcal{{H}}\\chi g(z={}) = {:.2f}.\"\n",
    "    .format(FIDUCIAL_REDSHIFT, gz_quantiles[0][0] * chi.value)\n",
    "))\n",
    "display(Math(\n",
    "    r\"\\text{{Estimate of relativistic correction function }} g(z={}) = {:.2f}.\"\n",
    "    .format(FIDUCIAL_REDSHIFT, gz_quantiles[0][0] * inv_H.value)\n",
    "))"
   ]
  },
  {
   "cell_type": "markdown",
   "metadata": {},
   "source": [
    "## Modified clustering multipoles"
   ]
  },
  {
   "cell_type": "code",
   "execution_count": 9,
   "metadata": {},
   "outputs": [],
   "source": [
    "matter_power_spectrum = LinearPower(Planck15, FIDUCIAL_REDSHIFT)(FIDUCIAL_WAVENUMBERS)"
   ]
  },
  {
   "cell_type": "code",
   "execution_count": 10,
   "metadata": {},
   "outputs": [],
   "source": [
    "RSD_multipoles = {\n",
    "    ell: standard_kaiser_factor(\n",
    "        ell, FIDUCIAL_LINEAR_BIAS, FIDUCIAL_REDSHIFT, cosmo=Planck_15\n",
    "    ) * matter_power_spectrum\n",
    "    for ell in [0, 2]\n",
    "}"
   ]
  },
  {
   "cell_type": "code",
   "execution_count": 11,
   "metadata": {},
   "outputs": [],
   "source": [
    "PNG_multipoles = {\n",
    "    ell: RSD_multipoles[ell] + non_gaussianity_correction_factor(\n",
    "        FIDUCIAL_WAVENUMBERS, ell, \n",
    "        FIDUCIAL_NON_GAUSSNIANTY, FIDUCIAL_LINEAR_BIAS, FIDUCIAL_REDSHIFT,\n",
    "        cosmo=Planck_15, tracer_p=1.6\n",
    "    ) * matter_power_spectrum\n",
    "    for ell in [0, 2]\n",
    "}\n",
    "\n",
    "PNG_multipoles_upper = {\n",
    "    ell: RSD_multipoles[ell] + non_gaussianity_correction_factor(\n",
    "        FIDUCIAL_WAVENUMBERS, ell, \n",
    "        FIDUCIAL_NON_GAUSSNIANTY + 1., FIDUCIAL_LINEAR_BIAS, FIDUCIAL_REDSHIFT,\n",
    "        cosmo=Planck_15, tracer_p=1.6\n",
    "    ) * matter_power_spectrum\n",
    "    for ell in [0, 2]\n",
    "}\n",
    "\n",
    "PNG_multipoles_lower = {\n",
    "    ell: RSD_multipoles[ell] + non_gaussianity_correction_factor(\n",
    "        FIDUCIAL_WAVENUMBERS, ell, \n",
    "        FIDUCIAL_NON_GAUSSNIANTY - 1., FIDUCIAL_LINEAR_BIAS, FIDUCIAL_REDSHIFT,\n",
    "        cosmo=Planck_15, tracer_p=1.6\n",
    "    ) * matter_power_spectrum\n",
    "    for ell in [0, 2]\n",
    "}"
   ]
  },
  {
   "cell_type": "code",
   "execution_count": 12,
   "metadata": {},
   "outputs": [],
   "source": [
    "GR_multipoles = {\n",
    "    ell: RSD_multipoles[ell] + relativistic_correction_factor(\n",
    "        FIDUCIAL_WAVENUMBERS, ell, FIDUCIAL_REDSHIFT,\n",
    "        correction_value=np.asarray(gz_quantiles[0]),\n",
    "        cosmo=Planck_15\n",
    "    ) * matter_power_spectrum\n",
    "    for ell in [0, 2]\n",
    "}\n",
    "\n",
    "GR_multipoles_lower = {\n",
    "    ell: RSD_multipoles[ell] + relativistic_correction_factor(\n",
    "        FIDUCIAL_WAVENUMBERS, ell, FIDUCIAL_REDSHIFT,\n",
    "        correction_value=np.asarray(gz_quantiles[-2]),\n",
    "        cosmo=Planck_15\n",
    "    ) * matter_power_spectrum\n",
    "    for ell in [0, 2]\n",
    "}\n",
    "\n",
    "GR_multipoles_upper = {\n",
    "    ell: RSD_multipoles[ell] + relativistic_correction_factor(\n",
    "        FIDUCIAL_WAVENUMBERS, ell, FIDUCIAL_REDSHIFT,\n",
    "        correction_value=np.asarray(gz_quantiles[2]),\n",
    "        cosmo=Planck_15\n",
    "    ) * matter_power_spectrum\n",
    "    for ell in [0, 2]\n",
    "}"
   ]
  },
  {
   "cell_type": "code",
   "execution_count": 13,
   "metadata": {
    "scrolled": false
   },
   "outputs": [
    {
     "data": {
      "image/png": "[encoded data removed]",
      "text/plain": [
       "<Figure size 480x525 with 2 Axes>"
      ]
     },
     "metadata": {
      "needs_background": "light"
     },
     "output_type": "display_data"
    }
   ],
   "source": [
    "ALPHA = 0.25\n",
    "\n",
    "monopole_divisor = 1.  # 1. / FIDUCIAL_WAVENUMBERS  # RSD_multipoles[0]\n",
    "quadrupole_divisor = 1.  # 1. / FIDUCIAL_WAVENUMBERS  # RSD_multipoles[2]\n",
    "scaling = 'log'  # 'log' # 'linear'\n",
    "\n",
    "fig = plt.figure(\"clustering multipoles\", figsize=(3.2, 3.5), dpi=150)\n",
    "\n",
    "horizon_scale = Planck15.scale_factor(FIDUCIAL_REDSHIFT) * Planck15.H(FIDUCIAL_REDSHIFT) / c.to('km/s')\n",
    "\n",
    "monopole = plt.subplot2grid((2, 1), (0, 0))\n",
    "\n",
    "monopole.loglog(\n",
    "    FIDUCIAL_WAVENUMBERS, RSD_multipoles[0] / monopole_divisor,\n",
    "    c='k', zorder=0\n",
    ")\n",
    "monopole.loglog(\n",
    "    FIDUCIAL_WAVENUMBERS, PNG_multipoles[0] / monopole_divisor,\n",
    "    ls='-.', c='#1A85FF', zorder=-1\n",
    ")\n",
    "monopole.loglog(\n",
    "    FIDUCIAL_WAVENUMBERS, GR_multipoles[0] / monopole_divisor,\n",
    "    ls='--', c='#D41159', zorder=-2\n",
    ")\n",
    "\n",
    "monopole.fill_between(\n",
    "    FIDUCIAL_WAVENUMBERS,\n",
    "    GR_multipoles_lower[0] / monopole_divisor,\n",
    "    GR_multipoles_upper[0] / monopole_divisor,\n",
    "    facecolor='#D41159', edgecolor='None', alpha=ALPHA, zorder=-3\n",
    ")\n",
    "\n",
    "monopole.axvline(x=horizon_scale.value, ls=':', c='0.5')\n",
    "\n",
    "monopole.tick_params(axis='x', which='both', labelbottom=False)\n",
    "monopole.set_xlim(min(FIDUCIAL_WAVENUMBERS), max(FIDUCIAL_WAVENUMBERS))\n",
    "monopole.set_yscale(scaling)\n",
    "monopole.set_ylabel(r\"$P_0(k)\\ [(\\mathrm{Mpc}/h)^3]$\")\n",
    "\n",
    "quadrupole = plt.subplot2grid((2, 1), (1, 0), sharex=monopole)\n",
    "\n",
    "quadrupole.loglog(\n",
    "    FIDUCIAL_WAVENUMBERS, RSD_multipoles[2] / quadrupole_divisor, \n",
    "    c='k', zorder=0, label=\"Kaiser RSD\"\n",
    ")\n",
    "quadrupole.loglog(\n",
    "    FIDUCIAL_WAVENUMBERS, PNG_multipoles[2] / quadrupole_divisor,\n",
    "    ls='-.', c='#1A85FF', zorder=-1, label=r\"+ $f_\\mathrm{NL} = 1$ only\"\n",
    ")\n",
    "quadrupole.loglog(\n",
    "    FIDUCIAL_WAVENUMBERS, GR_multipoles[2] / quadrupole_divisor,\n",
    "    ls='--', c='#D41159', zorder=-2, label=\"+ relativistic only\"\n",
    ")\n",
    "quadrupole.fill_between(\n",
    "    FIDUCIAL_WAVENUMBERS,\n",
    "    GR_multipoles_lower[2] / quadrupole_divisor, \n",
    "    GR_multipoles_upper[2] / quadrupole_divisor,\n",
    "    facecolor='#D41159', edgecolor='None', alpha=ALPHA, zorder=-3\n",
    ")\n",
    "\n",
    "quadrupole.axvline(x=horizon_scale.value, ls=':', c='0.5')\n",
    "\n",
    "quadrupole.legend(handlelength=1.4)\n",
    "quadrupole.set_yscale(scaling)\n",
    "quadrupole.set_xlabel(r\"$k$ [$h$/Mpc]\")\n",
    "quadrupole.set_ylabel(r\"$P_2(k)\\ [(\\mathrm{Mpc}/h)^3]$\")\n",
    "\n",
    "fig.savefig(publication_dir/\"gallery\"/\"clustering_multipoles.pdf\")"
   ]
  }
 ],
 "metadata": {
  "kernelspec": {
   "display_name": "Python 3",
   "language": "python",
   "name": "python3"
  },
  "language_info": {
   "codemirror_mode": {
    "name": "ipython",
    "version": 3
   },
   "file_extension": ".py",
   "mimetype": "text/x-python",
   "name": "python",
   "nbconvert_exporter": "python",
   "pygments_lexer": "ipython3",
   "version": "3.7.5"
  }
 },
 "nbformat": 4,
 "nbformat_minor": 2
}
